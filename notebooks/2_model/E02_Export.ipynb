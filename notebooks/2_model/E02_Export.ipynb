{
 "cells": [
  {
   "cell_type": "code",
   "execution_count": 17,
   "id": "655670f5",
   "metadata": {},
   "outputs": [
    {
     "name": "stdout",
     "output_type": "stream",
     "text": [
      "{'scenario': 'orchestrator2', 'training_folder': '../..', 'params': {'general': {}}}\n"
     ]
    }
   ],
   "source": [
    "import sys\n",
    "import os\n",
    "import json\n",
    "import boto3\n",
    "from io import StringIO\n",
    "import pandas as pd\n",
    "#if argv['params']['general'].get('scenario_path_S3') contains immense s3 path (ex: uuid-123-456-789/)\n",
    "params = {'general':{}}\n",
    "default = {'scenario':'orchestrator2','training_folder': '../..', 'params': params} # Default execution parameters\n",
    "# here sceneario: demand is only use not on lambda.\n",
    "manual, argv = (True, default) if 'ipykernel' in sys.argv[0] else (False, dict(default, **json.loads(sys.argv[1])))\n",
    "print(argv)"
   ]
  },
  {
   "cell_type": "code",
   "execution_count": null,
   "id": "78069890",
   "metadata": {},
   "outputs": [],
   "source": [
    "training_folder = argv['training_folder']\n",
    "output_folder = training_folder + '/outputs/'\n",
    "#output_folder = training_folder + '/scenarios/' + argv['scenario'] + '/outputs/'\n",
    "\n",
    "volumes = pd.read_csv(output_folder+'volumes.csv')\n",
    "volumes = volumes.set_index('index')"
   ]
  },
  {
   "cell_type": "code",
   "execution_count": 15,
   "id": "4029fa6e",
   "metadata": {},
   "outputs": [],
   "source": [
    "if argv['params']['general'].get('scenario_path_S3'):\n",
    "\n",
    "\n",
    "    s3_path = argv['params']['general'].get('scenario_path_S3')\n",
    "    session = boto3.Session(region_name='eu-west-1')\n",
    "    s3 = session.client('s3')\n",
    "    \n",
    "    csv_buffer = StringIO()\n",
    "    volumes.to_csv(csv_buffer)\n",
    "\n",
    "    s3.put_object(Body=csv_buffer.getvalue(),\n",
    "                  Bucket='ir-dev-external-shared-eu-west-1-common', \n",
    "                  Key=os.path.join('quetzal',s3_path,'outputs/volumes.csv'),\n",
    "                  ACL='bucket-owner-full-control' )"
   ]
  },
  {
   "cell_type": "code",
   "execution_count": null,
   "id": "89ea5143",
   "metadata": {},
   "outputs": [],
   "source": []
  }
 ],
 "metadata": {
  "kernelspec": {
   "display_name": "quetzal_env",
   "language": "python",
   "name": "quetzal_env"
  },
  "language_info": {
   "codemirror_mode": {
    "name": "ipython",
    "version": 3
   },
   "file_extension": ".py",
   "mimetype": "text/x-python",
   "name": "python",
   "nbconvert_exporter": "python",
   "pygments_lexer": "ipython3",
   "version": "3.8.6"
  }
 },
 "nbformat": 4,
 "nbformat_minor": 5
}
