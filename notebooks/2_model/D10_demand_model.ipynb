{
 "cells": [
  {
   "cell_type": "markdown",
   "metadata": {},
   "source": [
    "# Start"
   ]
  },
  {
   "cell_type": "code",
   "execution_count": 1,
   "metadata": {},
   "outputs": [
    {
     "name": "stdout",
     "output_type": "stream",
     "text": [
      "{'scenario': 'orchestrator2', 'training_folder': '../..', 'params': {'general': {'periods': ['am', 'pm', 'ip', 'op']}}}\n"
     ]
    }
   ],
   "source": [
    "import sys\n",
    "import json\n",
    "#if argv['params']['general'].get('scenario_path_S3') contains immense s3 path (ex: uuid-123-456-789/)\n",
    "params = {'general':{'periods':['am','pm','ip','op']}}\n",
    "default = {'scenario':'orchestrator2','training_folder': '../..', 'params': params} # Default execution parameters\n",
    "# here sceneario: demand is only use not on lambda.\n",
    "manual, argv = (True, default) if 'ipykernel' in sys.argv[0] else (False, dict(default, **json.loads(sys.argv[1])))\n",
    "print(argv)"
   ]
  },
  {
   "cell_type": "code",
   "execution_count": 2,
   "metadata": {},
   "outputs": [],
   "source": [
    "\n",
    "import pandas as pd\n",
    "import geopandas as gpd\n",
    "import numpy as np\n",
    "import os\n",
    "import simplejson\n",
    "import seaborn as sns\n",
    "import io\n",
    "import PIL\n",
    "import matplotlib.pyplot as plt\n"
   ]
  },
  {
   "cell_type": "code",
   "execution_count": 3,
   "metadata": {},
   "outputs": [
    {
     "name": "stdout",
     "output_type": "stream",
     "text": [
      "On Lambda :  False\n",
      "input folder:  ['../../inputs/am/', '../../inputs/pm/', '../../inputs/ip/', '../../inputs/op/']\n",
      "output folder:  ../../scenarios/orchestrator2/outputs/\n",
      "scen folder :  ['../../scenarios/am/', '../../scenarios/pm/', '../../scenarios/ip/', '../../scenarios/op/']\n"
     ]
    }
   ],
   "source": [
    "periods = argv['params']['general']['periods']\n",
    "on_lambda = bool(os.environ.get('AWS_EXECUTION_ENV'))\n",
    "print('On Lambda : ', on_lambda)\n",
    "training_folder = argv['training_folder']\n",
    "input_folder = training_folder +r'/inputs/'\n",
    "if on_lambda:\n",
    "    bucket_name = 'quetzal-immense' #os.environ.get('BUCKET_NAME')\n",
    "    output_folder = training_folder + '/outputs/'\n",
    "    scenario_folder = training_folder + '/inputs/'\n",
    "    scenario_folders = []\n",
    "    input_folders = []\n",
    "    for p in periods:\n",
    "        folder = 's3://' + bucket_name + '/' + p + '/'\n",
    "        scenario_folders.append(folder)\n",
    "        input_folders.append(input_folder + p + '/')\n",
    "\n",
    "else:\n",
    "    output_folder = training_folder + '/scenarios/' + argv['scenario'] + '/outputs/'\n",
    "    scenario_folder = training_folder + '/scenarios/' + argv['scenario'] + '/inputs/'\n",
    "    scenario_folders = []\n",
    "    input_folders = []\n",
    "    for p in periods:\n",
    "        folder = training_folder + '/scenarios/' + p + '/'\n",
    "        scenario_folders.append(folder)\n",
    "        input_folders.append(input_folder + p + '/')\n",
    "    \n",
    "print('input folder: ', input_folders)\n",
    "print('output folder: ', output_folder)\n",
    "print('scen folder : ', scenario_folders)\n",
    "\n",
    "if not os.path.exists(output_folder):\n",
    "    os.makedirs(output_folder)"
   ]
  },
  {
   "cell_type": "code",
   "execution_count": null,
   "metadata": {},
   "outputs": [],
   "source": []
  },
  {
   "cell_type": "markdown",
   "metadata": {},
   "source": [
    "# import matrix and modifiy to the right form"
   ]
  },
  {
   "cell_type": "code",
   "execution_count": 4,
   "metadata": {},
   "outputs": [],
   "source": [
    "def add_index(df,name_column,list_values):\n",
    "    final = pd.DataFrame()\n",
    "    for a in list_values:\n",
    "        df_copy = df.copy()\n",
    "        df_copy[name_column] = a\n",
    "        final = pd.concat([df_copy,final])\n",
    "    return(final)\n",
    "def change_matrix_time(df):\n",
    "    df = df[df[\"origin\"] != df[\"destination\"] ]\n",
    "    df.loc[df[\"vehicle_class\"].isin(['C_other', 'C_EB']),\"mode\"] = \"voiture\"\n",
    "    df.loc[df[\"mode\"] == \"voiture\",\"sub_mode\"] = \"vp\"\n",
    "    df.loc[df[\"vehicle_class\"].isin(['BPAX', 'RPAX']),\"mode\"] = \"tc\"\n",
    "    df.loc[df[\"vehicle_class\"] == \"BPAX\",\"sub_mode\"] = \"autocar\"\n",
    "    df.loc[df[\"vehicle_class\"] == \"RPAX\",\"sub_mode\"] = \"rail\"\n",
    "\n",
    "    #df = df.groupby([\"origin\",\"destination\",\"time_period\",\"mode\",\"sub_mode\"])[[\"time\"]].mean().reset_index()\n",
    "\n",
    "    tc_seg = add_index(df.loc[df[\"mode\"] == \"tc\"],\"segment\",[11,12,13,14,15])\n",
    "    \n",
    "    all_seg = add_index(df,\"segment\",[i for i in range(11)])\n",
    "    df = pd.concat([tc_seg,all_seg ])\n",
    "#only C_EB can be seg 7 in car \n",
    "    df = df.loc[~((df[\"vehicle_class\"] == \"C_EB\") & (df[\"segment\"] != 7))]\n",
    "    df = df.loc[~((df[\"vehicle_class\"] == \"C_other\") & (df[\"segment\"] == 7))]\n",
    "    df[\"period\"] = df[\"time_period\"]\n",
    "    return(df.set_index([\"origin\",\"destination\",\"period\",\"mode\",\"sub_mode\",\"segment\"])[\"time\"])\n",
    "def change_matrix_volume(csv):\n",
    "    \n",
    "    df = pd.read_csv(input_folder + csv)\n",
    "    df = df[df[\"origin\"] != df[\"destination\"] ]\n",
    "    df = df.groupby([\"origin\",\"destination\",\"time_period\",\"vehicle_class\"])[[\"volume\"]].sum().reset_index()\n",
    "    df[\"origin\"] = \"zone_\" + df[\"origin\"].astype(str)\n",
    "    df[\"destination\"] = \"zone_\" + df[\"destination\"].astype(str)\n",
    "    od_set = set(zip(df['origin'],df['destination'],df['time_period'],df['vehicle_class']))\n",
    "    df.loc[df[\"vehicle_class\"].isin(['C_other', 'C_EB']),\"mode\"] = \"voiture\"\n",
    "    df.loc[df[\"mode\"] == \"voiture\",\"sub_mode\"] = \"vp\"\n",
    "    df.loc[df[\"vehicle_class\"].isin(['BPAX', 'RPAX']),\"mode\"] = \"tc\"\n",
    "    df.loc[df[\"vehicle_class\"] == \"BPAX\",\"sub_mode\"] = \"autocar\"\n",
    "    df.loc[df[\"vehicle_class\"] == \"RPAX\",\"sub_mode\"] = \"rail\"\n",
    "    df = df.groupby([\"origin\",\"destination\",\"time_period\",\"mode\",\"sub_mode\"])[[\"volume\"]].sum().reset_index()\n",
    "\n",
    "    tc_seg = add_index(df.loc[df[\"mode\"] == \"tc\"],\"segment\",[11,12,13,14,15])\n",
    "    \n",
    "    all_seg = add_index(df,\"segment\",[i for i in range(11)])\n",
    "    df = pd.concat([tc_seg,all_seg ])\n",
    "    \n",
    "#only C_EB can be seg 7 in car \n",
    "    #df = df.loc[~((df[\"vehicle_class\"] == \"C_EB\") & (df[\"segment\"] != 7))]\n",
    "    #\n",
    "    #df = df.loc[~((df[\"vehicle_class\"] == \"C_other\") & (df[\"segment\"] == 7))]\n",
    "    df[\"period\"] = df[\"time_period\"]\n",
    "    \n",
    "    return df.set_index([\"origin\",\"destination\",\"period\",\"mode\",\"sub_mode\",\"segment\"])[\"volume\"], od_set"
   ]
  },
  {
   "cell_type": "code",
   "execution_count": 5,
   "metadata": {},
   "outputs": [],
   "source": [
    "vol_ref, od_set = change_matrix_volume('base/volumes/volumes.csv')\n",
    "vol_ref = (vol_ref /vol_ref .reset_index().groupby([\"period\",\"mode\",\"sub_mode\",\"origin\",\"destination\"])[\"segment\"].count())"
   ]
  },
  {
   "cell_type": "code",
   "execution_count": null,
   "metadata": {},
   "outputs": [],
   "source": []
  },
  {
   "cell_type": "code",
   "execution_count": 6,
   "metadata": {},
   "outputs": [
    {
     "name": "stdout",
     "output_type": "stream",
     "text": [
      "am\n",
      "pm\n",
      "ip\n",
      "op\n"
     ]
    }
   ],
   "source": [
    "# concat PT skims\n",
    "period_dict={'am':'AM','pm':'PM','ip':'IP','op':'OP'}\n",
    "cols = ['origin', 'destination', 'time_period', 'vehicle_class', 'time']\n",
    "skim = pd.DataFrame()\n",
    "ref_skim = pd.DataFrame()\n",
    "for period, ref_folder, scen_folder in zip(periods,input_folders,scenario_folders):\n",
    "    print(period)\n",
    "    ref_pt_skim = pd.read_csv(scen_folder+'outputs/ref_pt_skim.csv')\n",
    "    pt_skim = pd.read_csv(scen_folder+'outputs/pt_skim.csv')\n",
    "    \n",
    "    ref_pt_skim['time_period'] = period_dict[period]\n",
    "    pt_skim['time_period'] = period_dict[period]\n",
    "\n",
    "    ref_skim = pd.concat([ref_skim, ref_pt_skim[cols]])\n",
    "    skim = pd.concat([skim, pt_skim[cols]])"
   ]
  },
  {
   "cell_type": "code",
   "execution_count": null,
   "metadata": {},
   "outputs": [],
   "source": []
  },
  {
   "cell_type": "code",
   "execution_count": 7,
   "metadata": {},
   "outputs": [],
   "source": [
    "# get car skims\n",
    "ref_car_skim = pd.read_csv(input_folder+ 'base/road_skims.csv')\n",
    "car_skim = pd.read_csv(scenario_folder+'road_skims.csv')\n",
    "\n",
    "\n",
    "ref_car_skim['origin'] = 'zone_' + ref_car_skim['origin'].astype(str)\n",
    "ref_car_skim['destination'] = 'zone_' + ref_car_skim['destination'].astype(str)\n",
    "\n",
    "car_skim['origin'] = 'zone_' + car_skim['origin'].astype(str)\n",
    "car_skim['destination'] = 'zone_' + car_skim['destination'].astype(str)"
   ]
  },
  {
   "cell_type": "code",
   "execution_count": 8,
   "metadata": {},
   "outputs": [
    {
     "name": "stderr",
     "output_type": "stream",
     "text": [
      "/tmp/ipykernel_181685/2665160603.py:6: FutureWarning: Passing a set as an indexer is deprecated and will raise in a future version. Use a list instead.\n",
      "  skim = skim.set_index(['origin','destination','time_period','vehicle_class']).loc[od_set].reset_index()\n",
      "/tmp/ipykernel_181685/2665160603.py:7: FutureWarning: Passing a set as an indexer is deprecated and will raise in a future version. Use a list instead.\n",
      "  ref_skim = ref_skim.set_index(['origin','destination','time_period','vehicle_class']).loc[od_set].reset_index()\n"
     ]
    }
   ],
   "source": [
    "# format skims\n",
    "cols = ['origin', 'destination', 'time_period', 'vehicle_class', 'time','distance']\n",
    "ref_skim = pd.concat([ref_skim, ref_car_skim[cols]])\n",
    "skim = pd.concat([skim, car_skim[cols]])\n",
    "\n",
    "skim = skim.set_index(['origin','destination','time_period','vehicle_class']).loc[od_set].reset_index()\n",
    "ref_skim = ref_skim.set_index(['origin','destination','time_period','vehicle_class']).loc[od_set].reset_index()\n"
   ]
  },
  {
   "cell_type": "code",
   "execution_count": null,
   "metadata": {},
   "outputs": [],
   "source": []
  },
  {
   "cell_type": "code",
   "execution_count": 9,
   "metadata": {},
   "outputs": [],
   "source": [
    "time_ref = change_matrix_time(ref_skim)/60\n",
    "time_proj  = change_matrix_time(skim)/60"
   ]
  },
  {
   "cell_type": "markdown",
   "metadata": {},
   "source": [
    "## essai elasticite test"
   ]
  },
  {
   "cell_type": "markdown",
   "metadata": {},
   "source": [
    "time_proj = time_ref.copy()\n",
    "time_proj[time_proj.index.get_level_values(\"mode\") == \"voiture\"] = time_proj[time_proj.index.get_level_values(\"mode\") == \"voiture\"] + time_proj[time_proj.index.get_level_values(\"mode\") == \"voiture\"]*0.2"
   ]
  },
  {
   "cell_type": "markdown",
   "metadata": {},
   "source": [
    "time_proj = pd.read_csv(input_folder +'time_proj.csv') .groupby([\"origin\",\"destination\",\"sub_mode\",\"mode\",\"segment\",\"period\"])[\"time\"].min()\n",
    "time_ref = pd.read_csv(input_folder +'time_ref.csv').groupby([\"origin\",\"destination\",\"sub_mode\",\"mode\",\"segment\",\"period\"])[\"time\"].min()\n",
    "vol_ref = pd.read_csv(input_folder +'vol_ref.csv').set_index([\"origin\",\"destination\",\"sub_mode\",\"mode\",\"segment\",\"period\"])[\"volume\"]\n",
    "vol_ref = vol_ref.loc[vol_ref > 0]"
   ]
  },
  {
   "cell_type": "markdown",
   "metadata": {},
   "source": [
    "## différence utility"
   ]
  },
  {
   "cell_type": "markdown",
   "metadata": {},
   "source": [
    "#### we are going to do the difference of utility starting by the micro level"
   ]
  },
  {
   "cell_type": "code",
   "execution_count": null,
   "metadata": {},
   "outputs": [],
   "source": []
  },
  {
   "cell_type": "code",
   "execution_count": 10,
   "metadata": {},
   "outputs": [
    {
     "data": {
      "image/png": "[encoded data removed]",
      "text/plain": [
       "<IPython.core.display.Image object>"
      ]
     },
     "execution_count": 10,
     "metadata": {},
     "output_type": "execute_result"
    }
   ],
   "source": [
    "# Utility sub\n",
    "from IPython.display import Image\n",
    "Image(filename='../../inputs/base/images/utility_sub.PNG') "
   ]
  },
  {
   "cell_type": "code",
   "execution_count": 11,
   "metadata": {},
   "outputs": [],
   "source": [
    "vol_ref.name = \"volumes\"\n",
    "time_ref.name = \"time_ref\""
   ]
  },
  {
   "cell_type": "code",
   "execution_count": 12,
   "metadata": {},
   "outputs": [],
   "source": [
    "import math\n",
    "# mettre sous forme csv \n",
    "dico_sub = {\"rail\" : -0.05, \"autocar\" : - 0.05, \"vp\" : -0.1}#, \"p+r\" : -0.1}\n",
    "sub = pd.Series(dico_sub)\n",
    "sub.index.name = \"sub_mode\"\n",
    "delta_utility_ijpcmts = (time_proj - time_ref)\n",
    "delta_utility_ijpcmts_factor = delta_utility_ijpcmts * sub\n",
    "delta_utility_ijpcmts_factor_e = np.exp(delta_utility_ijpcmts_factor)\n",
    "#on ajoute des temps nuls pour les zones avec vol mais pas de temps\n",
    "delta_utility_ijpcmts_factor_e = delta_utility_ijpcmts_factor_e.reindex(vol_ref.index).fillna(1) \n"
   ]
  },
  {
   "cell_type": "markdown",
   "metadata": {},
   "source": [
    "# utility Destination Choice (sum over submodes)"
   ]
  },
  {
   "cell_type": "code",
   "execution_count": 13,
   "metadata": {},
   "outputs": [
    {
     "data": {
      "image/png": "[encoded data removed]",
      "text/plain": [
       "<IPython.core.display.Image object>"
      ]
     },
     "execution_count": 13,
     "metadata": {},
     "output_type": "execute_result"
    }
   ],
   "source": [
    "Image(filename=input_folder +'base/images/utility_dest.PNG') "
   ]
  },
  {
   "cell_type": "code",
   "execution_count": 14,
   "metadata": {},
   "outputs": [],
   "source": [
    "Tijpcmts_mult_0 = (vol_ref*delta_utility_ijpcmts_factor_e)\n",
    "# on fait >0 pour retirer les OD \n",
    "Tijpcmts_mult_0  = Tijpcmts_mult_0.loc[Tijpcmts_mult_0 > 0]\n",
    "s_Tijpcmts_mult_0 = Tijpcmts_mult_0.groupby(level = [\"origin\",\"destination\",\"segment\",\"mode\",\"period\"]).sum()\n",
    "Tijpcmt_0  = vol_ref.groupby(level = [\"origin\",\"destination\",\"segment\",\"mode\",\"period\"]).sum()\n",
    "delta_utility_ijpcmt = np.log(s_Tijpcmts_mult_0.div(Tijpcmt_0))"
   ]
  },
  {
   "cell_type": "code",
   "execution_count": 15,
   "metadata": {},
   "outputs": [],
   "source": [
    "def proportional_share(dataframe, level):\n",
    "    u = dataframe.unstack(level)\n",
    "    return u.div(u.sum(axis=1), axis=0)\n",
    "\n",
    "def multiply(series, dataframe):\n",
    "    multiplier = series.reorder_levels(dataframe.index.names).reindex(dataframe.index)\n",
    "    return dataframe.apply(lambda c: c*multiplier)\n",
    "\n",
    "def multiply_series(left, right):\n",
    "    return (left.sort_index() * right.sort_index()).reorder_levels(left.index.names)"
   ]
  },
  {
   "cell_type": "code",
   "execution_count": null,
   "metadata": {},
   "outputs": [],
   "source": []
  },
  {
   "cell_type": "code",
   "execution_count": 16,
   "metadata": {},
   "outputs": [],
   "source": [
    "segment = pd.read_csv(input_folder + \"base/segment.csv\",sep =';')\n",
    "param_destination = pd.read_csv(input_folder + \"base/parametre_destination.csv\",sep =';').merge(segment, on = \"purpose\").set_index([\"mode\",\"segment\"])[\"parameter\"]\n",
    "dico_mode = {\"voiture\" : 0.1, \"tc\" : 0.05}\n",
    "sub = pd.Series(dico_mode )\n",
    "sub.index.name = \"mode\"\n",
    "theta_destination = param_destination/sub"
   ]
  },
  {
   "cell_type": "code",
   "execution_count": 17,
   "metadata": {},
   "outputs": [],
   "source": [
    "delta_utility_ijpcmt_factor = multiply_series(delta_utility_ijpcmt, theta_destination)\n",
    "delta_utility_ijpcmt_factor_e = np.exp(delta_utility_ijpcmt_factor)\n",
    "delta_utility_ijpcmt_factor_e = delta_utility_ijpcmt_factor_e.loc[~delta_utility_ijpcmt_factor_e.isna()]"
   ]
  },
  {
   "cell_type": "markdown",
   "metadata": {},
   "source": [
    "#  utility Time period Choice ( sum over destination)"
   ]
  },
  {
   "cell_type": "code",
   "execution_count": 18,
   "metadata": {},
   "outputs": [
    {
     "data": {
      "image/png": "[encoded data removed]",
      "text/plain": [
       "<IPython.core.display.Image object>"
      ]
     },
     "execution_count": 18,
     "metadata": {},
     "output_type": "execute_result"
    }
   ],
   "source": [
    "# utility single constraint# tout sauf segment 7\n",
    "Image(filename=input_folder +'base/images/utility_single_constrain.PNG') "
   ]
  },
  {
   "cell_type": "code",
   "execution_count": 19,
   "metadata": {},
   "outputs": [],
   "source": [
    "Tijpcmt_mult_0 = multiply_series(Tijpcmt_0, delta_utility_ijpcmt_factor_e)# matrix dest is"
   ]
  },
  {
   "cell_type": "code",
   "execution_count": 20,
   "metadata": {},
   "outputs": [],
   "source": [
    "s_Tijpcmt_mult_0 = Tijpcmt_mult_0.groupby(level = [\"origin\",\"segment\",\"mode\",\"period\"]).sum()"
   ]
  },
  {
   "cell_type": "code",
   "execution_count": 21,
   "metadata": {},
   "outputs": [],
   "source": [
    "Tipcmt_0  = vol_ref.groupby(level = [\"origin\",\"segment\",\"mode\",\"period\"]).sum()\n",
    "delta_utility_ipcmt = np.log(s_Tijpcmt_mult_0/Tipcmt_0)"
   ]
  },
  {
   "cell_type": "code",
   "execution_count": 22,
   "metadata": {},
   "outputs": [],
   "source": [
    "param_period_mode = pd.read_csv(input_folder + \"base/parametre_period_mode.csv\",sep =';').merge(segment, on = \"purpose\").set_index([\"segment\"])[\"parameter\"]\n",
    "delta_utility_ipcmt_factor = delta_utility_ipcmt * param_period_mode\n",
    "delta_utility_ipcmt_factor_e = np.exp(delta_utility_ipcmt_factor)\n",
    "delta_utility_ipcmt_factor_e = delta_utility_ipcmt_factor_e.loc[~delta_utility_ipcmt_factor_e.isna()]"
   ]
  },
  {
   "cell_type": "markdown",
   "metadata": {},
   "source": [
    "# utility Main Mode Choice (sum over periods)"
   ]
  },
  {
   "cell_type": "code",
   "execution_count": 23,
   "metadata": {},
   "outputs": [
    {
     "data": {
      "image/png": "[encoded data removed]",
      "text/plain": [
       "<IPython.core.display.Image object>"
      ]
     },
     "execution_count": 23,
     "metadata": {},
     "output_type": "execute_result"
    }
   ],
   "source": [
    "# utility period\n",
    "Image(filename=input_folder +'base/images/utility_period.PNG') "
   ]
  },
  {
   "cell_type": "code",
   "execution_count": 24,
   "metadata": {},
   "outputs": [],
   "source": [
    "Tipcmt_mult_0 = (Tipcmt_0  * delta_utility_ipcmt_factor_e )# matrix dest is\n",
    "s_Tipcmt_mult_0 = Tipcmt_mult_0.groupby(level = [\"origin\",\"segment\",\"mode\"]).sum()\n",
    "Tipcm_0  = vol_ref.groupby(level = [\"origin\",\"segment\",\"mode\"]).sum()\n",
    "delta_utility_ipcm = np.log(s_Tipcmt_mult_0/Tipcm_0)"
   ]
  },
  {
   "cell_type": "code",
   "execution_count": 25,
   "metadata": {},
   "outputs": [],
   "source": [
    "delta_utility_ipcm_factor = delta_utility_ipcm * param_period_mode\n",
    "delta_utility_ipcm_factor_e = np.exp(delta_utility_ipcm_factor)\n",
    "delta_utility_ipcm_factor_e = delta_utility_ipcm_factor_e.loc[~delta_utility_ipcm_factor_e.isna()]"
   ]
  },
  {
   "cell_type": "markdown",
   "metadata": {},
   "source": [
    "# frequency Modelling (sum over mode)"
   ]
  },
  {
   "cell_type": "code",
   "execution_count": 26,
   "metadata": {},
   "outputs": [
    {
     "data": {
      "image/png": "[encoded data removed]",
      "text/plain": [
       "<IPython.core.display.Image object>"
      ]
     },
     "execution_count": 26,
     "metadata": {},
     "output_type": "execute_result"
    }
   ],
   "source": [
    "#utility frequency\n",
    "Image(filename=input_folder +'base/images/utility_frequency.PNG') "
   ]
  },
  {
   "cell_type": "code",
   "execution_count": 27,
   "metadata": {},
   "outputs": [],
   "source": [
    "# enfait c'est pas le deltat utility ipcm mais delta C \n",
    "#TODO verifier delta C est en fait deltat utility ipcm car sinon c'est pas sans unité\n",
    "Tipcm_mult_0 = (Tipcm_0  * delta_utility_ipcm_factor_e )# matrix dest is\n",
    "s_Tipcm_mult_0 = Tipcm_mult_0.groupby(level = [\"origin\",\"segment\"]).sum()\n",
    "Tipc_0 = vol_ref.groupby(level = [\"origin\",\"segment\"]).sum()\n",
    "delta_utility_ipc = np.log(s_Tipcm_mult_0/Tipc_0)"
   ]
  },
  {
   "cell_type": "code",
   "execution_count": 28,
   "metadata": {},
   "outputs": [],
   "source": [
    "# theta  = 0.05 selon atkins\n",
    "delta_utility_ipc_factor = delta_utility_ipc * 0.05\n",
    "delta_utility_ipc_factor_e = np.exp(delta_utility_ipc_factor)"
   ]
  },
  {
   "cell_type": "markdown",
   "metadata": {},
   "source": [
    "# Remontée pour volume\n"
   ]
  },
  {
   "cell_type": "code",
   "execution_count": 29,
   "metadata": {},
   "outputs": [],
   "source": [
    "#p is for projet\n",
    "Tipc = Tipc_0 * delta_utility_ipc_factor_e"
   ]
  },
  {
   "cell_type": "code",
   "execution_count": 30,
   "metadata": {},
   "outputs": [],
   "source": [
    "Tipcm = (Tipc * Tipcm_mult_0 / s_Tipcm_mult_0)\n",
    "assert(Tipcm.sum().round(0) == Tipc.sum().round(0)),\"not the same volume\"\n"
   ]
  },
  {
   "cell_type": "code",
   "execution_count": 31,
   "metadata": {},
   "outputs": [],
   "source": [
    "Tipcmt = (Tipcm * Tipcmt_mult_0 / s_Tipcmt_mult_0)\n",
    "assert(Tipcmt.sum().round(0) == Tipc.sum().round(0)),\"not the same volume\""
   ]
  },
  {
   "cell_type": "code",
   "execution_count": 32,
   "metadata": {},
   "outputs": [],
   "source": [
    "Tijpcmt = multiply_series(Tijpcmt_mult_0, Tipcmt.div(s_Tijpcmt_mult_0))\n",
    "assert(Tijpcmt.sum().round(0) == Tipc.sum().round(0)),\"not the same volume\""
   ]
  },
  {
   "cell_type": "code",
   "execution_count": 33,
   "metadata": {},
   "outputs": [],
   "source": [
    "Tijpcmts = multiply(series=Tijpcmt, dataframe=proportional_share(Tijpcmts_mult_0, 'sub_mode')).stack()\n",
    "assert(Tijpcmts.sum().round(0) == Tipc.sum().round(0)),\"not the same volume\""
   ]
  },
  {
   "cell_type": "code",
   "execution_count": 34,
   "metadata": {},
   "outputs": [],
   "source": [
    "Tijpcmts_single = Tijpcmts.loc[Tijpcmts.index.get_level_values(\"segment\") != 7]"
   ]
  },
  {
   "cell_type": "code",
   "execution_count": 35,
   "metadata": {},
   "outputs": [
    {
     "data": {
      "text/plain": [
       "0.9998507659937704"
      ]
     },
     "execution_count": 35,
     "metadata": {},
     "output_type": "execute_result"
    }
   ],
   "source": [
    "Tijpcmts.sum()/vol_ref.sum()"
   ]
  },
  {
   "cell_type": "code",
   "execution_count": 36,
   "metadata": {},
   "outputs": [
    {
     "data": {
      "text/plain": [
       "mode\n",
       "tc         1.017843\n",
       "voiture    0.999128\n",
       "dtype: float64"
      ]
     },
     "execution_count": 36,
     "metadata": {},
     "output_type": "execute_result"
    }
   ],
   "source": [
    "Tijpcmts.groupby(\"mode\").sum()/vol_ref.groupby(\"mode\").sum()"
   ]
  },
  {
   "cell_type": "markdown",
   "metadata": {},
   "source": [
    "# export "
   ]
  },
  {
   "cell_type": "code",
   "execution_count": 37,
   "metadata": {},
   "outputs": [],
   "source": [
    "dico_sub_mode = {\"C_other\":\"vp\",'BPAX':\"autocar\",\"RPAX\":\"rail\",\"C_EB\":\"vp\"}\n",
    "vol_final = Tijpcmts.groupby(level =[\"origin\",\"destination\",\"period\",\"sub_mode\"]).sum()\n",
    "#convertir\n",
    "vol_base = pd.read_csv(input_folder + \"base/volumes/volumes.csv\")\n",
    "vol_base[\"origin\"] = \"zone_\" + vol_base[\"origin\"].astype(str)\n",
    "vol_base[\"destination\"] = \"zone_\" + vol_base[\"destination\"].astype(str)\n",
    "vol_base[\"period\"] = vol_base[\"time_period\"]\n",
    "vol_base[\"sub_mode\"] = vol_base[\"vehicle_class\"].apply(lambda x: dico_sub_mode[x] )\n",
    "fratar = (vol_final / vol_base.groupby([\"origin\",\"destination\",\"period\",\"sub_mode\"])[\"volume\"].sum()).fillna(1)\n",
    "vol_sortie= vol_base.set_index(['origin','destination','period','sub_mode',\"vehicle_class\",\"purpose\" ])\n",
    "vol_sortie[\"volume\"] = vol_sortie[\"volume\"] * fratar\n",
    "vol_sortie = vol_sortie.reset_index()[[\"origin\",\"destination\",\"time_period\", \"vehicle_class\",\"purpose\",\"volume\"]]\n",
    "vol_sortie[\"origin\"] = vol_sortie[\"origin\"].apply(lambda x: x.split(\"_\",1)[1])\n",
    "vol_sortie[\"destination\"] = vol_sortie[\"destination\"].apply(lambda x: x.split(\"_\",1)[1])"
   ]
  },
  {
   "cell_type": "code",
   "execution_count": 38,
   "metadata": {},
   "outputs": [],
   "source": [
    "vol_sortie.to_csv(output_folder+'volumes'+'.csv')"
   ]
  },
  {
   "cell_type": "markdown",
   "metadata": {},
   "source": [
    "# Segment doublement contraint"
   ]
  },
  {
   "cell_type": "markdown",
   "metadata": {},
   "source": [
    "# regarder fonction de distribution de quetzal pour calc_double_constrain\n",
    "# utility double constraint constraint segment 7\n",
    "# boucle de rétro action ( à voir dans un second temps), autre chemin que ne concerne que le segment 7 \n",
    "Image(filename=input_folder +'utility_double_constrain.png')"
   ]
  },
  {
   "cell_type": "markdown",
   "metadata": {},
   "source": [
    "Tijpcmt_0 = Tijpcmt_0.loc[Tijpcmt_0.index.get_level_values(\"segment\") == 7]\n",
    "Tijpcmt = Tijpcmt.loc[Tijpcmt.index.get_level_values(\"segment\") == 7]\n",
    "Tipcmt = Tipcmt.loc[Tipcmt.index.get_level_values(\"segment\") == 7]\n",
    "vol_seg = vol_ref.loc[vol_ref.index.get_level_values(\"segment\") == 7]\n",
    "delta_utility_ijpcmt_factor_e = delta_utility_ijpcmt_factor_e .loc[delta_utility_ijpcmt_factor_e.index.get_level_values(\"segment\") == 7]"
   ]
  },
  {
   "cell_type": "markdown",
   "metadata": {},
   "source": [
    "\n",
    "Tjpc_0 = Tijpcmt_0.groupby(level = [\"destination\",\"segment\"]).sum()\n",
    "param_period_mode_7 = param_period_mode.loc[param_period_mode.index.get_level_values(\"segment\") == 7]"
   ]
  },
  {
   "cell_type": "markdown",
   "metadata": {},
   "source": [
    "def get_A_and_B(Tijpcmt,Ax_it,Bx_it,Tipcmt,Tjpc_0 = Tjpc_0):\n",
    "    M = Tijpcmt.copy()\n",
    "    Ax = Ax_it.copy()\n",
    "    Bx = Bx_it.copy() \n",
    "    A, B = Ax.copy(), Bx.copy() # A = B = 1\n",
    "    sum_Tipcmt = M.groupby(level=[\"origin\", 'segment', 'mode', 'period']).sum()\n",
    "    A = Tipcmt.div(sum_Tipcmt)   \n",
    "    Ax = Ax * A\n",
    "    M = A*M \n",
    "    sum_Tjpc = M.groupby(level=[\"destination\", 'segment']).sum()\n",
    "    B = Tjpc_0.div(sum_Tjpc)\n",
    "    Bx = Bx * B\n",
    "    M = B*M\n",
    "        \n",
    "    while (np.round(abs(A-1).max(), 4)> 0.0001 ) | (np.round(abs(B-1).max(), 4)> 0.0001):\n",
    "        # A check\n",
    "        sum_Tipcmt = M.groupby(level=[\"origin\", 'segment', 'mode', 'period']).sum()\n",
    "        A = Tipcmt.div(sum_Tipcmt) \n",
    "\n",
    "        # Update de la matrice et on garde la trace\n",
    "        Ax = Ax * A\n",
    "        M = A*M\n",
    "\n",
    "        # B check\n",
    "        sum_Tjpc = M.groupby(level=[\"destination\", 'segment']).sum()\n",
    "        B = Tjpc_0.div(sum_Tjpc)\n",
    "\n",
    "        # Update de la matrice et on garde la trace\n",
    "        Bx = Bx * B\n",
    "        M = B*M\n",
    "    print(\n",
    "          'Ax', np.round(abs(Ax-1).mean(), 8),\n",
    "    \n",
    "         'Bx', np.round(abs(Bx-1).mean(), 8),\n",
    "    )\n",
    "    return(Ax,Bx)"
   ]
  },
  {
   "cell_type": "markdown",
   "metadata": {},
   "source": [
    "iteration = 5\n",
    "Ax_it = Tijpcmt.groupby(level=[\"origin\", 'segment', 'mode', 'period']).sum() * 0 + 1\n",
    "Bx_it = Tijpcmt.groupby(level=[\"destination\", 'segment']).sum() * 0 + 1\n",
    "for i in range(iteration):\n",
    "# IDebut de furness\n",
    "    \n",
    "    Ax,Bx = get_A_and_B(Tijpcmt,Ax_it,Bx_it,Tipcmt)\n",
    "    \n",
    "    Tijpcmt_mult_0 = (Bx * Tijpcmt_0  * delta_utility_ijpcmt_factor_e )\n",
    "    Ax = Ax.copy()\n",
    "    Bx = Bx.copy()\n",
    "    s_Tijpcmt_mult_0 = Tijpcmt_mult_0.groupby(level = [\"origin\",\"mode\",\"period\",\"segment\"]).sum()\n",
    "    Tipcmt_0  = vol_seg.groupby(level = [\"origin\",\"mode\",\"period\",\"segment\"]).sum()\n",
    "    delta_utility_ipcmt = np.log(s_Tijpcmt_mult_0 / Tipcmt_0)\n",
    "\n",
    "    delta_utility_ipcmt_factor = delta_utility_ipcmt * param_period_mode_7 \n",
    "    delta_utility_ipcmt_factor_e = np.exp(delta_utility_ipcmt_factor)\n",
    "    \n",
    "    # period choice utility\n",
    "    Tipcmt_mult_0 = (Tipcmt_0  * delta_utility_ipcmt_factor_e )\n",
    "    s_Tipcmt_mult_0 = Tipcmt_mult_0.groupby(level = [\"origin\",\"mode\",\"segment\"]).sum()\n",
    "\n",
    "    Tipcm_0  = vol_seg.groupby(level = [\"origin\",\"mode\",\"segment\"]).sum()\n",
    "    delta_utility_ipcm = np.log(s_Tipcmt_mult_0 / Tipcm_0)\n",
    "    delta_utility_ipcm_factor = delta_utility_ipcm * param_period_mode_7 \n",
    "    delta_utility_ipcm_factor_e = np.exp(delta_utility_ipcm_factor)\n",
    "     \n",
    "    #  mode choice utility\n",
    "    Tipcm_mult_0 = (Tipcm_0  * delta_utility_ipcm_factor_e )# matrix dest is\n",
    "    s_Tipcm_mult_0 = Tipcm_mult_0.groupby(level = [\"origin\",\"segment\"]).sum()\n",
    "    \n",
    "    \n",
    "    Tipc_0 = vol_seg.groupby(level = [\"origin\",\"segment\"]).sum()\n",
    "    delta_utility_ipc = np.log(s_Tipcm_mult_0 / Tipc_0)\n",
    "    delta_utility_ipc_factor = delta_utility_ipc * 0.05\n",
    "    delta_utility_ipc_factor_e = np.exp(delta_utility_ipc_factor)\n",
    "    # calcul des volumes\n",
    "    Tipc = Tipc_0 * delta_utility_ipc_factor_e\n",
    "    Tipcm = (Tipc * Tipcm_mult_0 / s_Tipcm_mult_0)\n",
    "    Tipcmt = (Tipcm * Tipcmt_mult_0 / s_Tipcmt_mult_0)\n",
    "    \n",
    "    Tijpcmt = multiply_series( Tijpcmt_mult_0,Tipcmt.div(s_Tijpcmt_mult_0))\n",
    "    print('j', (abs(Tijpcmt_0.groupby(level = [\"destination\",\"segment\"]).sum() - (Tijpcmt).groupby(level = [\"destination\",\"segment\"]).sum()).sum())/len(Tijpcmt))\n",
    "    print('i', (abs(Tipcm - (Tijpcmt).groupby(level = [\"origin\", 'segment', 'mode']).sum()).sum())/len(Tipcm))\n",
    "    print('max diff contrainte B, contrainte A',(abs(Tijpcmt_0.groupby(level = [\"destination\",\"segment\"]).sum()- (Tijpcmt).groupby(level = [\"destination\",\"segment\"]).sum()).max(),abs(Tipcm - (Tijpcmt).groupby(level = [\"origin\", 'segment', 'mode']).sum()).max()))\n",
    "    \n",
    "                                                   \n",
    "    Ax_it = Ax.copy()\n",
    "    Bx_it = Bx.copy()\n",
    "    # mettre un furness dans la boucle \n",
    "\n",
    "\n",
    "    #print('inext', (abs(Tipcm - (B*Tijpcmt).groupby(level = [\"origin\", 'segment', 'mode']).sum()).sum())/len(Tipcm))\n",
    "\n",
    "\n",
    "    print('————————————————————————————————————————')\n",
    "    #B = B/B.mean()\n",
    "    "
   ]
  },
  {
   "cell_type": "markdown",
   "metadata": {},
   "source": [
    "Tijpcmts_double = multiply(series = Tijpcmt,dataframe = proportional_share(Tijpcmts_mult_0.loc[Tijpcmts_mult_0.index.get_level_values(\"segment\") == 7],'sub_mode')).stack()"
   ]
  },
  {
   "cell_type": "markdown",
   "metadata": {},
   "source": [
    "Tijpcmts = pd.concat([Tijpcmts_single,Tijpcmts_double])"
   ]
  },
  {
   "cell_type": "markdown",
   "metadata": {},
   "source": [
    "Tijpcmts.sum()/ vol_ref.sum()"
   ]
  },
  {
   "cell_type": "markdown",
   "metadata": {},
   "source": [
    "# Sorties"
   ]
  },
  {
   "cell_type": "markdown",
   "metadata": {},
   "source": [
    "## Elasticité"
   ]
  },
  {
   "cell_type": "code",
   "execution_count": 39,
   "metadata": {},
   "outputs": [],
   "source": [
    "vol_ref_log = np.log(vol_ref)\n",
    "vol_proj = Tijpcmts.reorder_levels(vol_ref.index.names).reindex(vol_ref.index)\n",
    "vol_proj_log = np.log(vol_proj)\n",
    "time_ref = time_ref.reindex(vol_ref.index).fillna(1)\n",
    "time_proj =  time_proj.reindex(vol_ref.index).fillna(1)\n",
    "vol_time_ref = time_ref * vol_ref\n",
    "vol_time_proj = time_proj * vol_ref\n",
    "diff_time = time_proj - time_ref \n",
    "diff_vol = vol_proj - vol_ref\n",
    "vol_diff_time = diff_time * vol_ref\n",
    "\n"
   ]
  },
  {
   "cell_type": "markdown",
   "metadata": {},
   "source": [
    "time_ref_log = np.log(time_ref)\n",
    "time_proj_log = np.log(time_proj)"
   ]
  },
  {
   "cell_type": "code",
   "execution_count": 40,
   "metadata": {},
   "outputs": [],
   "source": [
    "# sortir fonction pour period, mode et genre period mode "
   ]
  },
  {
   "cell_type": "code",
   "execution_count": 41,
   "metadata": {},
   "outputs": [],
   "source": [
    "def sortie_tableau(group):\n",
    "    sum_diff_vol = diff_vol.groupby(level = group).sum()\n",
    "    sum_vol = vol_ref.groupby(level = group).sum()\n",
    "    vol_el = (sum_vol + sum_diff_vol)/sum_vol\n",
    "    avg_diff_time = vol_diff_time.groupby(level = group).sum()/vol_ref.groupby(level = group).sum()\n",
    "    avg_time_ref = vol_time_ref.groupby(level = group).sum()/vol_ref.groupby(level = group).sum()\n",
    "    time_el = (avg_time_ref + avg_diff_time) / avg_time_ref\n",
    "    matrice_el = np.log(vol_el)/np.log(time_el)\n",
    "    matrice_time = avg_time_ref\n",
    "    matrice_vol = sum_vol\n",
    "    matrice_diff_time = avg_diff_time \n",
    "    matrice_diff_vol = sum_diff_vol \n",
    "\n",
    "    if len(group)>1:\n",
    "        matrice_el = matrice_el.unstack()\n",
    "        matrice_time  = matrice_time.unstack()\n",
    "        matrice_vol = matrice_vol.unstack()\n",
    "        matrice_diff_time =  matrice_diff_time.unstack()\n",
    "        matrice_diff_vol = matrice_diff_vol.unstack() \n",
    "    # export avec le bon round\n",
    "    return(matrice_el.round(3),matrice_time.round(0).astype(int),matrice_vol.round(-2).astype(int),matrice_diff_time.round(1),matrice_diff_vol.round(-1).astype(int) )"
   ]
  },
  {
   "cell_type": "code",
   "execution_count": 42,
   "metadata": {},
   "outputs": [],
   "source": [
    "matrice_el,matrice_time,matrice_vol,matrice_diff_time,matrice_diff_vol = sortie_tableau(['period', 'mode'])"
   ]
  },
  {
   "cell_type": "markdown",
   "metadata": {},
   "source": [
    "matrice_utility = delta_utility_ipcmt.unstack([2,3]).mean().unstack(0)/0.1\n",
    "Tipcm.unstack(\"mode\").sum()/Tipcm_0.unstack(\"mode\").sum()\n",
    "Tipcmt.unstack([\"mode\",\"period\"]).sum()/Tipcmt_0.unstack([\"mode\",\"period\"]).sum()\n",
    "(Tipcmt/Tipcm).unstack([2,3]).sum().unstack(0)/(Tipcmt_0/Tipcm_0).unstack([2,3]).sum().unstack(0)\n",
    "(Tipcmt/Tipcm).unstack([2,3]).mean().unstack(0)"
   ]
  },
  {
   "cell_type": "markdown",
   "metadata": {},
   "source": [
    "# matrice to image"
   ]
  },
  {
   "cell_type": "code",
   "execution_count": 43,
   "metadata": {},
   "outputs": [],
   "source": [
    "def fig2img(fig):\n",
    "    \"\"\"Convert a Matplotlib figure to a PIL Image and return it\"\"\"\n",
    "    import io\n",
    "    buf = io.BytesIO()\n",
    "    fig.savefig(buf)\n",
    "    buf.seek(0)\n",
    "    img = Image.open(buf)\n",
    "    return img"
   ]
  },
  {
   "cell_type": "code",
   "execution_count": 44,
   "metadata": {},
   "outputs": [],
   "source": [
    "def buffer_plot_and_get(fig):\n",
    "    buf = io.BytesIO()\n",
    "    fig.savefig(buf)\n",
    "    buf.seek(0)\n",
    "    return PIL.Image.open(buf)"
   ]
  },
  {
   "cell_type": "code",
   "execution_count": 45,
   "metadata": {},
   "outputs": [],
   "source": [
    "def matrice_heat(df,vmin,vmax,title):\n",
    "    fig, ax = plt.subplots(figsize=(10, 10))\n",
    "    ax =  sns.heatmap(\n",
    "           df, annot=True, fmt='.6g', vmin=vmin, vmax=vmax, cmap='Spectral', square=False,\n",
    "            linecolor='white', linewidths=1, annot_kws={\"fontsize\":20})\n",
    "    ax.set_title(title,fontsize =20)\n",
    "    return(buffer_plot_and_get(fig))\n",
    "\n",
    "    \n",
    "    #u = fig2img(fig)\n",
    "    "
   ]
  },
  {
   "cell_type": "code",
   "execution_count": 46,
   "metadata": {},
   "outputs": [],
   "source": [
    "import sys\n",
    "import PIL\n",
    "from PIL import Image\n",
    "import numpy as np\n",
    "work_path = r'../'\n",
    "plot_path = './'\n",
    "\n",
    "\n",
    "def hstack(image_list):\n",
    "    # pick the image which is the smallest, and resize the others to match it (can be arbitrary image shape here)\n",
    "    min_shape = sorted( [(np.sum(i.size), i.size ) for i in image_list])[0][1]\n",
    "    imgs_comb =  np.hstack( (np.asarray( i.resize(min_shape) ) for i in image_list) )\n",
    "    return PIL.Image.fromarray( imgs_comb)\n",
    "\n",
    "def vstack(image_list):\n",
    "    # pick the image which is the smallest, and resize the others to match it (can be arbitrary image shape here)\n",
    "    min_shape = sorted( [(np.sum(i.size), i.size ) for i in image_list])[0][1]\n",
    "    # for a vertical stacking it is simple: use vstack\n",
    "    imgs_comb = np.vstack( (np.asarray( i.resize(min_shape) ) for i in image_list ) )\n",
    "    return PIL.Image.fromarray( imgs_comb)\n",
    "\n",
    "def mstack(image_matrix, text_matrix=[]):\n",
    "    rows = [hstack(row) for row in image_matrix]\n",
    "    return vstack(rows)\n",
    "\n",
    "def combine_and_save( image_matrix,image_file, **kwargs):\n",
    "    image = mstack(image_matrix)\n",
    "    image.save(image_file)"
   ]
  },
  {
   "cell_type": "code",
   "execution_count": 47,
   "metadata": {},
   "outputs": [
    {
     "data": {
      "image/png": "[encoded data removed]",
      "text/plain": [
       "<Figure size 1000x1000 with 2 Axes>"
      ]
     },
     "metadata": {},
     "output_type": "display_data"
    },
    {
     "data": {
      "image/png": "[encoded data removed]",
      "text/plain": [
       "<Figure size 1000x1000 with 2 Axes>"
      ]
     },
     "metadata": {},
     "output_type": "display_data"
    },
    {
     "data": {
      "image/png": "[encoded data removed]",
      "text/plain": [
       "<Figure size 1000x1000 with 2 Axes>"
      ]
     },
     "metadata": {},
     "output_type": "display_data"
    },
    {
     "data": {
      "image/png": "[encoded data removed]",
      "text/plain": [
       "<Figure size 1000x1000 with 2 Axes>"
      ]
     },
     "metadata": {},
     "output_type": "display_data"
    },
    {
     "data": {
      "image/png": "[encoded data removed]",
      "text/plain": [
       "<Figure size 1000x1000 with 2 Axes>"
      ]
     },
     "metadata": {},
     "output_type": "display_data"
    }
   ],
   "source": [
    "image_diff_vol = matrice_heat(matrice_diff_vol,-1000,1000,\"Difference of volumes\")\n",
    "image_vol = matrice_heat(matrice_vol,10000,500000,\"Volumes\")\n",
    "image_e = matrice_heat(matrice_el,-0.5,0.5,\"Elasticity\")\n",
    "image_time = matrice_heat(matrice_time,5,50,\"Travel Time\")\n",
    "image_diff_time = matrice_heat(matrice_diff_time,-0.5,0.5,\"Difference of Travel Time\")\n"
   ]
  },
  {
   "cell_type": "code",
   "execution_count": 48,
   "metadata": {},
   "outputs": [],
   "source": [
    "image_matrix = [[image_diff_vol, image_vol],[image_time,image_diff_time],[image_e,image_e]]"
   ]
  },
  {
   "cell_type": "code",
   "execution_count": 49,
   "metadata": {},
   "outputs": [],
   "source": [
    "image_file = output_folder + \"tables.png\""
   ]
  },
  {
   "cell_type": "code",
   "execution_count": 50,
   "metadata": {},
   "outputs": [
    {
     "name": "stderr",
     "output_type": "stream",
     "text": [
      "/tmp/ipykernel_181685/1613346604.py:12: FutureWarning: arrays to stack must be passed as a \"sequence\" type such as list or tuple. Support for non-sequence iterables such as generators is deprecated as of NumPy 1.16 and will raise an error in the future.\n",
      "  imgs_comb =  np.hstack( (np.asarray( i.resize(min_shape) ) for i in image_list) )\n",
      "/tmp/ipykernel_181685/1613346604.py:19: FutureWarning: arrays to stack must be passed as a \"sequence\" type such as list or tuple. Support for non-sequence iterables such as generators is deprecated as of NumPy 1.16 and will raise an error in the future.\n",
      "  imgs_comb = np.vstack( (np.asarray( i.resize(min_shape) ) for i in image_list ) )\n"
     ]
    }
   ],
   "source": [
    "combine_and_save(image_matrix,image_file )"
   ]
  },
  {
   "cell_type": "code",
   "execution_count": 51,
   "metadata": {},
   "outputs": [],
   "source": [
    "pd.concat([matrice_vol,matrice_diff_vol,matrice_time,matrice_diff_time,   matrice_el],axis =1,keys = [\"vol\",\"diff_vol\",\"time\",\"diff_time\",\"elasticity\"]).to_csv(output_folder +\"tables.csv\",sep =\":\")"
   ]
  },
  {
   "cell_type": "markdown",
   "metadata": {},
   "source": [
    "## Sortie"
   ]
  },
  {
   "cell_type": "markdown",
   "metadata": {},
   "source": [
    "## distribution des évolution OD"
   ]
  },
  {
   "cell_type": "code",
   "execution_count": 52,
   "metadata": {},
   "outputs": [],
   "source": [
    "diff =diff_vol.copy()"
   ]
  },
  {
   "cell_type": "code",
   "execution_count": 53,
   "metadata": {},
   "outputs": [],
   "source": [
    "evolution_OD = diff.groupby(level = [\"origin\",\"destination\"]).sum()"
   ]
  },
  {
   "cell_type": "code",
   "execution_count": 54,
   "metadata": {},
   "outputs": [],
   "source": [
    "evolution_OD_s_mode = diff.groupby(level = [\"origin\",\"destination\",\"sub_mode\"]).sum()"
   ]
  },
  {
   "cell_type": "markdown",
   "metadata": {},
   "source": [
    "#### max bizarree "
   ]
  },
  {
   "cell_type": "code",
   "execution_count": 55,
   "metadata": {},
   "outputs": [
    {
     "data": {
      "text/plain": [
       "origin    destination\n",
       "zone_552  zone_574       236.562176\n",
       "dtype: float64"
      ]
     },
     "execution_count": 55,
     "metadata": {},
     "output_type": "execute_result"
    }
   ],
   "source": [
    "evolution_OD.loc[evolution_OD == evolution_OD.max()]"
   ]
  },
  {
   "cell_type": "code",
   "execution_count": 56,
   "metadata": {},
   "outputs": [
    {
     "data": {
      "text/plain": [
       "origin    destination  sub_mode\n",
       "zone_552  zone_574     vp          236.562176\n",
       "dtype: float64"
      ]
     },
     "execution_count": 56,
     "metadata": {},
     "output_type": "execute_result"
    }
   ],
   "source": [
    "evolution_OD_s_mode.loc[evolution_OD_s_mode == evolution_OD_s_mode.max()]"
   ]
  },
  {
   "cell_type": "code",
   "execution_count": 57,
   "metadata": {},
   "outputs": [
    {
     "data": {
      "text/plain": [
       "origin\n",
       "zone_552    112.144365\n",
       "zone_574     39.544704\n",
       "zone_689     31.299279\n",
       "zone_701     30.159436\n",
       "zone_553     24.858651\n",
       "dtype: float64"
      ]
     },
     "execution_count": 57,
     "metadata": {},
     "output_type": "execute_result"
    }
   ],
   "source": [
    "diff.groupby(level = [\"origin\"]).sum().sort_values(ascending = False).head(5)"
   ]
  },
  {
   "cell_type": "code",
   "execution_count": 58,
   "metadata": {},
   "outputs": [
    {
     "data": {
      "text/plain": [
       "sub_mode\n",
       "rail      0.000000\n",
       "vp     -127.640136\n",
       "dtype: float64"
      ]
     },
     "execution_count": 58,
     "metadata": {},
     "output_type": "execute_result"
    }
   ],
   "source": [
    "delta_utility_ijpcmts_factor.loc[:,\"zone_574\" ].groupby(level =[\"sub_mode\"]).sum()"
   ]
  },
  {
   "cell_type": "code",
   "execution_count": 59,
   "metadata": {},
   "outputs": [
    {
     "data": {
      "text/plain": [
       "sub_mode\n",
       "rail       0.000000\n",
       "vp      1369.807091\n",
       "dtype: float64"
      ]
     },
     "execution_count": 59,
     "metadata": {},
     "output_type": "execute_result"
    }
   ],
   "source": [
    "delta_utility_ijpcmts_factor.loc['zone_552'].groupby(level =[\"sub_mode\"]).sum()"
   ]
  },
  {
   "cell_type": "code",
   "execution_count": 60,
   "metadata": {},
   "outputs": [
    {
     "data": {
      "text/plain": [
       "<Axes: >"
      ]
     },
     "execution_count": 60,
     "metadata": {},
     "output_type": "execute_result"
    },
    {
     "data": {
      "image/png": "[encoded data removed]",
      "text/plain": [
       "<Figure size 640x480 with 1 Axes>"
      ]
     },
     "metadata": {},
     "output_type": "display_data"
    }
   ],
   "source": [
    "evolution_OD.hist(bins =11)# on peut voir sans les valeurs extrèmes aussi"
   ]
  },
  {
   "cell_type": "code",
   "execution_count": 61,
   "metadata": {},
   "outputs": [
    {
     "data": {
      "text/plain": [
       "<Axes: >"
      ]
     },
     "execution_count": 61,
     "metadata": {},
     "output_type": "execute_result"
    },
    {
     "data": {
      "image/png": "[encoded data removed]",
      "text/plain": [
       "<Figure size 640x480 with 1 Axes>"
      ]
     },
     "metadata": {},
     "output_type": "display_data"
    }
   ],
   "source": [
    "evolution_OD.loc[abs (evolution_OD)<5].hist(bins =101)#"
   ]
  },
  {
   "cell_type": "code",
   "execution_count": 62,
   "metadata": {},
   "outputs": [],
   "source": [
    "diff_vp = evolution_OD_s_mode.loc[evolution_OD_s_mode.index.get_level_values(\"sub_mode\") == \"vp\"]\n",
    "diff_train = evolution_OD_s_mode.loc[evolution_OD_s_mode.index.get_level_values(\"sub_mode\") == \"rail\"]\n",
    "diff_autocar =  evolution_OD_s_mode.loc[evolution_OD_s_mode.index.get_level_values(\"sub_mode\") == \"autocar\"]"
   ]
  },
  {
   "cell_type": "code",
   "execution_count": 63,
   "metadata": {},
   "outputs": [
    {
     "data": {
      "text/plain": [
       "<Axes: >"
      ]
     },
     "execution_count": 63,
     "metadata": {},
     "output_type": "execute_result"
    },
    {
     "data": {
      "image/png": "[encoded data removed]",
      "text/plain": [
       "<Figure size 640x480 with 1 Axes>"
      ]
     },
     "metadata": {},
     "output_type": "display_data"
    }
   ],
   "source": [
    "diff_vp.hist()"
   ]
  },
  {
   "cell_type": "code",
   "execution_count": 64,
   "metadata": {},
   "outputs": [
    {
     "data": {
      "text/plain": [
       "<Axes: >"
      ]
     },
     "execution_count": 64,
     "metadata": {},
     "output_type": "execute_result"
    },
    {
     "data": {
      "image/png": "[encoded data removed]",
      "text/plain": [
       "<Figure size 640x480 with 1 Axes>"
      ]
     },
     "metadata": {},
     "output_type": "display_data"
    }
   ],
   "source": [
    "diff_train.hist()"
   ]
  },
  {
   "cell_type": "code",
   "execution_count": 65,
   "metadata": {},
   "outputs": [
    {
     "data": {
      "text/plain": [
       "<Axes: >"
      ]
     },
     "execution_count": 65,
     "metadata": {},
     "output_type": "execute_result"
    },
    {
     "data": {
      "image/png": "[encoded data removed]",
      "text/plain": [
       "<Figure size 640x480 with 1 Axes>"
      ]
     },
     "metadata": {},
     "output_type": "display_data"
    }
   ],
   "source": [
    "diff_autocar.hist()"
   ]
  },
  {
   "cell_type": "code",
   "execution_count": 66,
   "metadata": {},
   "outputs": [
    {
     "data": {
      "text/plain": [
       "(sub_mode\n",
       " autocar    1242.413479\n",
       " rail       -271.287041\n",
       " vp        -1181.344165\n",
       " dtype: float64,\n",
       " mode\n",
       " tc          971.126438\n",
       " voiture   -1181.344165\n",
       " dtype: float64,\n",
       " period\n",
       " AM    1945.789876\n",
       " IP     856.729198\n",
       " OP    -859.674972\n",
       " PM   -2153.061830\n",
       " dtype: float64)"
      ]
     },
     "execution_count": 66,
     "metadata": {},
     "output_type": "execute_result"
    }
   ],
   "source": [
    "diff.groupby(level = \"sub_mode\").sum(),diff.groupby(level = \"mode\").sum(),diff.groupby(level = \"period\").sum()"
   ]
  },
  {
   "cell_type": "code",
   "execution_count": 67,
   "metadata": {},
   "outputs": [
    {
     "data": {
      "text/plain": [
       "period  sub_mode\n",
       "AM      autocar      422.868824\n",
       "        rail         -61.032176\n",
       "        vp          1583.953228\n",
       "IP      autocar      277.021977\n",
       "        rail         -38.410728\n",
       "        vp           618.117949\n",
       "OP      autocar       78.384261\n",
       "        rail         -41.926255\n",
       "        vp          -896.132978\n",
       "PM      autocar      464.138416\n",
       "        rail        -129.917882\n",
       "        vp         -2487.282364\n",
       "dtype: float64"
      ]
     },
     "execution_count": 67,
     "metadata": {},
     "output_type": "execute_result"
    }
   ],
   "source": [
    "diff.groupby(level = [\"period\",\"sub_mode\"]).sum()"
   ]
  },
  {
   "cell_type": "code",
   "execution_count": 68,
   "metadata": {},
   "outputs": [],
   "source": [
    "Londres = \"zone_689\""
   ]
  },
  {
   "cell_type": "code",
   "execution_count": 69,
   "metadata": {},
   "outputs": [
    {
     "data": {
      "text/html": [
       "<div>\n",
       "<style scoped>\n",
       "    .dataframe tbody tr th:only-of-type {\n",
       "        vertical-align: middle;\n",
       "    }\n",
       "\n",
       "    .dataframe tbody tr th {\n",
       "        vertical-align: top;\n",
       "    }\n",
       "\n",
       "    .dataframe thead th {\n",
       "        text-align: right;\n",
       "    }\n",
       "</style>\n",
       "<table border=\"1\" class=\"dataframe\">\n",
       "  <thead>\n",
       "    <tr style=\"text-align: right;\">\n",
       "      <th></th>\n",
       "      <th>index</th>\n",
       "      <th>origin</th>\n",
       "      <th>destination</th>\n",
       "      <th>time_period</th>\n",
       "      <th>vehicle_class</th>\n",
       "      <th>time</th>\n",
       "      <th>distance</th>\n",
       "    </tr>\n",
       "  </thead>\n",
       "  <tbody>\n",
       "    <tr>\n",
       "      <th>0</th>\n",
       "      <td>0</td>\n",
       "      <td>zone_84</td>\n",
       "      <td>zone_12</td>\n",
       "      <td>PM</td>\n",
       "      <td>RPAX</td>\n",
       "      <td>4949.430488</td>\n",
       "      <td>NaN</td>\n",
       "    </tr>\n",
       "    <tr>\n",
       "      <th>1</th>\n",
       "      <td>1</td>\n",
       "      <td>zone_190</td>\n",
       "      <td>zone_475</td>\n",
       "      <td>IP</td>\n",
       "      <td>RPAX</td>\n",
       "      <td>18001.060855</td>\n",
       "      <td>NaN</td>\n",
       "    </tr>\n",
       "    <tr>\n",
       "      <th>2</th>\n",
       "      <td>2</td>\n",
       "      <td>zone_70</td>\n",
       "      <td>zone_111</td>\n",
       "      <td>OP</td>\n",
       "      <td>BPAX</td>\n",
       "      <td>1488.442267</td>\n",
       "      <td>NaN</td>\n",
       "    </tr>\n",
       "    <tr>\n",
       "      <th>3</th>\n",
       "      <td>3</td>\n",
       "      <td>zone_367</td>\n",
       "      <td>zone_541</td>\n",
       "      <td>PM</td>\n",
       "      <td>BPAX</td>\n",
       "      <td>7074.712400</td>\n",
       "      <td>NaN</td>\n",
       "    </tr>\n",
       "    <tr>\n",
       "      <th>4</th>\n",
       "      <td>4</td>\n",
       "      <td>zone_424</td>\n",
       "      <td>zone_429</td>\n",
       "      <td>OP</td>\n",
       "      <td>C_other</td>\n",
       "      <td>442.299545</td>\n",
       "      <td>6444.700195</td>\n",
       "    </tr>\n",
       "    <tr>\n",
       "      <th>...</th>\n",
       "      <td>...</td>\n",
       "      <td>...</td>\n",
       "      <td>...</td>\n",
       "      <td>...</td>\n",
       "      <td>...</td>\n",
       "      <td>...</td>\n",
       "      <td>...</td>\n",
       "    </tr>\n",
       "    <tr>\n",
       "      <th>597768</th>\n",
       "      <td>597768</td>\n",
       "      <td>zone_540</td>\n",
       "      <td>zone_530</td>\n",
       "      <td>IP</td>\n",
       "      <td>C_other</td>\n",
       "      <td>425.398804</td>\n",
       "      <td>6533.769531</td>\n",
       "    </tr>\n",
       "    <tr>\n",
       "      <th>597769</th>\n",
       "      <td>597769</td>\n",
       "      <td>zone_78</td>\n",
       "      <td>zone_457</td>\n",
       "      <td>AM</td>\n",
       "      <td>C_other</td>\n",
       "      <td>931.692749</td>\n",
       "      <td>14118.262695</td>\n",
       "    </tr>\n",
       "    <tr>\n",
       "      <th>597770</th>\n",
       "      <td>597770</td>\n",
       "      <td>zone_355</td>\n",
       "      <td>zone_331</td>\n",
       "      <td>IP</td>\n",
       "      <td>RPAX</td>\n",
       "      <td>31376.547370</td>\n",
       "      <td>NaN</td>\n",
       "    </tr>\n",
       "    <tr>\n",
       "      <th>597771</th>\n",
       "      <td>597771</td>\n",
       "      <td>zone_455</td>\n",
       "      <td>zone_15</td>\n",
       "      <td>PM</td>\n",
       "      <td>RPAX</td>\n",
       "      <td>12065.796341</td>\n",
       "      <td>NaN</td>\n",
       "    </tr>\n",
       "    <tr>\n",
       "      <th>597772</th>\n",
       "      <td>597772</td>\n",
       "      <td>zone_254</td>\n",
       "      <td>zone_8</td>\n",
       "      <td>AM</td>\n",
       "      <td>RPAX</td>\n",
       "      <td>5933.918973</td>\n",
       "      <td>NaN</td>\n",
       "    </tr>\n",
       "  </tbody>\n",
       "</table>\n",
       "<p>597773 rows × 7 columns</p>\n",
       "</div>"
      ],
      "text/plain": [
       "         index    origin destination time_period vehicle_class          time  \\\n",
       "0            0   zone_84     zone_12          PM          RPAX   4949.430488   \n",
       "1            1  zone_190    zone_475          IP          RPAX  18001.060855   \n",
       "2            2   zone_70    zone_111          OP          BPAX   1488.442267   \n",
       "3            3  zone_367    zone_541          PM          BPAX   7074.712400   \n",
       "4            4  zone_424    zone_429          OP       C_other    442.299545   \n",
       "...        ...       ...         ...         ...           ...           ...   \n",
       "597768  597768  zone_540    zone_530          IP       C_other    425.398804   \n",
       "597769  597769   zone_78    zone_457          AM       C_other    931.692749   \n",
       "597770  597770  zone_355    zone_331          IP          RPAX  31376.547370   \n",
       "597771  597771  zone_455     zone_15          PM          RPAX  12065.796341   \n",
       "597772  597772  zone_254      zone_8          AM          RPAX   5933.918973   \n",
       "\n",
       "            distance  \n",
       "0                NaN  \n",
       "1                NaN  \n",
       "2                NaN  \n",
       "3                NaN  \n",
       "4        6444.700195  \n",
       "...              ...  \n",
       "597768   6533.769531  \n",
       "597769  14118.262695  \n",
       "597770           NaN  \n",
       "597771           NaN  \n",
       "597772           NaN  \n",
       "\n",
       "[597773 rows x 7 columns]"
      ]
     },
     "execution_count": 69,
     "metadata": {},
     "output_type": "execute_result"
    }
   ],
   "source": [
    "skim.reset_index()"
   ]
  },
  {
   "cell_type": "code",
   "execution_count": 70,
   "metadata": {},
   "outputs": [
    {
     "data": {
      "text/html": [
       "<div>\n",
       "<style scoped>\n",
       "    .dataframe tbody tr th:only-of-type {\n",
       "        vertical-align: middle;\n",
       "    }\n",
       "\n",
       "    .dataframe tbody tr th {\n",
       "        vertical-align: top;\n",
       "    }\n",
       "\n",
       "    .dataframe thead th {\n",
       "        text-align: right;\n",
       "    }\n",
       "</style>\n",
       "<table border=\"1\" class=\"dataframe\">\n",
       "  <thead>\n",
       "    <tr style=\"text-align: right;\">\n",
       "      <th></th>\n",
       "      <th></th>\n",
       "      <th>time</th>\n",
       "    </tr>\n",
       "    <tr>\n",
       "      <th>time_period</th>\n",
       "      <th>vehicle_class</th>\n",
       "      <th></th>\n",
       "    </tr>\n",
       "  </thead>\n",
       "  <tbody>\n",
       "    <tr>\n",
       "      <th rowspan=\"4\" valign=\"top\">AM</th>\n",
       "      <th>BPAX</th>\n",
       "      <td>0.760249</td>\n",
       "    </tr>\n",
       "    <tr>\n",
       "      <th>C_EB</th>\n",
       "      <td>-0.358324</td>\n",
       "    </tr>\n",
       "    <tr>\n",
       "      <th>C_other</th>\n",
       "      <td>-0.523530</td>\n",
       "    </tr>\n",
       "    <tr>\n",
       "      <th>RPAX</th>\n",
       "      <td>0.000000</td>\n",
       "    </tr>\n",
       "    <tr>\n",
       "      <th rowspan=\"4\" valign=\"top\">IP</th>\n",
       "      <th>BPAX</th>\n",
       "      <td>0.616077</td>\n",
       "    </tr>\n",
       "    <tr>\n",
       "      <th>C_EB</th>\n",
       "      <td>-0.086699</td>\n",
       "    </tr>\n",
       "    <tr>\n",
       "      <th>C_other</th>\n",
       "      <td>-0.518523</td>\n",
       "    </tr>\n",
       "    <tr>\n",
       "      <th>RPAX</th>\n",
       "      <td>0.000000</td>\n",
       "    </tr>\n",
       "    <tr>\n",
       "      <th rowspan=\"4\" valign=\"top\">OP</th>\n",
       "      <th>BPAX</th>\n",
       "      <td>0.246334</td>\n",
       "    </tr>\n",
       "    <tr>\n",
       "      <th>C_EB</th>\n",
       "      <td>0.088935</td>\n",
       "    </tr>\n",
       "    <tr>\n",
       "      <th>C_other</th>\n",
       "      <td>-0.418849</td>\n",
       "    </tr>\n",
       "    <tr>\n",
       "      <th>RPAX</th>\n",
       "      <td>0.000000</td>\n",
       "    </tr>\n",
       "    <tr>\n",
       "      <th rowspan=\"4\" valign=\"top\">PM</th>\n",
       "      <th>BPAX</th>\n",
       "      <td>0.611657</td>\n",
       "    </tr>\n",
       "    <tr>\n",
       "      <th>C_EB</th>\n",
       "      <td>-0.633811</td>\n",
       "    </tr>\n",
       "    <tr>\n",
       "      <th>C_other</th>\n",
       "      <td>-0.854561</td>\n",
       "    </tr>\n",
       "    <tr>\n",
       "      <th>RPAX</th>\n",
       "      <td>0.000000</td>\n",
       "    </tr>\n",
       "  </tbody>\n",
       "</table>\n",
       "</div>"
      ],
      "text/plain": [
       "                               time\n",
       "time_period vehicle_class          \n",
       "AM          BPAX           0.760249\n",
       "            C_EB          -0.358324\n",
       "            C_other       -0.523530\n",
       "            RPAX           0.000000\n",
       "IP          BPAX           0.616077\n",
       "            C_EB          -0.086699\n",
       "            C_other       -0.518523\n",
       "            RPAX           0.000000\n",
       "OP          BPAX           0.246334\n",
       "            C_EB           0.088935\n",
       "            C_other       -0.418849\n",
       "            RPAX           0.000000\n",
       "PM          BPAX           0.611657\n",
       "            C_EB          -0.633811\n",
       "            C_other       -0.854561\n",
       "            RPAX           0.000000"
      ]
     },
     "execution_count": 70,
     "metadata": {},
     "output_type": "execute_result"
    }
   ],
   "source": [
    "time_ref_1 = ref_skim.reset_index().set_index(['index', 'origin', 'destination', 'time_period', 'vehicle_class','distance'])\n",
    "time_proj_1 = skim.reset_index().set_index(['index', 'origin', 'destination', 'time_period', 'vehicle_class','distance'])\n",
    "(time_ref_1.groupby(level = [\"time_period\",\"vehicle_class\"]).sum()/60)/(time_ref_1.groupby(level = [\"time_period\",\"vehicle_class\"]).count()) - (time_proj_1.groupby(level = [\"time_period\",\"vehicle_class\"]).sum()/60)/(time_proj_1.groupby(level = [\"time_period\",\"vehicle_class\"]).count())"
   ]
  },
  {
   "cell_type": "code",
   "execution_count": 71,
   "metadata": {},
   "outputs": [
    {
     "data": {
      "text/html": [
       "<div>\n",
       "<style scoped>\n",
       "    .dataframe tbody tr th:only-of-type {\n",
       "        vertical-align: middle;\n",
       "    }\n",
       "\n",
       "    .dataframe tbody tr th {\n",
       "        vertical-align: top;\n",
       "    }\n",
       "\n",
       "    .dataframe thead th {\n",
       "        text-align: right;\n",
       "    }\n",
       "</style>\n",
       "<table border=\"1\" class=\"dataframe\">\n",
       "  <thead>\n",
       "    <tr style=\"text-align: right;\">\n",
       "      <th></th>\n",
       "      <th>time</th>\n",
       "    </tr>\n",
       "    <tr>\n",
       "      <th>vehicle_class</th>\n",
       "      <th></th>\n",
       "    </tr>\n",
       "  </thead>\n",
       "  <tbody>\n",
       "    <tr>\n",
       "      <th>BPAX</th>\n",
       "      <td>3.288475</td>\n",
       "    </tr>\n",
       "    <tr>\n",
       "      <th>C_EB</th>\n",
       "      <td>1.562481</td>\n",
       "    </tr>\n",
       "    <tr>\n",
       "      <th>C_other</th>\n",
       "      <td>1.915714</td>\n",
       "    </tr>\n",
       "    <tr>\n",
       "      <th>RPAX</th>\n",
       "      <td>39.811590</td>\n",
       "    </tr>\n",
       "  </tbody>\n",
       "</table>\n",
       "</div>"
      ],
      "text/plain": [
       "                    time\n",
       "vehicle_class           \n",
       "BPAX            3.288475\n",
       "C_EB            1.562481\n",
       "C_other         1.915714\n",
       "RPAX           39.811590"
      ]
     },
     "execution_count": 71,
     "metadata": {},
     "output_type": "execute_result"
    }
   ],
   "source": [
    "time_ref_1.groupby(level = [\"vehicle_class\"]).mean()/1000"
   ]
  },
  {
   "cell_type": "markdown",
   "metadata": {},
   "source": [
    "time_proj_1.loc[time_proj_1.index.get_level_values(\"origin\") == Londres].groupby(level = [\"time_period\",\"vehicle_class\"]).sum()/6000 - time_ref.loc[time_ref.index.get_level_values(\"origin\") == Londres].groupby(level = [\"time_period\",\"vehicle_class\"]).sum()/6000"
   ]
  },
  {
   "cell_type": "markdown",
   "metadata": {},
   "source": [
    "time_ref.loc[time_ref.index.get_level_values(\"origin\") == Londres].groupby(level = [\"time_period\",\"vehicle_class\"]).sum()/6000"
   ]
  },
  {
   "cell_type": "markdown",
   "metadata": {},
   "source": [
    "## Sortie graphiques"
   ]
  },
  {
   "cell_type": "markdown",
   "metadata": {},
   "source": [
    "## Sorties cartes "
   ]
  },
  {
   "cell_type": "markdown",
   "metadata": {},
   "source": [
    "# OD"
   ]
  },
  {
   "cell_type": "code",
   "execution_count": 72,
   "metadata": {},
   "outputs": [],
   "source": [
    "# faire un seule couche json pour centroids et pour zones, donc volumes pour centroids et time/part modale sur zones"
   ]
  },
  {
   "cell_type": "code",
   "execution_count": 73,
   "metadata": {},
   "outputs": [],
   "source": [
    "centroids = gpd.read_file(input_folder+'base/zones/zones.geojson').to_crs(4326)\n",
    "centroids [\"index\"] = \"zone_\" + centroids [\"index\"]\n",
    "centroids  = centroids .set_index(\"index\")\n"
   ]
  },
  {
   "cell_type": "code",
   "execution_count": 74,
   "metadata": {},
   "outputs": [],
   "source": [
    "diff_vol.name = \"volumes\"\n",
    "diff_vol_concat = diff_vol.reset_index().groupby([\"origin\",\"destination\",\"sub_mode\"])[\"volumes\"].sum().unstack()\n",
    "diff_vol_concat.columns = \"diff_\" + diff_vol_concat.columns\n",
    "vol_concat = vol_ref.reset_index().groupby([\"origin\",\"destination\",\"sub_mode\"])[\"volumes\"].sum().unstack()\n",
    "vol_centroids = diff_vol_concat.merge(vol_concat, left_index = True, right_index = True).round(1)\n",
    "OD_dict = {}\n",
    "for c in vol_centroids.columns:\n",
    "   s = vol_centroids[c]\n",
    "   OD_dict[c] = {k: v[k].to_dict() for k, v in s.groupby(level=0)}\n",
    "with open(os.path.join(output_folder, 'centroids.json'), 'w') as file:\n",
    "    simplejson.dump(OD_dict, file, ignore_nan=True)\n",
    "centroids.to_file(output_folder+'centroids.geojson',driver='GeoJSON')\n"
   ]
  },
  {
   "cell_type": "code",
   "execution_count": 75,
   "metadata": {},
   "outputs": [],
   "source": [
    "zones = gpd.read_file(input_folder+'base/zones/voronoi.geojson').to_crs(4326)\n",
    "zones[\"index\"] = \"zone_\" + zones[\"index\"]\n",
    "zones  = zones.set_index(\"index\")"
   ]
  },
  {
   "cell_type": "code",
   "execution_count": 76,
   "metadata": {},
   "outputs": [],
   "source": [
    "#parametre de temps\n",
    "avg_diff_time = vol_diff_time.groupby(level = [\"origin\",\"destination\",\"sub_mode\",\"period\"]).sum()/vol_ref.groupby(level = [\"origin\",\"destination\",\"sub_mode\",\"period\"]).sum()\n",
    "avg_diff_time.name = \"time\"\n",
    "# on ne fait les diff de time et time que pour vp et en am\n",
    "diff_time_concat = avg_diff_time[(avg_diff_time.index.get_level_values(\"sub_mode\") == \"vp\") & (avg_diff_time.index.get_level_values(\"period\") == \"AM\")].reset_index().groupby([\"origin\",\"destination\"])[[\"time\"]].max().round(5)\n",
    "diff_time_concat.columns = \"diff_\" + diff_time_concat.columns +\"_AM\"\n",
    "\n",
    "time_concat = time_ref[(time_ref.index.get_level_values(\"sub_mode\") == \"vp\") & (time_ref.index.get_level_values(\"period\") == \"AM\")].reset_index().groupby([\"origin\",\"destination\"])[[\"time_ref\"]].max().round(5)\n",
    "time_concat.columns =  time_concat.columns +\"_AM\"\n",
    "time_zones = time_concat.merge(diff_time_concat, left_index = True, right_index = True)\n",
    "#part modale\n",
    "vol_proj.name = \"volumes\"\n",
    "vol_proj_concat = vol_proj.reset_index().groupby([\"origin\",\"destination\",\"sub_mode\"])[\"volumes\"].sum().unstack().round(5)\n",
    "part_modale_ref = ((vol_concat/pd.DataFrame(vol_concat.sum(axis =1)).values)*100).fillna(0)\n",
    "part_modale_proj= ((vol_proj_concat/pd.DataFrame(vol_proj_concat.sum(axis =1)).values)*100).fillna(0)\n",
    "diff_part_modale = (part_modale_proj - part_modale_ref).fillna(0)\n",
    "diff_part_modale_relative = ((diff_part_modale*100) /part_modale_ref).fillna(0)\n",
    "diff_part_modale_relative.columns = \"diff_part_modale_\" + diff_part_modale_relative.columns +\"_relative_%\"\n",
    "diff_part_modale.columns = \"diff_part_modale_\" + diff_part_modale.columns +\"_%\"\n",
    "part_modale_ref.columns = \"part_modal_ref_ \" + part_modale_ref.columns \n",
    "part_modale_zones = part_modale_ref.merge(diff_part_modale, left_index = True, right_index = True)\n",
    "part_modale_zones = part_modale_zones.merge(diff_part_modale_relative, left_index = True, right_index = True)\n",
    "df_zones = part_modale_zones.merge(time_zones , left_index = True, right_index = True).round(1)\n",
    "OD_dict = {}\n",
    "for c in df_zones.columns:\n",
    "   s = df_zones[c]\n",
    "   OD_dict[c] = {k: v[k].to_dict() for k, v in s.groupby(level=0)}\n",
    "with open(os.path.join(output_folder, 'zones.json'), 'w') as file:\n",
    "    simplejson.dump(OD_dict, file, ignore_nan=True)\n",
    "zones.to_file(output_folder+'zones.geojson',driver='GeoJSON')"
   ]
  },
  {
   "cell_type": "markdown",
   "metadata": {},
   "source": [
    "# Origine"
   ]
  },
  {
   "cell_type": "markdown",
   "metadata": {},
   "source": [
    "## centroids"
   ]
  },
  {
   "cell_type": "code",
   "execution_count": 77,
   "metadata": {},
   "outputs": [],
   "source": [
    "diff_vol_period = diff_vol.reset_index().groupby([\"origin\",\"mode\",\"period\"])[\"volumes\"].sum().unstack(1)\n",
    "add_all = diff_vol.groupby([\"origin\",\"mode\"]).sum().unstack()\n",
    "add_all [\"period\"] = \"All_Day\"\n",
    "add_all .set_index('period', append=True, inplace=True)\n",
    "diff_vol_period = pd.concat([diff_vol_period,add_all])"
   ]
  },
  {
   "cell_type": "code",
   "execution_count": 78,
   "metadata": {},
   "outputs": [],
   "source": [
    "vol_period = vol_ref.reset_index().groupby([\"origin\",\"mode\",\"period\"])[\"volumes\"].sum().unstack(1)\n",
    "add_all = vol_ref.groupby([\"origin\",\"mode\"]).sum().unstack()\n",
    "add_all [\"period\"] = \"All_Day\"\n",
    "add_all .set_index('period', append=True, inplace=True)\n",
    "vol_period = pd.concat([vol_period,add_all])\n",
    "vol_period_relatif = (diff_vol_period/vol_period)*100\n",
    "vol_period_relatif .columns = vol_period_relatif.columns + \"_difference_volumes_%\""
   ]
  },
  {
   "cell_type": "code",
   "execution_count": 79,
   "metadata": {},
   "outputs": [],
   "source": [
    "vol_centroids = vol_period.merge(diff_vol_period, left_index = True, right_index = True,suffixes = (\"_volumes\",\"_différence_volumes\") )\n",
    "vol_centroids = vol_centroids.merge(vol_period_relatif,left_index = True, right_index = True)\n",
    "centroids.index.name = \"origin\"\n",
    "gpd.GeoDataFrame(vol_centroids.round(1).join(centroids[[\"geometry\"]])).to_file(output_folder+'centroids_volumes.geojson',driver='GeoJSON')\n"
   ]
  },
  {
   "cell_type": "markdown",
   "metadata": {},
   "source": [
    "## zones"
   ]
  },
  {
   "cell_type": "markdown",
   "metadata": {},
   "source": [
    "### part modale"
   ]
  },
  {
   "cell_type": "code",
   "execution_count": 80,
   "metadata": {},
   "outputs": [],
   "source": [
    "vol_period_proj = vol_proj.reset_index().groupby([\"origin\",\"mode\",\"period\"])[\"volumes\"].sum().unstack(1)\n",
    "add_all = vol_proj.groupby([\"origin\",\"mode\"]).sum().unstack()\n",
    "add_all [\"period\"] = \"All_Day\"\n",
    "add_all .set_index('period', append=True, inplace=True)\n",
    "vol_period_proj = pd.concat([vol_period_proj ,add_all])"
   ]
  },
  {
   "cell_type": "code",
   "execution_count": 81,
   "metadata": {},
   "outputs": [],
   "source": [
    "\n",
    "part_modale_ref = ((vol_period/pd.DataFrame(vol_period.sum(axis =1)).values) * 100).fillna(0)\n",
    "part_modale_proj= ((vol_period_proj/pd.DataFrame(vol_period_proj.sum(axis =1)).values) * 100).fillna(0)\n",
    "diff_part_modale = (part_modale_proj - part_modale_ref).fillna(0)\n",
    "diff_part_modale_relative = ((diff_part_modale * 100) /part_modale_ref).fillna(0)\n",
    "diff_part_modale_relative.columns = \"diff_part_modale_\" + diff_part_modale_relative.columns +\"_relative_%\"\n",
    "diff_part_modale.columns = \"diff_part_modale_\" + diff_part_modale.columns +\"_%\"\n",
    "part_modale_ref.columns = \"part_modal_ref_ \" + part_modale_ref.columns \n",
    "part_modale_zones = part_modale_ref.merge(diff_part_modale, left_index = True, right_index = True)\n",
    "part_modale_zones = part_modale_zones.merge(diff_part_modale_relative, left_index = True, right_index = True)"
   ]
  },
  {
   "cell_type": "code",
   "execution_count": 82,
   "metadata": {},
   "outputs": [],
   "source": [
    "\n",
    "zones.index.name = \"origin\"\n",
    "gpd.GeoDataFrame(part_modale_zones.round(1).join(zones[[\"geometry\"]])).to_file(output_folder+'zones_part_modale.geojson',driver='GeoJSON')"
   ]
  },
  {
   "cell_type": "code",
   "execution_count": 83,
   "metadata": {},
   "outputs": [],
   "source": [
    "vol_time = vol_ref * time_ref"
   ]
  },
  {
   "cell_type": "code",
   "execution_count": 84,
   "metadata": {},
   "outputs": [],
   "source": [
    "vol_diff_time.name = \"time\"\n",
    "vol_time.name = \"time\"\n",
    "diff_time_period = (vol_diff_time.reset_index().groupby([\"origin\",\"mode\",\"period\"])[\"time\"].sum()/vol_ref.groupby(level = [\"origin\",\"mode\",\"period\"]).sum()).unstack(1)\n",
    "time_period = (vol_time.reset_index().groupby([\"origin\",\"mode\",\"period\"])[\"time\"].sum()/vol_ref.groupby(level = [\"origin\",\"mode\",\"period\"]).sum()).unstack(1)\n",
    "time_zones  = time_period .merge(diff_time_period, left_index = True, right_index = True,suffixes = (\"_time\",\"_difference_time\") )"
   ]
  },
  {
   "cell_type": "code",
   "execution_count": 85,
   "metadata": {},
   "outputs": [],
   "source": [
    "gpd.GeoDataFrame(time_zones.round(1).join(zones[[\"geometry\"]])).to_file(output_folder+'zones_time.geojson',driver='GeoJSON')"
   ]
  },
  {
   "cell_type": "code",
   "execution_count": 86,
   "metadata": {},
   "outputs": [],
   "source": [
    "diff_time_period = (vol_diff_time.reset_index().groupby([\"origin\",\"sub_mode\",\"period\"])[\"time\"].sum()/vol_ref.groupby(level = [\"origin\",\"sub_mode\",\"period\"]).sum()).unstack(1)\n",
    "time_period = (vol_time.reset_index().groupby([\"origin\",\"sub_mode\",\"period\"])[\"time\"].sum()/vol_ref.groupby(level = [\"origin\",\"sub_mode\",\"period\"]).sum()).unstack(1)\n",
    "time_zones  = time_period .merge(diff_time_period, left_index = True, right_index = True,suffixes = (\"_time\",\"_difference_time\") )\n",
    "gpd.GeoDataFrame(time_zones.round(1).join(zones[[\"geometry\"]])).to_file(output_folder+'zones_time_sub_mode.geojson',driver='GeoJSON')"
   ]
  },
  {
   "cell_type": "code",
   "execution_count": null,
   "metadata": {},
   "outputs": [],
   "source": []
  },
  {
   "cell_type": "code",
   "execution_count": null,
   "metadata": {},
   "outputs": [],
   "source": []
  }
 ],
 "metadata": {
  "celltoolbar": "Aucun(e)",
  "kernelspec": {
   "display_name": "Python 3 (ipykernel)",
   "language": "python",
   "name": "python3"
  },
  "language_info": {
   "codemirror_mode": {
    "name": "ipython",
    "version": 3
   },
   "file_extension": ".py",
   "mimetype": "text/x-python",
   "name": "python",
   "nbconvert_exporter": "python",
   "pygments_lexer": "ipython3",
   "version": "3.8.6"
  }
 },
 "nbformat": 4,
 "nbformat_minor": 4
}
