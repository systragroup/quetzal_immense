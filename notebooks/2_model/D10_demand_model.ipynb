{
 "cells": [
  {
   "cell_type": "code",
   "execution_count": 937,
   "id": "71ccff01",
   "metadata": {},
   "outputs": [
    {
     "name": "stdout",
     "output_type": "stream",
     "text": [
      "{'scenario': 'orchestrator', 'training_folder': '../..', 'params': {'general': {'periods': ['am', 'pm', 'ip', 'op']}}}\n"
     ]
    }
   ],
   "source": [
    "import sys\n",
    "import json\n",
    "\n",
    "params = {'general':{'periods':['am','pm','ip','op']}}\n",
    "default = {'scenario':'orchestrator','training_folder': '../..', 'params': params} # Default execution parameters\n",
    "# here sceneario: demand is only use not on lambda.\n",
    "manual, argv = (True, default) if 'ipykernel' in sys.argv[0] else (False, dict(default, **json.loads(sys.argv[1])))\n",
    "print(argv)\n"
   ]
  },
  {
   "cell_type": "code",
   "execution_count": null,
   "id": "de00e9ba",
   "metadata": {},
   "outputs": [],
   "source": []
  },
  {
   "cell_type": "code",
   "execution_count": 938,
   "id": "99b5db61",
   "metadata": {},
   "outputs": [],
   "source": [
    "import os\n",
    "import time\n",
    "import geopandas as gpd\n",
    "import pandas as pd\n",
    "sys.path.insert(0, r'../../../quetzal') # Add path to quetzal\n",
    "from sklearn.neighbors import NearestNeighbors\n",
    "from numba import jit, njit\n",
    "import numba as nb\n",
    "from quetzal.model import stepmodel\n",
    "from shapely.geometry import LineString\n",
    "from quetzal.io.gtfs_reader.importer import get_epsg\n",
    "from quetzal.io import excel\n",
    "import numpy as np"
   ]
  },
  {
   "cell_type": "code",
   "execution_count": 939,
   "id": "505c32e1",
   "metadata": {},
   "outputs": [
    {
     "name": "stdout",
     "output_type": "stream",
     "text": [
      "On Lambda :  False\n",
      "input folder:  ['../../inputs/am/', '../../inputs/pm/', '../../inputs/ip/', '../../inputs/op/']\n",
      "output folder:  ../../scenarios/orchestrator/outputs/\n",
      "scen folder :  ['../../scenarios/am/outputs/', '../../scenarios/pm/outputs/', '../../scenarios/ip/outputs/', '../../scenarios/op/outputs/']\n"
     ]
    }
   ],
   "source": [
    "periods = argv['params']['general']['periods']\n",
    "on_lambda = bool(os.environ.get('AWS_EXECUTION_ENV'))\n",
    "print('On Lambda : ', on_lambda)\n",
    "training_folder = argv['training_folder']\n",
    "input_folder = training_folder +r'/inputs/'\n",
    "if on_lambda:\n",
    "    bucket_name = 'quetzal-immense' #os.environ.get('BUCKET_NAME')\n",
    "    output_folder = training_folder + '/outputs/'\n",
    "    scenario_folders = []\n",
    "    input_folders = []\n",
    "    for p in periods:\n",
    "        folder = 's3://' + bucket_name + '/' + p + '/outputs/'\n",
    "        scenario_folders.append(folder)\n",
    "        input_folders.append(input_folder + p + '/')\n",
    "\n",
    "else:\n",
    "    output_folder = training_folder + '/scenarios/' + argv['scenario'] + '/outputs/'\n",
    "    scenario_folders = []\n",
    "    input_folders = []\n",
    "    for p in periods:\n",
    "        folder = training_folder + '/scenarios/' + p + '/outputs/'\n",
    "        scenario_folders.append(folder)\n",
    "        input_folders.append(input_folder + p + '/')\n",
    "    \n",
    "print('input folder: ', input_folders)\n",
    "print('output folder: ', output_folder)\n",
    "print('scen folder : ', scenario_folders)\n",
    "\n",
    "if not os.path.exists(output_folder):\n",
    "    os.makedirs(output_folder)"
   ]
  },
  {
   "cell_type": "code",
   "execution_count": null,
   "id": "3dcb24f6",
   "metadata": {},
   "outputs": [],
   "source": []
  },
  {
   "cell_type": "code",
   "execution_count": null,
   "id": "f1dd746b",
   "metadata": {},
   "outputs": [],
   "source": []
  },
  {
   "cell_type": "code",
   "execution_count": 940,
   "id": "aa4bad55",
   "metadata": {},
   "outputs": [],
   "source": [
    "base_volumes = pd.read_csv(input_folder+'base/volumes/volumes.csv')\n",
    "base_volumes.index.name = 'index'\n",
    "volumes = base_volumes.copy()"
   ]
  },
  {
   "cell_type": "code",
   "execution_count": 941,
   "id": "9de202b6",
   "metadata": {},
   "outputs": [],
   "source": [
    "volumes['origin'] = 'zone_' + volumes['origin'].astype(str)\n",
    "volumes['destination'] = 'zone_' + volumes['destination'].astype(str)"
   ]
  },
  {
   "cell_type": "code",
   "execution_count": 942,
   "id": "6047b216",
   "metadata": {},
   "outputs": [],
   "source": [
    "class_dict = {'C_other':'car',\n",
    "            'C_EB':'car',\n",
    "            'BPAX':'pt', \n",
    "            'RPAX':'pt'}\n",
    "volumes['mode'] = volumes['vehicle_class'].apply(class_dict.get)\n"
   ]
  },
  {
   "cell_type": "code",
   "execution_count": 943,
   "id": "07a86a15",
   "metadata": {},
   "outputs": [],
   "source": [
    "volumes = volumes.groupby(['origin','destination','time_period','mode'])[['volume']].agg(sum).unstack().reset_index()"
   ]
  },
  {
   "cell_type": "code",
   "execution_count": 944,
   "id": "0dab74b0",
   "metadata": {},
   "outputs": [],
   "source": [
    "volumes.columns = ['origin','destination','time_period','car','pt']"
   ]
  },
  {
   "cell_type": "code",
   "execution_count": 945,
   "id": "d3447464",
   "metadata": {},
   "outputs": [],
   "source": [
    "volumes = volumes.fillna(0)"
   ]
  },
  {
   "cell_type": "code",
   "execution_count": null,
   "id": "d60bad57",
   "metadata": {},
   "outputs": [],
   "source": []
  },
  {
   "cell_type": "code",
   "execution_count": null,
   "id": "0d849b76",
   "metadata": {},
   "outputs": [],
   "source": [
    "period_dict={'am':'AM','pm':'PM','ip':'IP','op':'OP'}\n"
   ]
  },
  {
   "cell_type": "code",
   "execution_count": null,
   "id": "49029ff0",
   "metadata": {},
   "outputs": [],
   "source": [
    "#pour martin\n",
    "cols = ['origin', 'destination', 'time_period', 'vehicle_class', 'time']\n",
    "skim = pd.DataFrame()\n",
    "ref_skim = pd.DataFrame()\n",
    "for period, ref_folder, scen_folder in zip(periods,input_folders,scenario_folders):\n",
    "    print(period)\n",
    "    ref_pt_skim = pd.read_csv(scen_folder+'ref_pt_skim.csv')\n",
    "    ref_car_skim = pd.read_csv(scen_folder+'ref_car_skim.csv')\n",
    "    pt_skim = pd.read_csv(scen_folder+'pt_skim.csv')\n",
    "    car_skim = pd.read_csv(scen_folder+'car_skim.csv')\n",
    "    \n",
    "    ref_pt_skim['time_period'] = period_dict[period]\n",
    "    ref_car_skim['time_period'] = period_dict[period]\n",
    "    pt_skim['time_period'] = period_dict[period]\n",
    "    car_skim['time_period'] = period_dict[period]\n",
    "\n",
    "    ref_skim = pd.concat([ref_skim, ref_pt_skim[cols]])\n",
    "    ref_skim = pd.concat([ref_skim, ref_car_skim[cols]])\n",
    "    skim = pd.concat([skim, pt_skim[cols]])\n",
    "    skim = pd.concat([skim, car_skim[cols]])\n",
    "    \n",
    "    # skims pour martin:\n",
    "    # origin, destination, time_period, vehicle_class, time,\n",
    "    # ca: pt et road dans le meme fichier (vehicle_class => pt ou road)\n",
    "    # ref et pas ref."
   ]
  },
  {
   "cell_type": "code",
   "execution_count": 924,
   "id": "2b0243de",
   "metadata": {},
   "outputs": [],
   "source": [
    "skim.reset_index(drop=True).to_csv(output_folder+'skims'+'.csv')\n",
    "ref_skim.reset_index(drop=True).to_csv(output_folder+'ref_skims'+'.csv')"
   ]
  },
  {
   "cell_type": "markdown",
   "id": "95a65cd0",
   "metadata": {},
   "source": [
    "# modal shift"
   ]
  },
  {
   "cell_type": "code",
   "execution_count": null,
   "id": "71869d71",
   "metadata": {},
   "outputs": [],
   "source": []
  },
  {
   "cell_type": "code",
   "execution_count": null,
   "id": "2d728363",
   "metadata": {},
   "outputs": [],
   "source": []
  },
  {
   "cell_type": "code",
   "execution_count": null,
   "id": "5519a193",
   "metadata": {},
   "outputs": [],
   "source": []
  },
  {
   "cell_type": "code",
   "execution_count": null,
   "id": "9b6f1807",
   "metadata": {},
   "outputs": [],
   "source": []
  },
  {
   "cell_type": "code",
   "execution_count": 948,
   "id": "d25157cb",
   "metadata": {},
   "outputs": [],
   "source": [
    "def get_pt_part(pt_los:pd.DataFrame, \n",
    "                car_los:pd.DataFrame, \n",
    "                method:str='kirchhoff',\n",
    "                power:float=-1.42,\n",
    "                part_max:float=1) -> pd.DataFrame:\n",
    "    \n",
    "    cols = ['origin','destination','time']\n",
    "    los = pt_los[cols].merge(car_los[cols],on=['origin','destination'],how='inner')\n",
    "    los = los.rename(columns = {'time_x':'time_pt','time_y':'time_car'})\n",
    "    los['time_ratio'] = los['time_pt'] / los['time_car']\n",
    "    if method == 'kirchhoff':\n",
    "        los['pt_part'] = los['time_ratio'].apply(lambda x: min(x**(power), part_max))\n",
    "    else:\n",
    "        print('method not recognized')\n",
    "    return los\n"
   ]
  },
  {
   "cell_type": "code",
   "execution_count": 949,
   "id": "53e150cb",
   "metadata": {},
   "outputs": [
    {
     "name": "stdout",
     "output_type": "stream",
     "text": [
      "am\n",
      "pm\n",
      "ip\n",
      "op\n"
     ]
    }
   ],
   "source": [
    "for period, ref_folder, scen_folder in zip(periods,input_folders,scenario_folders):\n",
    "    print(period)\n",
    "    ref_pt_skim = pd.read_csv(scen_folder+'ref_pt_skim.csv')\n",
    "    ref_car_skim = pd.read_csv(scen_folder+'ref_car_skim.csv')\n",
    "    pt_skim = pd.read_csv(scen_folder+'pt_skim.csv')\n",
    "    car_skim = pd.read_csv(scen_folder+'car_skim.csv')\n",
    "    \n",
    "    v = volumes[volumes['time_period'] == period_dict[period]]\n",
    "    \n",
    "    ref_pt_part = get_pt_part(ref_pt_skim, ref_car_skim)\n",
    "    pt_part = get_pt_part(pt_skim, car_skim)\n",
    "    \n",
    "    ref_pt_part = ref_pt_part.set_index(['origin','destination'])['pt_part'].to_dict()\n",
    "    pt_part['ref_pt_part'] = pt_part.set_index(['origin','destination']).index.map(ref_pt_part.get)\n",
    "    pt_part['transfert_prob'] = pt_part['pt_part'] - pt_part['ref_pt_part']\n",
    "    \n",
    "    transfert_prob = pt_part.set_index(['origin','destination'])['transfert_prob'].to_dict()\n",
    "    v['transfert_prob'] = v.set_index(['origin','destination']).index.map(transfert_prob.get)\n",
    "    v['transfert'] = v['pt'] * v['transfert_prob']\n",
    "    \n",
    "    volumes.loc[volumes['time_period'] == period_dict[period],'new_pt'] =v['pt'] + v['transfert']\n",
    "    volumes.loc[volumes['time_period'] == period_dict[period],'new_car'] = v['car'] - v['transfert']\n",
    "    \n",
    "    #volumes[['origin','destination','pt','car']].to_csv(output_folder+'volume_'+period+'.csv')"
   ]
  },
  {
   "cell_type": "code",
   "execution_count": 950,
   "id": "972fa6f6",
   "metadata": {},
   "outputs": [],
   "source": [
    "volumes['new_car'] = volumes['new_car'].fillna(volumes['car'])\n",
    "volumes['new_pt'] = volumes['new_pt'].fillna(volumes['pt'])"
   ]
  },
  {
   "cell_type": "code",
   "execution_count": 951,
   "id": "ad5bc29c",
   "metadata": {},
   "outputs": [],
   "source": [
    "volumes['car_growth'] = volumes['new_car']/volumes['car']\n",
    "volumes['pt_growth'] = volumes['new_pt']/volumes['pt']"
   ]
  },
  {
   "cell_type": "code",
   "execution_count": 952,
   "id": "9deb004b",
   "metadata": {},
   "outputs": [],
   "source": [
    "base_volumes['o'] = 'zone_' + base_volumes['origin'].astype(str)\n",
    "base_volumes['d'] = 'zone_' + base_volumes['destination'].astype(str)"
   ]
  },
  {
   "cell_type": "code",
   "execution_count": 953,
   "id": "7c704b5e",
   "metadata": {},
   "outputs": [],
   "source": [
    "car_dict = volumes.set_index(['origin','destination','time_period'])['car_growth'].to_dict()\n",
    "pt_dict = volumes.set_index(['origin','destination','time_period'])['pt_growth'].to_dict()"
   ]
  },
  {
   "cell_type": "code",
   "execution_count": 954,
   "id": "c2f2757a",
   "metadata": {
    "scrolled": true
   },
   "outputs": [],
   "source": [
    "base_volumes['pt_growth'] = base_volumes.set_index(['o','d','time_period']).index.map(pt_dict.get)\n",
    "base_volumes['car_growth'] = base_volumes.set_index(['o','d','time_period']).index.map(car_dict.get)"
   ]
  },
  {
   "cell_type": "code",
   "execution_count": null,
   "id": "017f44bd",
   "metadata": {},
   "outputs": [],
   "source": []
  },
  {
   "cell_type": "code",
   "execution_count": 955,
   "id": "3f8b5287",
   "metadata": {},
   "outputs": [],
   "source": [
    "car_filter = base_volumes['vehicle_class'].isin(['C_other', 'C_EB'])\n",
    "base_volumes.loc[car_filter,'volume'] = base_volumes.loc[car_filter,'volume'] * base_volumes.loc[car_filter,'car_growth'] \n"
   ]
  },
  {
   "cell_type": "code",
   "execution_count": 956,
   "id": "3fd34bf5",
   "metadata": {},
   "outputs": [],
   "source": [
    "pt_filter = base_volumes['vehicle_class'].isin(['BPAX', 'RPAX'])\n",
    "base_volumes.loc[pt_filter,'volume'] = base_volumes.loc[pt_filter,'volume'] * base_volumes.loc[pt_filter,'pt_growth'] \n"
   ]
  },
  {
   "cell_type": "code",
   "execution_count": 957,
   "id": "746a795e",
   "metadata": {},
   "outputs": [],
   "source": [
    "base_volumes = base_volumes.drop(columns=['o','d','pt_growth','car_growth'])"
   ]
  },
  {
   "cell_type": "code",
   "execution_count": 958,
   "id": "1532832d",
   "metadata": {},
   "outputs": [],
   "source": [
    "base_volumes.to_csv(output_folder+'volumes'+'.csv')"
   ]
  },
  {
   "cell_type": "code",
   "execution_count": null,
   "id": "573f76f4",
   "metadata": {},
   "outputs": [],
   "source": []
  },
  {
   "cell_type": "code",
   "execution_count": null,
   "id": "6784a3b4",
   "metadata": {},
   "outputs": [],
   "source": []
  },
  {
   "cell_type": "code",
   "execution_count": 961,
   "id": "6086213a",
   "metadata": {},
   "outputs": [
    {
     "ename": "NameError",
     "evalue": "name 'end_of_notebook' is not defined",
     "output_type": "error",
     "traceback": [
      "\u001b[0;31m---------------------------------------------------------------------------\u001b[0m",
      "\u001b[0;31mNameError\u001b[0m                                 Traceback (most recent call last)",
      "Cell \u001b[0;32mIn[961], line 1\u001b[0m\n\u001b[0;32m----> 1\u001b[0m \u001b[43mend_of_notebook\u001b[49m\n",
      "\u001b[0;31mNameError\u001b[0m: name 'end_of_notebook' is not defined"
     ]
    }
   ],
   "source": [
    "end_of_notebook"
   ]
  },
  {
   "cell_type": "markdown",
   "id": "16f48759",
   "metadata": {},
   "source": [
    "# incremental"
   ]
  },
  {
   "cell_type": "code",
   "execution_count": 235,
   "id": "54aa9d0e",
   "metadata": {},
   "outputs": [],
   "source": [
    "# 12.3.2 Incremental or Pivot-point Modelling"
   ]
  },
  {
   "cell_type": "code",
   "execution_count": 236,
   "id": "d29f2563",
   "metadata": {},
   "outputs": [],
   "source": [
    "volumes = pd.read_csv(ref_folder+'volumes/volumes.csv')\n",
    "#volumes = volumes.set_index('index')\n",
    "\n",
    "ref_pt_skim = pd.read_csv(ref_folder+'skims/pt_skim.csv')\n",
    "ref_car_skim = pd.read_csv(ref_folder+'skims/car_skim.csv')\n",
    "pt_skim = pd.read_csv(scen_folder+'pt_skim.csv')\n",
    "car_skim = pd.read_csv(scen_folder+'car_skim.csv')\n",
    "\n",
    "pt_skim['time'] = pt_skim['time']-60"
   ]
  },
  {
   "cell_type": "code",
   "execution_count": 237,
   "id": "7668e272",
   "metadata": {
    "scrolled": true
   },
   "outputs": [],
   "source": [
    "cols = ['origin','destination','time']\n",
    "\n",
    "ref_los = ref_pt_skim[cols].merge(ref_car_skim[cols],on=['origin','destination'],how='inner')\n",
    "ref_los = ref_los.rename(columns = {'time_x':'time_pt','time_y':'time_car'})\n",
    "los = pt_skim[cols].merge(car_skim[cols],on=['origin','destination'],how='inner')\n",
    "los = los.rename(columns = {'time_x':'time_pt','time_y':'time_car'})\n",
    "\n",
    "# pt, car is utility (or time)"
   ]
  },
  {
   "cell_type": "code",
   "execution_count": 238,
   "id": "ad76ddcb",
   "metadata": {},
   "outputs": [],
   "source": [
    "timescale = 60 # seconds to minutes\n",
    "constante_modal_tc = 0\n",
    "los['utility_car'] = -los['time_car']/timescale\n",
    "los['utility_pt'] = -(los['time_pt']+constante_modal_tc)/timescale\n",
    "\n",
    "ref_los['utility_car'] = -ref_los['time_car']/timescale\n",
    "ref_los['utility_pt'] = -(ref_los['time_pt']+constante_modal_tc)/timescale"
   ]
  },
  {
   "cell_type": "code",
   "execution_count": null,
   "id": "054990d0",
   "metadata": {},
   "outputs": [],
   "source": []
  },
  {
   "cell_type": "code",
   "execution_count": 239,
   "id": "e61b0ad3",
   "metadata": {},
   "outputs": [],
   "source": [
    "volumes['proportion_pt'] = volumes['pt']/(volumes['pt']+volumes['car'])\n",
    "volumes['proportion_car'] = volumes['car']/(volumes['pt']+volumes['car'])\n",
    "volumes['proportion_pt'] = volumes['proportion_pt'].fillna(0)\n",
    "volumes['proportion_car'] = volumes['proportion_car'].fillna(0)"
   ]
  },
  {
   "cell_type": "code",
   "execution_count": 240,
   "id": "b877fac4",
   "metadata": {},
   "outputs": [],
   "source": [
    "volumes['delU_pt'] = los['utility_pt'] - ref_los['utility_pt']\n",
    "volumes['delU_car'] = los['utility_car'] - ref_los['utility_car']"
   ]
  },
  {
   "cell_type": "code",
   "execution_count": null,
   "id": "d2edaa57",
   "metadata": {},
   "outputs": [],
   "source": []
  },
  {
   "cell_type": "code",
   "execution_count": 241,
   "id": "28d2b515",
   "metadata": {},
   "outputs": [],
   "source": [
    "denum = volumes['proportion_pt']*np.exp(volumes['delU_pt']) + volumes['proportion_car']*np.exp(volumes['delU_car'])\n",
    "volumes['new_proportion_pt'] = volumes['proportion_pt']*np.exp(volumes['delU_pt']) / denum\n",
    "volumes['new_proportion_car'] = volumes['proportion_car']*np.exp(volumes['delU_car']) / denum\n",
    "\n",
    "volumes['new_proportion_pt'] = volumes['new_proportion_pt'].fillna(0)\n",
    "volumes['new_proportion_car'] = volumes['new_proportion_car'].fillna(0)"
   ]
  },
  {
   "cell_type": "code",
   "execution_count": 579,
   "id": "523505d5",
   "metadata": {},
   "outputs": [
    {
     "data": {
      "text/html": [
       "<div>\n",
       "<style scoped>\n",
       "    .dataframe tbody tr th:only-of-type {\n",
       "        vertical-align: middle;\n",
       "    }\n",
       "\n",
       "    .dataframe tbody tr th {\n",
       "        vertical-align: top;\n",
       "    }\n",
       "\n",
       "    .dataframe thead th {\n",
       "        text-align: right;\n",
       "    }\n",
       "</style>\n",
       "<table border=\"1\" class=\"dataframe\">\n",
       "  <thead>\n",
       "    <tr style=\"text-align: right;\">\n",
       "      <th></th>\n",
       "      <th>origin</th>\n",
       "      <th>destination</th>\n",
       "      <th>time_period</th>\n",
       "      <th>car</th>\n",
       "      <th>pt</th>\n",
       "      <th>new_pt</th>\n",
       "      <th>new_car</th>\n",
       "    </tr>\n",
       "  </thead>\n",
       "  <tbody>\n",
       "    <tr>\n",
       "      <th>0</th>\n",
       "      <td>zone_1</td>\n",
       "      <td>zone_1</td>\n",
       "      <td>IP</td>\n",
       "      <td>0.0</td>\n",
       "      <td>0.027379</td>\n",
       "      <td>NaN</td>\n",
       "      <td>NaN</td>\n",
       "    </tr>\n",
       "    <tr>\n",
       "      <th>1</th>\n",
       "      <td>zone_1</td>\n",
       "      <td>zone_10</td>\n",
       "      <td>AM</td>\n",
       "      <td>0.0</td>\n",
       "      <td>17.991072</td>\n",
       "      <td>16.938099</td>\n",
       "      <td>1.052973</td>\n",
       "    </tr>\n",
       "    <tr>\n",
       "      <th>2</th>\n",
       "      <td>zone_1</td>\n",
       "      <td>zone_10</td>\n",
       "      <td>IP</td>\n",
       "      <td>0.0</td>\n",
       "      <td>7.142308</td>\n",
       "      <td>NaN</td>\n",
       "      <td>NaN</td>\n",
       "    </tr>\n",
       "    <tr>\n",
       "      <th>3</th>\n",
       "      <td>zone_1</td>\n",
       "      <td>zone_10</td>\n",
       "      <td>OP</td>\n",
       "      <td>0.0</td>\n",
       "      <td>3.262046</td>\n",
       "      <td>NaN</td>\n",
       "      <td>NaN</td>\n",
       "    </tr>\n",
       "    <tr>\n",
       "      <th>4</th>\n",
       "      <td>zone_1</td>\n",
       "      <td>zone_10</td>\n",
       "      <td>PM</td>\n",
       "      <td>0.0</td>\n",
       "      <td>3.589325</td>\n",
       "      <td>NaN</td>\n",
       "      <td>NaN</td>\n",
       "    </tr>\n",
       "    <tr>\n",
       "      <th>...</th>\n",
       "      <td>...</td>\n",
       "      <td>...</td>\n",
       "      <td>...</td>\n",
       "      <td>...</td>\n",
       "      <td>...</td>\n",
       "      <td>...</td>\n",
       "      <td>...</td>\n",
       "    </tr>\n",
       "    <tr>\n",
       "      <th>492143</th>\n",
       "      <td>zone_99</td>\n",
       "      <td>zone_98</td>\n",
       "      <td>AM</td>\n",
       "      <td>0.0</td>\n",
       "      <td>0.114237</td>\n",
       "      <td>0.110720</td>\n",
       "      <td>0.003517</td>\n",
       "    </tr>\n",
       "    <tr>\n",
       "      <th>492144</th>\n",
       "      <td>zone_99</td>\n",
       "      <td>zone_98</td>\n",
       "      <td>IP</td>\n",
       "      <td>0.0</td>\n",
       "      <td>0.005365</td>\n",
       "      <td>NaN</td>\n",
       "      <td>NaN</td>\n",
       "    </tr>\n",
       "    <tr>\n",
       "      <th>492145</th>\n",
       "      <td>zone_99</td>\n",
       "      <td>zone_98</td>\n",
       "      <td>OP</td>\n",
       "      <td>0.0</td>\n",
       "      <td>0.027998</td>\n",
       "      <td>NaN</td>\n",
       "      <td>NaN</td>\n",
       "    </tr>\n",
       "    <tr>\n",
       "      <th>492146</th>\n",
       "      <td>zone_99</td>\n",
       "      <td>zone_99</td>\n",
       "      <td>AM</td>\n",
       "      <td>0.0</td>\n",
       "      <td>0.049822</td>\n",
       "      <td>NaN</td>\n",
       "      <td>NaN</td>\n",
       "    </tr>\n",
       "    <tr>\n",
       "      <th>492147</th>\n",
       "      <td>zone_99</td>\n",
       "      <td>zone_99</td>\n",
       "      <td>IP</td>\n",
       "      <td>0.0</td>\n",
       "      <td>0.005680</td>\n",
       "      <td>NaN</td>\n",
       "      <td>NaN</td>\n",
       "    </tr>\n",
       "  </tbody>\n",
       "</table>\n",
       "<p>492148 rows × 7 columns</p>\n",
       "</div>"
      ],
      "text/plain": [
       "         origin destination time_period  car         pt     new_pt   new_car\n",
       "0        zone_1      zone_1          IP  0.0   0.027379        NaN       NaN\n",
       "1        zone_1     zone_10          AM  0.0  17.991072  16.938099  1.052973\n",
       "2        zone_1     zone_10          IP  0.0   7.142308        NaN       NaN\n",
       "3        zone_1     zone_10          OP  0.0   3.262046        NaN       NaN\n",
       "4        zone_1     zone_10          PM  0.0   3.589325        NaN       NaN\n",
       "...         ...         ...         ...  ...        ...        ...       ...\n",
       "492143  zone_99     zone_98          AM  0.0   0.114237   0.110720  0.003517\n",
       "492144  zone_99     zone_98          IP  0.0   0.005365        NaN       NaN\n",
       "492145  zone_99     zone_98          OP  0.0   0.027998        NaN       NaN\n",
       "492146  zone_99     zone_99          AM  0.0   0.049822        NaN       NaN\n",
       "492147  zone_99     zone_99          IP  0.0   0.005680        NaN       NaN\n",
       "\n",
       "[492148 rows x 7 columns]"
      ]
     },
     "execution_count": 579,
     "metadata": {},
     "output_type": "execute_result"
    }
   ],
   "source": [
    "volumes"
   ]
  },
  {
   "cell_type": "code",
   "execution_count": 679,
   "id": "a4878015",
   "metadata": {},
   "outputs": [],
   "source": [
    "#check dans 12 nested logit in logic. \n",
    "#remonter lutiliter dun nid inf a sup"
   ]
  },
  {
   "cell_type": "code",
   "execution_count": 891,
   "id": "81a30269",
   "metadata": {},
   "outputs": [
    {
     "data": {
      "text/plain": [
       "vehicle_class\n",
       "BPAX       3.410285e+04\n",
       "C_EB       4.911758e+04\n",
       "C_other    1.305102e+06\n",
       "RPAX       2.052977e+04\n",
       "Name: volume, dtype: float64"
      ]
     },
     "execution_count": 891,
     "metadata": {},
     "output_type": "execute_result"
    }
   ],
   "source": [
    "base_volumes.groupby('vehicle_class')['volume'].agg(sum)"
   ]
  },
  {
   "cell_type": "code",
   "execution_count": null,
   "id": "ffe59a1b",
   "metadata": {},
   "outputs": [],
   "source": []
  }
 ],
 "metadata": {
  "kernelspec": {
   "display_name": "quetzal_env",
   "language": "python",
   "name": "quetzal_env"
  },
  "language_info": {
   "codemirror_mode": {
    "name": "ipython",
    "version": 3
   },
   "file_extension": ".py",
   "mimetype": "text/x-python",
   "name": "python",
   "nbconvert_exporter": "python",
   "pygments_lexer": "ipython3",
   "version": "3.8.6"
  }
 },
 "nbformat": 4,
 "nbformat_minor": 5
}
