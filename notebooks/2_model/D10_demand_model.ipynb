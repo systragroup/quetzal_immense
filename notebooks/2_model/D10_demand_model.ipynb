{
 "cells": [
  {
   "cell_type": "code",
   "execution_count": 24,
   "id": "71ccff01",
   "metadata": {},
   "outputs": [
    {
     "name": "stdout",
     "output_type": "stream",
     "text": [
      "{'scenario': 'orchestrator', 'training_folder': '../..', 'params': {'general': {'periods': ['test']}}}\n"
     ]
    }
   ],
   "source": [
    "import sys\n",
    "import json\n",
    "\n",
    "params = {'general':{'periods':['test']}}\n",
    "default = {'scenario':'orchestrator','training_folder': '../..', 'params': params} # Default execution parameters\n",
    "# here sceneario: demand is only use not on lambda.\n",
    "manual, argv = (True, default) if 'ipykernel' in sys.argv[0] else (False, dict(default, **json.loads(sys.argv[1])))\n",
    "print(argv)\n"
   ]
  },
  {
   "cell_type": "code",
   "execution_count": null,
   "id": "de00e9ba",
   "metadata": {},
   "outputs": [],
   "source": []
  },
  {
   "cell_type": "code",
   "execution_count": 25,
   "id": "99b5db61",
   "metadata": {},
   "outputs": [],
   "source": [
    "import os\n",
    "import time\n",
    "import geopandas as gpd\n",
    "import pandas as pd\n",
    "sys.path.insert(0, r'../../../quetzal') # Add path to quetzal\n",
    "from sklearn.neighbors import NearestNeighbors\n",
    "from numba import jit, njit\n",
    "import numba as nb\n",
    "from quetzal.model import stepmodel\n",
    "from shapely.geometry import LineString\n",
    "from quetzal.io.gtfs_reader.importer import get_epsg\n",
    "from quetzal.io import excel\n"
   ]
  },
  {
   "cell_type": "code",
   "execution_count": 26,
   "id": "505c32e1",
   "metadata": {},
   "outputs": [
    {
     "name": "stdout",
     "output_type": "stream",
     "text": [
      "On Lambda :  False\n",
      "input folder:  ['../../inputs/test/']\n",
      "output folder:  ../../scenarios/orchestrator/outputs/\n",
      "scen folder :  ['../../scenarios/test/outputs/']\n"
     ]
    }
   ],
   "source": [
    "periods = argv['params']['general']['periods']\n",
    "on_lambda = bool(os.environ.get('AWS_EXECUTION_ENV'))\n",
    "print('On Lambda : ', on_lambda)\n",
    "training_folder = argv['training_folder']\n",
    "input_folder = training_folder +r'/inputs/'\n",
    "if on_lambda:\n",
    "    bucket_name = 'quetzal-immense' #os.environ.get('BUCKET_NAME')\n",
    "    output_folder = training_folder + '/outputs/'\n",
    "    scenario_folders = []\n",
    "    input_folders = []\n",
    "    for p in periods:\n",
    "        folder = 's3://' + bucket_name + '/' + p + '/outputs/'\n",
    "        scenario_folders.append(folder)\n",
    "        input_folders.append(input_folder + p + '/')\n",
    "\n",
    "else:\n",
    "    output_folder = training_folder + '/scenarios/' + argv['scenario'] + '/outputs/'\n",
    "    scenario_folders = []\n",
    "    input_folders = []\n",
    "    for p in periods:\n",
    "        folder = training_folder + '/scenarios/' + p + '/outputs/'\n",
    "        scenario_folders.append(folder)\n",
    "        input_folders.append(input_folder + p + '/')\n",
    "    \n",
    "print('input folder: ', input_folders)\n",
    "print('output folder: ', output_folder)\n",
    "print('scen folder : ', scenario_folders)\n",
    "\n",
    "if not os.path.exists(output_folder):\n",
    "    os.makedirs(output_folder)"
   ]
  },
  {
   "cell_type": "code",
   "execution_count": 27,
   "id": "3dcb24f6",
   "metadata": {},
   "outputs": [],
   "source": [
    "#var, ancestry = excel.read_var(file=input_folder+'/parameters.xlsx', scenario=period, return_ancestry=True)\n"
   ]
  },
  {
   "cell_type": "code",
   "execution_count": null,
   "id": "f1dd746b",
   "metadata": {},
   "outputs": [],
   "source": []
  },
  {
   "cell_type": "markdown",
   "id": "95a65cd0",
   "metadata": {},
   "source": [
    "# modal shift"
   ]
  },
  {
   "cell_type": "code",
   "execution_count": 28,
   "id": "d25157cb",
   "metadata": {},
   "outputs": [],
   "source": [
    "def get_pt_part(pt_los, car_los, volumes, method='kirchhoff', power=-1.42, part_max=1):\n",
    "    pt_time = pt_los.set_index(['origin','destination'])['time'].to_dict()\n",
    "    car_time = car_los.set_index(['origin','destination'])['time'].to_dict()\n",
    "    volumes['pt_time'] = volumes.set_index(['origin','destination']).index.map(pt_time.get)\n",
    "    volumes['car_time'] = volumes.set_index(['origin','destination']).index.map(car_time.get)\n",
    "    volumes['ratio_temps'] = volumes['pt_time'] / volumes['car_time']\n",
    "    if method == 'kirchhoff':\n",
    "        volumes['part_pt'] = volumes['ratio_temps'].apply(lambda x: min(x**(power), part_max))\n",
    "    else:\n",
    "        print('method not recognized')\n",
    "    return volumes\n"
   ]
  },
  {
   "cell_type": "code",
   "execution_count": 29,
   "id": "7668e272",
   "metadata": {
    "scrolled": true
   },
   "outputs": [
    {
     "name": "stdout",
     "output_type": "stream",
     "text": [
      "../../inputs/test/\n"
     ]
    }
   ],
   "source": [
    "for period, ref_folder, scen_folder in zip(periods,input_folders,scenario_folders):\n",
    "    print(ref_folder)\n",
    "    ref_pt_skim = pd.read_csv(ref_folder+'skims/pt_skim.csv')\n",
    "    ref_car_skim = pd.read_csv(ref_folder+'skims/car_skim.csv')\n",
    "    ref_volumes = pd.read_csv(ref_folder+'volumes/volumes.csv')\n",
    "    pt_skim = pd.read_csv(scen_folder+'pt_skim.csv')\n",
    "    car_skim = pd.read_csv(scen_folder+'car_skim.csv')\n",
    "    \n",
    "    ref_pt_part = get_pt_part(ref_pt_skim, ref_car_skim, ref_volumes.copy())\n",
    "    pt_part = get_pt_part(pt_skim, car_skim, ref_volumes.copy())\n",
    "    \n",
    "    ref_pt_part = ref_pt_part.set_index(['origin','destination'])['part_pt'].to_dict()\n",
    "    pt_part['ref_part_pt'] = pt_part.set_index(['origin','destination']).index.map(ref_pt_part.get)\n",
    "    pt_part['probabilite transfert'] = pt_part['part_pt'] - pt_part['ref_part_pt']\n",
    "    transfert = pt_part['pt'] * pt_part['probabilite transfert']\n",
    "    pt_part['pt'] = pt_part['pt'] + transfert\n",
    "    pt_part['car'] = pt_part['car'] - transfert\n",
    "    \n",
    "    pt_part[ref_volumes.columns].to_csv(output_folder+'volume_'+period+'.csv')"
   ]
  },
  {
   "cell_type": "code",
   "execution_count": null,
   "id": "a0983d5e",
   "metadata": {},
   "outputs": [],
   "source": []
  },
  {
   "cell_type": "code",
   "execution_count": null,
   "id": "df898654",
   "metadata": {},
   "outputs": [],
   "source": []
  }
 ],
 "metadata": {
  "kernelspec": {
   "display_name": "quetzal_env",
   "language": "python",
   "name": "quetzal_env"
  },
  "language_info": {
   "codemirror_mode": {
    "name": "ipython",
    "version": 3
   },
   "file_extension": ".py",
   "mimetype": "text/x-python",
   "name": "python",
   "nbconvert_exporter": "python",
   "pygments_lexer": "ipython3",
   "version": "3.8.6"
  }
 },
 "nbformat": 4,
 "nbformat_minor": 5
}
