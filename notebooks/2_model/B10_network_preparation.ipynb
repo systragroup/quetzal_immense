{
 "cells": [
  {
   "cell_type": "code",
   "execution_count": 372,
   "id": "71ccff01",
   "metadata": {},
   "outputs": [
    {
     "name": "stdout",
     "output_type": "stream",
     "text": [
      "{'training_folder': '../..', 'params': {'general': {'period': 'am'}}}\n"
     ]
    }
   ],
   "source": [
    "import sys\n",
    "import json\n",
    "\n",
    "params = {'general':{'period':'am'}}\n",
    "default = {'training_folder': '../..', 'params': params} # Default execution parameters\n",
    "manual, argv = (True, default) if 'ipykernel' in sys.argv[0] else (False, dict(default, **json.loads(sys.argv[1])))\n",
    "print(argv)\n"
   ]
  },
  {
   "cell_type": "code",
   "execution_count": null,
   "id": "de00e9ba",
   "metadata": {},
   "outputs": [],
   "source": []
  },
  {
   "cell_type": "code",
   "execution_count": 373,
   "id": "99b5db61",
   "metadata": {},
   "outputs": [],
   "source": [
    "import os\n",
    "import time\n",
    "import geopandas as gpd\n",
    "import pandas as pd\n",
    "sys.path.insert(0, r'../../../quetzal') # Add path to quetzal\n",
    "from sklearn.neighbors import NearestNeighbors\n",
    "from numba import jit, njit\n",
    "import numba as nb\n",
    "from quetzal.model import stepmodel\n",
    "from shapely.geometry import LineString\n",
    "from quetzal.io.gtfs_reader.importer import get_epsg\n",
    "from quetzal.io import excel\n"
   ]
  },
  {
   "cell_type": "code",
   "execution_count": 374,
   "id": "505c32e1",
   "metadata": {},
   "outputs": [
    {
     "name": "stdout",
     "output_type": "stream",
     "text": [
      "On Lambda :  False\n",
      "input folder:  ../../inputs/\n",
      "output folder:  ../../scenarios/am/outputs/\n",
      "scen folder :  ../../scenarios/am/inputs/\n",
      "model folder :  ../../scenarios/am/model/\n"
     ]
    }
   ],
   "source": [
    "period = argv['params']['general']['period']\n",
    "on_lambda = bool(os.environ.get('AWS_EXECUTION_ENV'))\n",
    "print('On Lambda : ', on_lambda)\n",
    "training_folder = argv['training_folder']\n",
    "input_folder = training_folder +r'/inputs/'\n",
    "\n",
    "if on_lambda:\n",
    "    scenario_folder = training_folder +r'/inputs/'\n",
    "    output_folder = training_folder + '/outputs/'\n",
    "    model_folder = training_folder + '/model/'\n",
    "else:\n",
    "    scenario_folder = training_folder + '/scenarios/' + period + '/inputs/'\n",
    "    output_folder = training_folder + '/scenarios/' + period + '/outputs/'\n",
    "    model_folder = training_folder + '/scenarios/' + period + '/model/'\n",
    "print('input folder: ', input_folder)\n",
    "print('output folder: ', output_folder)\n",
    "print('scen folder : ', scenario_folder)\n",
    "print('model folder : ', model_folder)\n",
    "\n",
    "\n",
    "pt_folder = scenario_folder + 'pt/'\n",
    "road_folder = input_folder+'base/' + 'road/'\n",
    "if not os.path.exists(output_folder):\n",
    "    os.makedirs(output_folder)"
   ]
  },
  {
   "cell_type": "code",
   "execution_count": 375,
   "id": "3dcb24f6",
   "metadata": {},
   "outputs": [],
   "source": [
    "var, ancestry = excel.read_var(file=input_folder+'/parameters.xlsx', scenario=period, return_ancestry=True)\n"
   ]
  },
  {
   "cell_type": "code",
   "execution_count": 376,
   "id": "f1dd746b",
   "metadata": {},
   "outputs": [
    {
     "data": {
      "text/plain": [
       "10000000000.0"
      ]
     },
     "execution_count": 376,
     "metadata": {},
     "output_type": "execute_result"
    }
   ],
   "source": [
    "var['zone_to_transit']['max_length']"
   ]
  },
  {
   "cell_type": "markdown",
   "id": "95a65cd0",
   "metadata": {},
   "source": [
    "# inputs"
   ]
  },
  {
   "cell_type": "code",
   "execution_count": 377,
   "id": "541512a4",
   "metadata": {},
   "outputs": [],
   "source": [
    "links = gpd.read_file(pt_folder + 'links.geojson') \n",
    "nodes = gpd.read_file(pt_folder + 'nodes.geojson')\n",
    "links = links.set_index('index')\n",
    "nodes = nodes.set_index('index')"
   ]
  },
  {
   "cell_type": "code",
   "execution_count": 378,
   "id": "f6c685c5",
   "metadata": {},
   "outputs": [],
   "source": [
    "#links.index = 'link_' + links.index.astype(str)\n",
    "#nodes.index = 'node_' + nodes.index.astype(str)\n",
    "#links['a'] = 'node_' + links['a'].astype(str)\n",
    "#links['b'] = 'node_' + links['b'].astype(str)"
   ]
  },
  {
   "cell_type": "code",
   "execution_count": 379,
   "id": "c83130ae",
   "metadata": {},
   "outputs": [],
   "source": [
    "rnodes = gpd.read_file(road_folder + 'road_nodes.geojson')\n",
    "rnodes = rnodes.set_index('index')\n",
    "rlinks = gpd.read_file(road_folder + 'road_links.geojson')\n",
    "rlinks = rlinks.set_index('index')"
   ]
  },
  {
   "cell_type": "code",
   "execution_count": 380,
   "id": "0bc7861a",
   "metadata": {},
   "outputs": [],
   "source": [
    "#rlinks.index = 'rlink_' + rlinks.index.astype(str)\n",
    "#rnodes.index = 'rnode_' + rnodes.index.astype(str)\n",
    "#rlinks['a'] = 'rnode_' + rlinks['a'].astype(str)\n",
    "#rlinks['b'] = 'rnode_' + rlinks['b'].astype(str)"
   ]
  },
  {
   "cell_type": "code",
   "execution_count": 381,
   "id": "e6e538c0",
   "metadata": {},
   "outputs": [],
   "source": [
    "filepath = excel.get_filepath(input_folder + '{s}/zones/zones.geojson', ancestry=ancestry, log=False)\n",
    "zones = gpd.read_file(filepath)\n",
    "zones = zones.set_index('index')"
   ]
  },
  {
   "cell_type": "code",
   "execution_count": null,
   "id": "774981e8",
   "metadata": {},
   "outputs": [],
   "source": []
  },
  {
   "cell_type": "markdown",
   "id": "3b2e625d",
   "metadata": {},
   "source": [
    "# create Model"
   ]
  },
  {
   "cell_type": "code",
   "execution_count": null,
   "id": "23ed02bb",
   "metadata": {},
   "outputs": [],
   "source": []
  },
  {
   "cell_type": "code",
   "execution_count": 382,
   "id": "9c80101f",
   "metadata": {},
   "outputs": [],
   "source": [
    "sm = stepmodel.StepModel(epsg=4326)\n",
    "sm.links = links\n",
    "sm.nodes = nodes\n",
    "sm.road_links = rlinks\n",
    "sm.road_nodes = rnodes\n",
    "sm.zones = zones"
   ]
  },
  {
   "cell_type": "code",
   "execution_count": 383,
   "id": "619b4641",
   "metadata": {},
   "outputs": [
    {
     "data": {
      "text/plain": [
       "32630"
      ]
     },
     "execution_count": 383,
     "metadata": {},
     "output_type": "execute_result"
    }
   ],
   "source": [
    "centroid = [*LineString(sm.nodes.centroid.values).centroid.coords][0]\n",
    "crs = get_epsg(centroid[1],centroid[0])\n",
    "crs"
   ]
  },
  {
   "cell_type": "code",
   "execution_count": 384,
   "id": "7e4fc772",
   "metadata": {},
   "outputs": [
    {
     "name": "stderr",
     "output_type": "stream",
     "text": [
      "Reprojecting model from epsg 4326 to epsg 32630: 100%|█| 11/11 [00:03<00:00,  3.\n"
     ]
    }
   ],
   "source": [
    "sm = sm.change_epsg(crs,'meter')"
   ]
  },
  {
   "cell_type": "markdown",
   "id": "113e42b5",
   "metadata": {},
   "source": [
    "# clustering and walkmodel"
   ]
  },
  {
   "cell_type": "code",
   "execution_count": 385,
   "id": "3ad80bdd",
   "metadata": {},
   "outputs": [],
   "source": [
    "sm.preparation_clusterize_nodes(distance_threshold=200)\n"
   ]
  },
  {
   "cell_type": "code",
   "execution_count": null,
   "id": "31907382",
   "metadata": {},
   "outputs": [],
   "source": []
  },
  {
   "cell_type": "code",
   "execution_count": 386,
   "id": "c9a2736d",
   "metadata": {},
   "outputs": [
    {
     "name": "stdout",
     "output_type": "stream",
     "text": [
      "can not add prefixes on table:  footpaths\n"
     ]
    }
   ],
   "source": [
    "sm._add_type_prefixes({'nodes': 'node_','links':'links_','road_nodes':'rnode_','road_links':'rlink_','zones':'zone_'})"
   ]
  },
  {
   "cell_type": "code",
   "execution_count": 387,
   "id": "4ae5e9f4",
   "metadata": {},
   "outputs": [],
   "source": [
    "sm.road_links['a'] = 'rnode_' + sm.road_links['a'].astype(str)\n",
    "sm.road_links['b'] = 'rnode_' + sm.road_links['b'].astype(str)"
   ]
  },
  {
   "cell_type": "code",
   "execution_count": 388,
   "id": "b898bfb7",
   "metadata": {},
   "outputs": [],
   "source": [
    "sm.preparation_footpaths(max_length = var['footpaths']['max_length'], speed = var['footpaths']['speed'])\n"
   ]
  },
  {
   "cell_type": "code",
   "execution_count": 389,
   "id": "8547d6b9",
   "metadata": {},
   "outputs": [],
   "source": [
    "# Zone to transit\n",
    "sm.preparation_ntlegs(\n",
    "    short_leg_speed = var['zone_to_transit']['speed'],\n",
    "    long_leg_speed = var['zone_to_transit']['speed'], # tout le monde marche\n",
    "    threshold = 1000,\n",
    "    zone_to_transit = True,\n",
    "    zone_to_road = False,\n",
    "    road_to_transit = False,\n",
    "    n_ntlegs = var['zone_to_transit']['nbr'],\n",
    "    max_ntleg_length = var['zone_to_transit']['max_length'],\n",
    ")\n",
    "sm._add_type_prefixes({'zone_to_transit':'ztt_'})"
   ]
  },
  {
   "cell_type": "code",
   "execution_count": 390,
   "id": "1dddcaeb",
   "metadata": {},
   "outputs": [
    {
     "name": "stdout",
     "output_type": "stream",
     "text": [
      "failed: integrity_test_circular_lines\n",
      "passed: integrity_test_collision\n"
     ]
    },
    {
     "name": "stderr",
     "output_type": "stream",
     "text": [
      "14471it [00:00, 73201.87it/s]\n"
     ]
    },
    {
     "name": "stdout",
     "output_type": "stream",
     "text": [
      "passed: integrity_test_dead_ends\n",
      "passed: integrity_test_duplicate_volumes\n",
      "passed: integrity_test_isolated_roads\n",
      "passed: integrity_test_nodeset_consistency\n",
      "passed: integrity_test_road_duplicated_ab_links\n"
     ]
    },
    {
     "name": "stderr",
     "output_type": "stream",
     "text": [
      "14471it [00:00, 23796.50it/s]\n"
     ]
    },
    {
     "name": "stdout",
     "output_type": "stream",
     "text": [
      "passed: integrity_test_road_network\n",
      "passed: integrity_test_road_nodeset_consistency\n",
      "passed: integrity_test_sequences\n",
      "passed: integrity_test_str_collision\n"
     ]
    }
   ],
   "source": [
    "sm.integrity_test_all(errors='ignore', verbose=True)"
   ]
  },
  {
   "cell_type": "code",
   "execution_count": 391,
   "id": "f87c58de",
   "metadata": {},
   "outputs": [
    {
     "name": "stderr",
     "output_type": "stream",
     "text": [
      "broken_sequences: 100%|█████████████████████████| 23/23 [00:02<00:00, 10.39it/s]\n"
     ]
    }
   ],
   "source": [
    "only_attributes=['links', 'nodes', 'road_nodes', 'road_links', 'zones', 'coordinates_unit', 'epsg', 'footpaths',\n",
    "                     'zone_to_transit', 'zone_to_road', 'road_to_transit', 'disaggregated_nodes']\n",
    "\n",
    "if not os.path.exists(model_folder):\n",
    "    os.makedirs(model_folder)\n",
    "\n",
    "sm.to_zippedpickles(model_folder +'network', only_attributes=only_attributes)  "
   ]
  },
  {
   "cell_type": "code",
   "execution_count": null,
   "id": "cf5e39d6",
   "metadata": {
    "scrolled": true
   },
   "outputs": [],
   "source": []
  },
  {
   "cell_type": "code",
   "execution_count": null,
   "id": "400b2a31",
   "metadata": {
    "scrolled": true
   },
   "outputs": [],
   "source": []
  },
  {
   "cell_type": "code",
   "execution_count": null,
   "id": "d5369267",
   "metadata": {},
   "outputs": [],
   "source": []
  },
  {
   "cell_type": "code",
   "execution_count": null,
   "id": "a106f774",
   "metadata": {},
   "outputs": [],
   "source": []
  }
 ],
 "metadata": {
  "kernelspec": {
   "display_name": "quetzal_env",
   "language": "python",
   "name": "quetzal_env"
  },
  "language_info": {
   "codemirror_mode": {
    "name": "ipython",
    "version": 3
   },
   "file_extension": ".py",
   "mimetype": "text/x-python",
   "name": "python",
   "nbconvert_exporter": "python",
   "pygments_lexer": "ipython3",
   "version": "3.8.6"
  }
 },
 "nbformat": 4,
 "nbformat_minor": 5
}
