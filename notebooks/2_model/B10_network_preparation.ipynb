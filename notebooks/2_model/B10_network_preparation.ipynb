{
 "cells": [
  {
   "cell_type": "code",
   "execution_count": 193,
   "id": "71ccff01",
   "metadata": {},
   "outputs": [
    {
     "name": "stdout",
     "output_type": "stream",
     "text": [
      "{'training_folder': '../..', 'params': {'period': 'am'}}\n"
     ]
    }
   ],
   "source": [
    "import sys\n",
    "import json\n",
    "\n",
    "params = {'period':'am'}\n",
    "default = {'training_folder': '../..', 'params': params} # Default execution parameters\n",
    "manual, argv = (True, default) if 'ipykernel' in sys.argv[0] else (False, dict(default, **json.loads(sys.argv[1])))\n",
    "print(argv)\n"
   ]
  },
  {
   "cell_type": "code",
   "execution_count": null,
   "id": "d01e232d",
   "metadata": {},
   "outputs": [],
   "source": []
  },
  {
   "cell_type": "code",
   "execution_count": 195,
   "id": "99b5db61",
   "metadata": {},
   "outputs": [],
   "source": [
    "import os\n",
    "import time\n",
    "import geopandas as gpd\n",
    "import pandas as pd\n",
    "sys.path.insert(0, r'../../../quetzal') # Add path to quetzal\n",
    "from sklearn.neighbors import NearestNeighbors\n",
    "from numba import jit, njit\n",
    "import numba as nb\n",
    "from quetzal.model import stepmodel\n",
    "from shapely.geometry import LineString\n",
    "from quetzal.io.gtfs_reader.importer import get_epsg\n",
    "from quetzal.io import excel\n"
   ]
  },
  {
   "cell_type": "code",
   "execution_count": 196,
   "id": "2cfb2722",
   "metadata": {},
   "outputs": [
    {
     "name": "stdout",
     "output_type": "stream",
     "text": [
      "On Lambda :  False\n",
      "input folder:  ../../inputs/\n",
      "output folder:  ../../scenarios/am/outputs/\n",
      "scen folder :  ../../scenarios/am/inputs/\n",
      "model folder :  ../../scenarios/am/model/\n"
     ]
    }
   ],
   "source": [
    "period = argv['params']['period']\n",
    "on_lambda = bool(os.environ.get('AWS_EXECUTION_ENV'))\n",
    "print('On Lambda : ', on_lambda)\n",
    "training_folder = argv['training_folder']\n",
    "input_folder = training_folder +r'/inputs/'\n",
    "\n",
    "if on_lambda:\n",
    "    scenario_folder = training_folder +r'/inputs/'\n",
    "    output_folder = training_folder + '/outputs/'\n",
    "    model_folder = training_folder + '/model/'\n",
    "else:\n",
    "    scenario_folder = training_folder + '/scenarios/' + period + '/inputs/'\n",
    "    output_folder = training_folder + '/scenarios/' + period + '/outputs/'\n",
    "    model_folder = training_folder + '/scenarios/' + period + '/model/'\n",
    "print('input folder: ', input_folder)\n",
    "print('output folder: ', output_folder)\n",
    "print('scen folder : ', scenario_folder)\n",
    "print('model folder : ', model_folder)\n",
    "\n",
    "\n",
    "pt_folder = scenario_folder + 'pt/'\n",
    "road_folder = scenario_folder + 'road/'\n",
    "if not os.path.exists(output_folder):\n",
    "    os.makedirs(output_folder)"
   ]
  },
  {
   "cell_type": "code",
   "execution_count": 190,
   "id": "ea15b78c",
   "metadata": {},
   "outputs": [],
   "source": [
    "var, ancestry = excel.read_var(file=input_folder+'/parameters.xlsx', scenario=period, return_ancestry=True)\n"
   ]
  },
  {
   "cell_type": "code",
   "execution_count": null,
   "id": "08c4490e",
   "metadata": {},
   "outputs": [],
   "source": []
  },
  {
   "cell_type": "markdown",
   "id": "0da46b30",
   "metadata": {},
   "source": [
    "# inputs"
   ]
  },
  {
   "cell_type": "code",
   "execution_count": 202,
   "id": "946d8734",
   "metadata": {},
   "outputs": [],
   "source": [
    "links = gpd.read_file(pt_folder + 'links.geojson') \n",
    "nodes = gpd.read_file(pt_folder + 'nodes.geojson')\n",
    "links = links.set_index('index')\n",
    "nodes = nodes.set_index('index')"
   ]
  },
  {
   "cell_type": "code",
   "execution_count": 203,
   "id": "3b687a39",
   "metadata": {},
   "outputs": [],
   "source": [
    "rnodes = gpd.read_file(road_folder + 'road_nodes.geojson')\n",
    "rnodes = rnodes.set_index('index')\n",
    "rlinks = gpd.read_file(road_folder + 'road_links.geojson')\n",
    "rlinks = rlinks.set_index('index')"
   ]
  },
  {
   "cell_type": "code",
   "execution_count": null,
   "id": "0c69549f",
   "metadata": {},
   "outputs": [],
   "source": []
  },
  {
   "cell_type": "code",
   "execution_count": 204,
   "id": "d14b4475",
   "metadata": {},
   "outputs": [],
   "source": [
    "filepath = excel.get_filepath(input_folder + '{s}/zones/zones.geojson', ancestry=ancestry, log=False)\n",
    "zones = gpd.read_file(filepath)\n",
    "zones = zones.set_index('index')"
   ]
  },
  {
   "cell_type": "markdown",
   "id": "e9c69cc5",
   "metadata": {},
   "source": [
    "# create Model"
   ]
  },
  {
   "cell_type": "code",
   "execution_count": 206,
   "id": "09a092fe",
   "metadata": {},
   "outputs": [],
   "source": [
    "sm = stepmodel.StepModel(epsg=4326)\n",
    "sm.links = links\n",
    "sm.nodes = nodes\n",
    "sm.road_links = rlinks\n",
    "sm.road_nodes = rnodes\n",
    "sm.zones = zones"
   ]
  },
  {
   "cell_type": "code",
   "execution_count": 207,
   "id": "2024a8a3",
   "metadata": {},
   "outputs": [
    {
     "data": {
      "text/plain": [
       "32618"
      ]
     },
     "execution_count": 207,
     "metadata": {},
     "output_type": "execute_result"
    }
   ],
   "source": [
    "centroid = [*LineString(sm.nodes.centroid.values).centroid.coords][0]\n",
    "crs = get_epsg(centroid[1],centroid[0])\n",
    "crs"
   ]
  },
  {
   "cell_type": "code",
   "execution_count": 208,
   "id": "88a414fc",
   "metadata": {},
   "outputs": [
    {
     "name": "stderr",
     "output_type": "stream",
     "text": [
      "Reprojecting model from epsg 4326 to epsg 32618: 100%|█| 11/11 [00:05<00:00,  2.\n"
     ]
    }
   ],
   "source": [
    "sm = sm.change_epsg(crs,'meter')"
   ]
  },
  {
   "cell_type": "markdown",
   "id": "314f3125",
   "metadata": {},
   "source": [
    "# clustering and walkmodel"
   ]
  },
  {
   "cell_type": "code",
   "execution_count": 209,
   "id": "8d740f29",
   "metadata": {},
   "outputs": [],
   "source": [
    "sm.preparation_clusterize_nodes(distance_threshold=100)\n"
   ]
  },
  {
   "cell_type": "code",
   "execution_count": 210,
   "id": "f66583a6",
   "metadata": {},
   "outputs": [],
   "source": [
    "sm.preparation_footpaths(max_length = var['footpaths']['max_length'], speed = var['footpaths']['speed'])\n"
   ]
  },
  {
   "cell_type": "code",
   "execution_count": 211,
   "id": "0f98a541",
   "metadata": {},
   "outputs": [],
   "source": [
    "# Zone to transit\n",
    "sm.preparation_ntlegs(\n",
    "    short_leg_speed = var['zone_to_transit']['speed'],\n",
    "    long_leg_speed = var['zone_to_transit']['speed'], # tout le monde marche\n",
    "    threshold = 1000,\n",
    "    zone_to_transit = True,\n",
    "    zone_to_road = False,\n",
    "    road_to_transit = False,\n",
    "    n_ntlegs = var['zone_to_transit']['nbr'],\n",
    "    max_ntleg_length = var['zone_to_transit']['max_length'],\n",
    ")\n",
    "sm._add_type_prefixes({'zone_to_transit':'ztt_'})"
   ]
  },
  {
   "cell_type": "code",
   "execution_count": null,
   "id": "4a31ce7c",
   "metadata": {},
   "outputs": [],
   "source": []
  },
  {
   "cell_type": "code",
   "execution_count": null,
   "id": "2e377d8b",
   "metadata": {},
   "outputs": [],
   "source": []
  },
  {
   "cell_type": "code",
   "execution_count": 12,
   "id": "cf5e39d6",
   "metadata": {},
   "outputs": [],
   "source": []
  },
  {
   "cell_type": "code",
   "execution_count": 13,
   "id": "400b2a31",
   "metadata": {},
   "outputs": [],
   "source": [
    "with open(output_folder + 'test.txt', 'w') as f:\n",
    "    f.write('test passed! \\n')\n",
    "    f.write('argv: ')\n",
    "    f.write(str(argv))"
   ]
  },
  {
   "cell_type": "code",
   "execution_count": null,
   "id": "c1fdaa16",
   "metadata": {},
   "outputs": [],
   "source": []
  },
  {
   "cell_type": "code",
   "execution_count": null,
   "id": "2a02b4d0",
   "metadata": {},
   "outputs": [],
   "source": []
  }
 ],
 "metadata": {
  "kernelspec": {
   "display_name": "quetzal_env",
   "language": "python",
   "name": "quetzal_env"
  },
  "language_info": {
   "codemirror_mode": {
    "name": "ipython",
    "version": 3
   },
   "file_extension": ".py",
   "mimetype": "text/x-python",
   "name": "python",
   "nbconvert_exporter": "python",
   "pygments_lexer": "ipython3",
   "version": "3.8.6"
  }
 },
 "nbformat": 4,
 "nbformat_minor": 5
}
