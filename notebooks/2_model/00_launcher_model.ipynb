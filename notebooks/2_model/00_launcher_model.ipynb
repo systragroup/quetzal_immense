{
 "cells": [
  {
   "cell_type": "code",
   "execution_count": 21,
   "metadata": {},
   "outputs": [],
   "source": [
    "import os\n",
    "import sys\n",
    "import json\n",
    "sys.path.insert(0, r\"../../../quetzal\")\n",
    "from quetzal.os.parallel_call import parallel_call_notebook\n",
    "import itertools\n",
    "\n",
    "if not os.path.exists(\"log/\"):\n",
    "    os.makedirs(\"log/\")"
   ]
  },
  {
   "cell_type": "code",
   "execution_count": 22,
   "metadata": {},
   "outputs": [],
   "source": [
    "kwargs = {\"workers\": 4, \"errout_suffix\":True, \"sleep\":1, \"stdout_path\":r\"log/out.txt\", \"stderr_path\":r\"log/err.txt\"}"
   ]
  },
  {
   "cell_type": "code",
   "execution_count": 23,
   "metadata": {},
   "outputs": [
    {
     "data": {
      "text/plain": [
       "['{\"params\": {\"general\": {\"period\": \"am\"}}, \"training_folder\": \"../..\"}',\n",
       " '{\"params\": {\"general\": {\"period\": \"pm\"}}, \"training_folder\": \"../..\"}',\n",
       " '{\"params\": {\"general\": {\"period\": \"ip\"}}, \"training_folder\": \"../..\"}',\n",
       " '{\"params\": {\"general\": {\"period\": \"op\"}}, \"training_folder\": \"../..\"}']"
      ]
     },
     "execution_count": 23,
     "metadata": {},
     "output_type": "execute_result"
    }
   ],
   "source": [
    "scenarios = ['am','pm','ip','op']\n",
    "\n",
    "arg_list = [{\"params\": {\"general\":{\"period\":s}}, \"training_folder\":\"../..\"} for s in scenarios]\n",
    "arg_list = [json.dumps(arg) for arg in arg_list]\n",
    "arg_list"
   ]
  },
  {
   "cell_type": "code",
   "execution_count": null,
   "metadata": {},
   "outputs": [],
   "source": []
  },
  {
   "cell_type": "markdown",
   "metadata": {},
   "source": [
    "# B | Transport Model"
   ]
  },
  {
   "cell_type": "code",
   "execution_count": 24,
   "metadata": {},
   "outputs": [
    {
     "name": "stderr",
     "output_type": "stream",
     "text": [
      "[NbConvertApp] Converting notebook B10_network_preparation.ipynb to python\n",
      "[NbConvertApp] Writing 4688 bytes to B10_network_preparation.py\n"
     ]
    },
    {
     "name": "stdout",
     "output_type": "stream",
     "text": [
      "0 B10_network_preparation.py {\"params\": {\"general\": {\"period\": \"am\"}}, \"training_folder\": \"../..\"}\n",
      "1 B10_network_preparation.py {\"params\": {\"general\": {\"period\": \"pm\"}}, \"training_folder\": \"../..\"}\n",
      "2 B10_network_preparation.py {\"params\": {\"general\": {\"period\": \"ip\"}}, \"training_folder\": \"../..\"}\n",
      "3 B10_network_preparation.py {\"params\": {\"general\": {\"period\": \"op\"}}, \"training_folder\": \"../..\"}\n",
      "62 seconds\n"
     ]
    }
   ],
   "source": [
    "parallel_call_notebook(\"B10_network_preparation.ipynb\", arg_list=arg_list, **kwargs)"
   ]
  },
  {
   "cell_type": "code",
   "execution_count": 25,
   "metadata": {},
   "outputs": [
    {
     "name": "stderr",
     "output_type": "stream",
     "text": [
      "[NbConvertApp] Converting notebook C10_pathfinder.ipynb to python\n",
      "[NbConvertApp] Writing 5500 bytes to C10_pathfinder.py\n"
     ]
    },
    {
     "name": "stdout",
     "output_type": "stream",
     "text": [
      "0 C10_pathfinder.py {\"params\": {\"general\": {\"period\": \"am\"}}, \"training_folder\": \"../..\"}\n",
      "1 C10_pathfinder.py {\"params\": {\"general\": {\"period\": \"pm\"}}, \"training_folder\": \"../..\"}\n",
      "2 C10_pathfinder.py {\"params\": {\"general\": {\"period\": \"ip\"}}, \"training_folder\": \"../..\"}\n",
      "3 C10_pathfinder.py {\"params\": {\"general\": {\"period\": \"op\"}}, \"training_folder\": \"../..\"}\n",
      "94 seconds\n"
     ]
    }
   ],
   "source": [
    "parallel_call_notebook(\"C10_pathfinder.ipynb\", arg_list=arg_list, **kwargs)"
   ]
  },
  {
   "cell_type": "code",
   "execution_count": null,
   "metadata": {},
   "outputs": [],
   "source": []
  },
  {
   "cell_type": "code",
   "execution_count": 26,
   "metadata": {},
   "outputs": [],
   "source": [
    "kwargs = {\"workers\": 1, \"errout_suffix\":True, \"sleep\":1, \"stdout_path\":r\"log/out.txt\", \"stderr_path\":r\"log/err.txt\"}"
   ]
  },
  {
   "cell_type": "code",
   "execution_count": 30,
   "metadata": {},
   "outputs": [
    {
     "data": {
      "text/plain": [
       "['{\"params\": {\"general\": {\"periods\": [\"am\", \"pm\", \"ip\", \"op\"]}}, \"training_folder\": \"../..\", \"scenario\": \"tt\"}']"
      ]
     },
     "execution_count": 30,
     "metadata": {},
     "output_type": "execute_result"
    }
   ],
   "source": [
    "scen = 'tt'\n",
    "arg_list = [{\"params\": {\"general\":{\"periods\":['am','pm','ip','op']}}, \"training_folder\":\"../..\",'scenario':scen}]\n",
    "\n",
    "arg_list = [json.dumps(arg) for arg in arg_list]\n",
    "arg_list"
   ]
  },
  {
   "cell_type": "code",
   "execution_count": 31,
   "metadata": {},
   "outputs": [
    {
     "name": "stderr",
     "output_type": "stream",
     "text": [
      "[NbConvertApp] Converting notebook D10_demand_model.ipynb to python\n",
      "[NbConvertApp] Writing 8563 bytes to D10_demand_model.py\n"
     ]
    },
    {
     "name": "stdout",
     "output_type": "stream",
     "text": [
      "0 D10_demand_model.py {\"params\": {\"general\": {\"periods\": [\"am\", \"pm\", \"ip\", \"op\"]}}, \"training_folder\": \"../..\", \"scenario\": \"tt\"}\n",
      "14 seconds\n"
     ]
    }
   ],
   "source": [
    "parallel_call_notebook(\"D10_demand_model.ipynb\", arg_list=arg_list, **kwargs)"
   ]
  },
  {
   "cell_type": "markdown",
   "metadata": {},
   "source": [
    "# END"
   ]
  }
 ],
 "metadata": {
  "kernelspec": {
   "display_name": "quetzal_env",
   "language": "python",
   "name": "quetzal_env"
  },
  "language_info": {
   "codemirror_mode": {
    "name": "ipython",
    "version": 3
   },
   "file_extension": ".py",
   "mimetype": "text/x-python",
   "name": "python",
   "nbconvert_exporter": "python",
   "pygments_lexer": "ipython3",
   "version": "3.8.6"
  },
  "vscode": {
   "interpreter": {
    "hash": "79fa51cdb6b0e98d4b075266953994e0512dcc061121a96f87366c12a9b4f408"
   }
  }
 },
 "nbformat": 4,
 "nbformat_minor": 2
}
