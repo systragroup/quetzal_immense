{
 "cells": [
  {
   "cell_type": "code",
   "execution_count": 87,
   "id": "71ccff01",
   "metadata": {},
   "outputs": [
    {
     "name": "stdout",
     "output_type": "stream",
     "text": [
      "{'training_folder': '../..', 'params': {'general': {'period': 'am'}}}\n"
     ]
    }
   ],
   "source": [
    "import sys\n",
    "import json\n",
    "\n",
    "params = {'general':{'period':'am'}}\n",
    "default = {'training_folder': '../..', 'params': params} # Default execution parameters\n",
    "manual, argv = (True, default) if 'ipykernel' in sys.argv[0] else (False, dict(default, **json.loads(sys.argv[1])))\n",
    "print(argv)\n"
   ]
  },
  {
   "cell_type": "code",
   "execution_count": null,
   "id": "8fa82edf",
   "metadata": {},
   "outputs": [],
   "source": []
  },
  {
   "cell_type": "code",
   "execution_count": 88,
   "id": "de00e9ba",
   "metadata": {},
   "outputs": [],
   "source": [
    "def set_index(df):\n",
    "    if 'index' in df.columns:\n",
    "        df = df.set_index('index')\n",
    "    else:\n",
    "        df.index.name='index'\n",
    "    return df"
   ]
  },
  {
   "cell_type": "code",
   "execution_count": 89,
   "id": "99b5db61",
   "metadata": {},
   "outputs": [],
   "source": [
    "import os\n",
    "import time\n",
    "import geopandas as gpd\n",
    "import pandas as pd\n",
    "sys.path.insert(0, r'../../../quetzal') # Add path to quetzal\n",
    "from sklearn.neighbors import NearestNeighbors\n",
    "from numba import jit, njit\n",
    "import numba as nb\n",
    "from quetzal.model import stepmodel\n",
    "from shapely.geometry import LineString\n",
    "from quetzal.io.gtfs_reader.importer import get_epsg\n",
    "from quetzal.io import excel\n"
   ]
  },
  {
   "cell_type": "code",
   "execution_count": 90,
   "id": "505c32e1",
   "metadata": {},
   "outputs": [
    {
     "name": "stdout",
     "output_type": "stream",
     "text": [
      "On Lambda :  False\n",
      "input folder:  ../../inputs/\n",
      "output folder:  ../../scenarios/am/outputs/\n",
      "scen folder :  ../../scenarios/am/inputs/\n",
      "model folder :  ../../scenarios/am/model/\n"
     ]
    }
   ],
   "source": [
    "period = argv['params']['general']['period']\n",
    "on_lambda = bool(os.environ.get('AWS_EXECUTION_ENV'))\n",
    "print('On Lambda : ', on_lambda)\n",
    "training_folder = argv['training_folder']\n",
    "input_folder = training_folder +r'/inputs/'\n",
    "\n",
    "if on_lambda:\n",
    "    scenario_folder = training_folder +r'/inputs/'\n",
    "    output_folder = training_folder + '/outputs/'\n",
    "    model_folder = training_folder + '/model/'\n",
    "else:\n",
    "    scenario_folder = training_folder + '/scenarios/' + period + '/inputs/'\n",
    "    output_folder = training_folder + '/scenarios/' + period + '/outputs/'\n",
    "    model_folder = training_folder + '/scenarios/' + period + '/model/'\n",
    "print('input folder: ', input_folder)\n",
    "print('output folder: ', output_folder)\n",
    "print('scen folder : ', scenario_folder)\n",
    "print('model folder : ', model_folder)\n",
    "\n",
    "\n",
    "pt_folder = scenario_folder + 'pt/'\n",
    "road_folder = scenario_folder + 'road/'\n",
    "if not os.path.exists(output_folder):\n",
    "    os.makedirs(output_folder)"
   ]
  },
  {
   "cell_type": "code",
   "execution_count": 91,
   "id": "3dcb24f6",
   "metadata": {},
   "outputs": [],
   "source": [
    "var, ancestry = excel.read_var(file=input_folder+'/parameters.xlsx', scenario=period, return_ancestry=True)\n"
   ]
  },
  {
   "cell_type": "markdown",
   "id": "95a65cd0",
   "metadata": {},
   "source": [
    "# inputs"
   ]
  },
  {
   "cell_type": "code",
   "execution_count": 92,
   "id": "d25157cb",
   "metadata": {},
   "outputs": [
    {
     "name": "stderr",
     "output_type": "stream",
     "text": [
      "road_nodes: 100%|███████████████████████████████| 10/10 [00:00<00:00, 21.76it/s]\n"
     ]
    }
   ],
   "source": [
    "sm = stepmodel.read_zippedpickles(model_folder + 'network')"
   ]
  },
  {
   "cell_type": "markdown",
   "id": "1c3131fc",
   "metadata": {},
   "source": [
    "volumes"
   ]
  },
  {
   "cell_type": "code",
   "execution_count": 93,
   "id": "7668e272",
   "metadata": {},
   "outputs": [],
   "source": [
    "filepath = excel.get_filepath(input_folder + '{s}/volumes/volumes.csv', ancestry=ancestry, log=False)\n",
    "volumes = pd.read_csv(filepath)\n",
    "volumes = set_index(volumes)"
   ]
  },
  {
   "cell_type": "code",
   "execution_count": 94,
   "id": "92dbb988",
   "metadata": {},
   "outputs": [],
   "source": [
    "period_dict={'am':'AM','pm':'PM','ip':'IP','op':'OP'}\n",
    "volumes = volumes[volumes['time_period'] == period_dict[period]]"
   ]
  },
  {
   "cell_type": "code",
   "execution_count": 95,
   "id": "a4df7a88",
   "metadata": {},
   "outputs": [],
   "source": [
    "volumes['origin'] = 'zone_' + volumes['origin'].astype(str)\n",
    "volumes['destination'] = 'zone_' + volumes['destination'].astype(str)"
   ]
  },
  {
   "cell_type": "markdown",
   "id": "e8865dd8",
   "metadata": {},
   "source": [
    "congested road time"
   ]
  },
  {
   "cell_type": "code",
   "execution_count": 96,
   "id": "4b83fa8e",
   "metadata": {},
   "outputs": [],
   "source": [
    "road_times = pd.read_csv(road_folder+'road_times.csv')\n",
    "road_times = set_index(road_times)\n",
    "road_times['old_index'] = road_times.index\n",
    "road_times.index = 'rlink_' + road_times.index.astype(str)"
   ]
  },
  {
   "cell_type": "code",
   "execution_count": null,
   "id": "a1b3fbfc",
   "metadata": {},
   "outputs": [],
   "source": []
  },
  {
   "cell_type": "markdown",
   "id": "0caf1dd6",
   "metadata": {},
   "source": [
    "# apply traffic"
   ]
  },
  {
   "cell_type": "code",
   "execution_count": 97,
   "id": "16a62424",
   "metadata": {},
   "outputs": [],
   "source": [
    "road_times['jam_factor'] = sm.road_links['time']/road_times['time']"
   ]
  },
  {
   "cell_type": "code",
   "execution_count": 98,
   "id": "7b9ea9f7",
   "metadata": {},
   "outputs": [
    {
     "data": {
      "text/html": [
       "<div>\n",
       "<style scoped>\n",
       "    .dataframe tbody tr th:only-of-type {\n",
       "        vertical-align: middle;\n",
       "    }\n",
       "\n",
       "    .dataframe tbody tr th {\n",
       "        vertical-align: top;\n",
       "    }\n",
       "\n",
       "    .dataframe thead th {\n",
       "        text-align: right;\n",
       "    }\n",
       "</style>\n",
       "<table border=\"1\" class=\"dataframe\">\n",
       "  <thead>\n",
       "    <tr style=\"text-align: right;\">\n",
       "      <th></th>\n",
       "      <th>time</th>\n",
       "      <th>jam_factor</th>\n",
       "    </tr>\n",
       "  </thead>\n",
       "  <tbody>\n",
       "    <tr>\n",
       "      <th>links_524_1</th>\n",
       "      <td>3.361757</td>\n",
       "      <td>0.914359</td>\n",
       "    </tr>\n",
       "    <tr>\n",
       "      <th>links_524_2</th>\n",
       "      <td>14.114571</td>\n",
       "      <td>0.906643</td>\n",
       "    </tr>\n",
       "    <tr>\n",
       "      <th>links_524_3</th>\n",
       "      <td>5.618655</td>\n",
       "      <td>0.909467</td>\n",
       "    </tr>\n",
       "    <tr>\n",
       "      <th>links_524_4</th>\n",
       "      <td>11.277692</td>\n",
       "      <td>0.913957</td>\n",
       "    </tr>\n",
       "    <tr>\n",
       "      <th>links_524_5</th>\n",
       "      <td>5.212693</td>\n",
       "      <td>0.952833</td>\n",
       "    </tr>\n",
       "    <tr>\n",
       "      <th>...</th>\n",
       "      <td>...</td>\n",
       "      <td>...</td>\n",
       "    </tr>\n",
       "    <tr>\n",
       "      <th>links_200_27</th>\n",
       "      <td>52.989173</td>\n",
       "      <td>0.945482</td>\n",
       "    </tr>\n",
       "    <tr>\n",
       "      <th>links_200_28</th>\n",
       "      <td>44.131096</td>\n",
       "      <td>0.936969</td>\n",
       "    </tr>\n",
       "    <tr>\n",
       "      <th>links_200_29</th>\n",
       "      <td>130.797420</td>\n",
       "      <td>0.925762</td>\n",
       "    </tr>\n",
       "    <tr>\n",
       "      <th>links_200_30</th>\n",
       "      <td>1078.045188</td>\n",
       "      <td>0.911252</td>\n",
       "    </tr>\n",
       "    <tr>\n",
       "      <th>links_200_31</th>\n",
       "      <td>10.622430</td>\n",
       "      <td>0.946196</td>\n",
       "    </tr>\n",
       "  </tbody>\n",
       "</table>\n",
       "<p>12836 rows × 2 columns</p>\n",
       "</div>"
      ],
      "text/plain": [
       "                     time  jam_factor\n",
       "links_524_1      3.361757    0.914359\n",
       "links_524_2     14.114571    0.906643\n",
       "links_524_3      5.618655    0.909467\n",
       "links_524_4     11.277692    0.913957\n",
       "links_524_5      5.212693    0.952833\n",
       "...                   ...         ...\n",
       "links_200_27    52.989173    0.945482\n",
       "links_200_28    44.131096    0.936969\n",
       "links_200_29   130.797420    0.925762\n",
       "links_200_30  1078.045188    0.911252\n",
       "links_200_31    10.622430    0.946196\n",
       "\n",
       "[12836 rows x 2 columns]"
      ]
     },
     "execution_count": 98,
     "metadata": {},
     "output_type": "execute_result"
    }
   ],
   "source": [
    "jam_factor = road_times.set_index('old_index')['jam_factor'].to_dict()\n",
    "sm.links['jam_factor'] = sm.links['road_link_list'].apply(lambda ls: sum([*map(jam_factor.get, ls)]))\n",
    "sm.links[['time','jam_factor']]"
   ]
  },
  {
   "cell_type": "code",
   "execution_count": 99,
   "id": "0bb40388",
   "metadata": {},
   "outputs": [],
   "source": [
    "ref = sm.copy()"
   ]
  },
  {
   "cell_type": "code",
   "execution_count": 100,
   "id": "130ec1fa",
   "metadata": {},
   "outputs": [],
   "source": [
    "sm.links['time'] = sm.links['time'] / sm.links['jam_factor'] "
   ]
  },
  {
   "cell_type": "markdown",
   "id": "913245a8",
   "metadata": {},
   "source": [
    "# pathfinder"
   ]
  },
  {
   "cell_type": "code",
   "execution_count": 101,
   "id": "f28e6600",
   "metadata": {},
   "outputs": [],
   "source": [
    "od_set = set(zip(volumes['origin'], volumes['destination']))\n",
    "#od_set ={('zone_565', 'zone_413')}\n"
   ]
  },
  {
   "cell_type": "code",
   "execution_count": 102,
   "id": "93121fe3",
   "metadata": {},
   "outputs": [
    {
     "name": "stdout",
     "output_type": "stream",
     "text": [
      "start publicpathfinder\n",
      "path_analysis\n"
     ]
    }
   ],
   "source": [
    "sm.step_pt_pathfinder(\n",
    "    broken_routes=False,\n",
    "    broken_modes=False,\n",
    "    keep_pathfinder=True,\n",
    "    mode_column='route_type',\n",
    "    route_column='route_id',\n",
    "    speedup=True,\n",
    "    walk_on_road=False,\n",
    "    path_analysis=False,\n",
    "    od_set=od_set,\n",
    "    engine='b', # b is faster\n",
    ")\n",
    "sm.pt_los['time'] = sm.pt_los['gtime']"
   ]
  },
  {
   "cell_type": "markdown",
   "id": "f6a50471",
   "metadata": {},
   "source": [
    "export"
   ]
  },
  {
   "cell_type": "code",
   "execution_count": 103,
   "id": "447ecb29",
   "metadata": {},
   "outputs": [],
   "source": [
    "sm.pt_los[['origin','destination','time']].to_csv(scenario_folder +'pt_skim.csv')"
   ]
  },
  {
   "cell_type": "markdown",
   "id": "316c50a4",
   "metadata": {},
   "source": [
    "# ref pathfinder"
   ]
  },
  {
   "cell_type": "code",
   "execution_count": 104,
   "id": "439d52a0",
   "metadata": {},
   "outputs": [
    {
     "name": "stdout",
     "output_type": "stream",
     "text": [
      "start publicpathfinder\n",
      "path_analysis\n"
     ]
    }
   ],
   "source": [
    "ref.step_pt_pathfinder(\n",
    "    broken_routes=False,\n",
    "    broken_modes=False,\n",
    "    keep_pathfinder=True,\n",
    "    mode_column='route_type',\n",
    "    route_column='route_id',\n",
    "    speedup=True,\n",
    "    walk_on_road=False,\n",
    "    path_analysis=False,\n",
    "    od_set=od_set,\n",
    "    engine='b', # b is faster\n",
    ")\n",
    "ref.pt_los['time'] = ref.pt_los['gtime']"
   ]
  },
  {
   "cell_type": "code",
   "execution_count": 105,
   "id": "c65a8aea",
   "metadata": {},
   "outputs": [],
   "source": [
    "ref.pt_los[['origin','destination','time']].to_csv(scenario_folder +'ref_pt_skim.csv')"
   ]
  },
  {
   "cell_type": "code",
   "execution_count": null,
   "id": "88e04d66",
   "metadata": {},
   "outputs": [],
   "source": []
  },
  {
   "cell_type": "code",
   "execution_count": 106,
   "id": "4f932f73",
   "metadata": {},
   "outputs": [],
   "source": [
    "#sm.to_zippedpickles(model_folder +'los', omitted_attributes=['publicpathfinder'])"
   ]
  },
  {
   "cell_type": "markdown",
   "id": "307e1655",
   "metadata": {},
   "source": [
    "# Car pathfinder"
   ]
  },
  {
   "cell_type": "code",
   "execution_count": 124,
   "id": "3b8271aa",
   "metadata": {},
   "outputs": [
    {
     "name": "stdout",
     "output_type": "stream",
     "text": [
      "self.volumes does not exist. od generated with self.zones\n"
     ]
    }
   ],
   "source": [
    "\n",
    "car = sm.copy()\n",
    "car.road_links['dup'] = car.road_links['a'] + car.road_links['b']\n",
    "car.road_links = car.road_links.drop_duplicates('dup').drop(columns=['dup'])\n",
    "\n",
    "car.preparation_ntlegs(\n",
    "    short_leg_speed=15,\n",
    "    long_leg_speed=15,\n",
    "    threshold=5000,\n",
    "    zone_to_transit=False,\n",
    "    zone_to_road=True,\n",
    "    n_ntlegs=1,\n",
    "    max_ntleg_length=10000000000,\n",
    ")\n",
    "car.step_road_pathfinder(method='aon', access_time='time',od_set=od_set)\n"
   ]
  },
  {
   "cell_type": "code",
   "execution_count": 125,
   "id": "9f634175",
   "metadata": {},
   "outputs": [],
   "source": [
    "car.car_los[['origin','destination','time']].to_csv(scenario_folder +'car_skim.csv')"
   ]
  },
  {
   "cell_type": "markdown",
   "id": "7c6f7fe5",
   "metadata": {},
   "source": [
    "then reference with time = road_times"
   ]
  },
  {
   "cell_type": "code",
   "execution_count": 126,
   "id": "f0a9868e",
   "metadata": {},
   "outputs": [
    {
     "name": "stdout",
     "output_type": "stream",
     "text": [
      "self.volumes does not exist. od generated with self.zones\n"
     ]
    }
   ],
   "source": [
    "car = ref.copy()\n",
    "\n",
    "car.road_links['time']  = road_times['time']\n",
    "\n",
    "car.road_links['dup'] = car.road_links['a'] + car.road_links['b']\n",
    "car.road_links = car.road_links.drop_duplicates('dup').drop(columns=['dup'])\n",
    "\n",
    "car.preparation_ntlegs(\n",
    "    short_leg_speed=15,\n",
    "    long_leg_speed=15,\n",
    "    threshold=5000,\n",
    "    zone_to_transit=False,\n",
    "    zone_to_road=True,\n",
    "    n_ntlegs=1,\n",
    "    max_ntleg_length=10000000000,\n",
    ")\n",
    "car.step_road_pathfinder(method='aon', access_time='time',od_set=od_set)\n"
   ]
  },
  {
   "cell_type": "code",
   "execution_count": 127,
   "id": "24430bbe",
   "metadata": {},
   "outputs": [],
   "source": [
    "car.car_los[['origin','destination','time']].to_csv(scenario_folder +'ref_car_skim.csv')"
   ]
  },
  {
   "cell_type": "code",
   "execution_count": null,
   "id": "0fd30535",
   "metadata": {},
   "outputs": [],
   "source": []
  }
 ],
 "metadata": {
  "kernelspec": {
   "display_name": "quetzal_env",
   "language": "python",
   "name": "quetzal_env"
  },
  "language_info": {
   "codemirror_mode": {
    "name": "ipython",
    "version": 3
   },
   "file_extension": ".py",
   "mimetype": "text/x-python",
   "name": "python",
   "nbconvert_exporter": "python",
   "pygments_lexer": "ipython3",
   "version": "3.8.6"
  }
 },
 "nbformat": 4,
 "nbformat_minor": 5
}
