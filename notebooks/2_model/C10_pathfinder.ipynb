{
 "cells": [
  {
   "cell_type": "code",
   "execution_count": 1,
   "id": "71ccff01",
   "metadata": {},
   "outputs": [
    {
     "name": "stdout",
     "output_type": "stream",
     "text": [
      "{'training_folder': '../..', 'params': {'general': {'period': 'am'}}}\n"
     ]
    }
   ],
   "source": [
    "import sys\n",
    "import json\n",
    "\n",
    "params = {'general':{'period':'am'}}\n",
    "default = {'training_folder': '../..', 'params': params} # Default execution parameters\n",
    "manual, argv = (True, default) if 'ipykernel' in sys.argv[0] else (False, dict(default, **json.loads(sys.argv[1])))\n",
    "print(argv)\n"
   ]
  },
  {
   "cell_type": "code",
   "execution_count": null,
   "id": "8fa82edf",
   "metadata": {},
   "outputs": [],
   "source": []
  },
  {
   "cell_type": "code",
   "execution_count": 2,
   "id": "de00e9ba",
   "metadata": {},
   "outputs": [],
   "source": [
    "def set_index(df):\n",
    "    if 'index' in df.columns:\n",
    "        df = df.set_index('index')\n",
    "    else:\n",
    "        df.index.name='index'\n",
    "    return df"
   ]
  },
  {
   "cell_type": "code",
   "execution_count": 3,
   "id": "99b5db61",
   "metadata": {},
   "outputs": [],
   "source": [
    "import os\n",
    "import time\n",
    "import geopandas as gpd\n",
    "import pandas as pd\n",
    "sys.path.insert(0, r'../../../quetzal') # Add path to quetzal\n",
    "from sklearn.neighbors import NearestNeighbors\n",
    "import numpy as np\n",
    "from numba import jit, njit\n",
    "import numba as nb\n",
    "from quetzal.model import stepmodel\n",
    "from shapely.geometry import LineString\n",
    "from quetzal.io.gtfs_reader.importer import get_epsg\n",
    "from quetzal.io import excel\n"
   ]
  },
  {
   "cell_type": "code",
   "execution_count": 4,
   "id": "505c32e1",
   "metadata": {},
   "outputs": [
    {
     "name": "stdout",
     "output_type": "stream",
     "text": [
      "On Lambda :  False\n",
      "input folder:  ../../inputs/\n",
      "output folder:  ../../scenarios/am/outputs/\n",
      "scen folder :  ../../scenarios/am/inputs/\n",
      "model folder :  ../../scenarios/am/model/\n"
     ]
    }
   ],
   "source": [
    "period = argv['params']['general']['period']\n",
    "on_lambda = bool(os.environ.get('AWS_EXECUTION_ENV'))\n",
    "print('On Lambda : ', on_lambda)\n",
    "training_folder = argv['training_folder']\n",
    "input_folder = training_folder +r'/inputs/'\n",
    "\n",
    "if on_lambda:\n",
    "    scenario_folder = training_folder +r'/inputs/'\n",
    "    output_folder = training_folder + '/outputs/'\n",
    "    model_folder = training_folder + '/model/'\n",
    "else:\n",
    "    scenario_folder = training_folder + '/scenarios/' + period + '/inputs/'\n",
    "    output_folder = training_folder + '/scenarios/' + period + '/outputs/'\n",
    "    model_folder = training_folder + '/scenarios/' + period + '/model/'\n",
    "print('input folder: ', input_folder)\n",
    "print('output folder: ', output_folder)\n",
    "print('scen folder : ', scenario_folder)\n",
    "print('model folder : ', model_folder)\n",
    "\n",
    "\n",
    "pt_folder = scenario_folder + 'pt/'\n",
    "road_folder = scenario_folder + 'road/'\n",
    "if not os.path.exists(output_folder):\n",
    "    os.makedirs(output_folder)"
   ]
  },
  {
   "cell_type": "code",
   "execution_count": 5,
   "id": "3dcb24f6",
   "metadata": {},
   "outputs": [],
   "source": [
    "var, ancestry = excel.read_var(file=input_folder+'/parameters.xlsx', scenario=period, return_ancestry=True)\n"
   ]
  },
  {
   "cell_type": "markdown",
   "id": "95a65cd0",
   "metadata": {},
   "source": [
    "# inputs"
   ]
  },
  {
   "cell_type": "code",
   "execution_count": 6,
   "id": "d25157cb",
   "metadata": {},
   "outputs": [
    {
     "name": "stderr",
     "output_type": "stream",
     "text": [
      "road_nodes: 100%|███████████████████████████████| 25/25 [00:00<00:00, 37.68it/s]\n"
     ]
    }
   ],
   "source": [
    "sm = stepmodel.read_zippedpickles(model_folder + 'network')"
   ]
  },
  {
   "cell_type": "markdown",
   "id": "1c3131fc",
   "metadata": {},
   "source": [
    "volumes"
   ]
  },
  {
   "cell_type": "code",
   "execution_count": 7,
   "id": "7668e272",
   "metadata": {},
   "outputs": [],
   "source": [
    "filepath = excel.get_filepath(input_folder + '{s}/volumes/volumes.csv', ancestry=ancestry, log=False)\n",
    "volumes = pd.read_csv(filepath)\n",
    "volumes = set_index(volumes)"
   ]
  },
  {
   "cell_type": "code",
   "execution_count": 8,
   "id": "92dbb988",
   "metadata": {},
   "outputs": [],
   "source": [
    "period_dict={'am':'AM','pm':'PM','ip':'IP','op':'OP'}\n",
    "volumes = volumes[volumes['time_period'] == period_dict[period]]"
   ]
  },
  {
   "cell_type": "code",
   "execution_count": 9,
   "id": "a4df7a88",
   "metadata": {},
   "outputs": [],
   "source": [
    "volumes['origin'] = 'zone_' + volumes['origin'].astype(str)\n",
    "volumes['destination'] = 'zone_' + volumes['destination'].astype(str)"
   ]
  },
  {
   "cell_type": "markdown",
   "id": "e8865dd8",
   "metadata": {},
   "source": [
    "# congested road time"
   ]
  },
  {
   "cell_type": "code",
   "execution_count": 10,
   "id": "b6c030c1",
   "metadata": {},
   "outputs": [],
   "source": [
    "# scenario road time"
   ]
  },
  {
   "cell_type": "code",
   "execution_count": 11,
   "id": "4b83fa8e",
   "metadata": {},
   "outputs": [],
   "source": [
    "road_times = pd.read_csv(road_folder+'road_times.csv')\n",
    "road_times = set_index(road_times)\n",
    "road_times['old_index'] = road_times.index\n",
    "road_times.index = 'rlink_' + road_times.index.astype(str)"
   ]
  },
  {
   "cell_type": "code",
   "execution_count": 12,
   "id": "a1b3fbfc",
   "metadata": {},
   "outputs": [],
   "source": [
    "#reference road time"
   ]
  },
  {
   "cell_type": "code",
   "execution_count": 13,
   "id": "3cdb88a3",
   "metadata": {},
   "outputs": [],
   "source": [
    "filepath = excel.get_filepath(input_folder + '{s}/road/road_times.csv', ancestry=ancestry, log=False)\n",
    "ref_road_times = pd.read_csv(filepath)\n",
    "ref_road_times = ref_road_times.set_index('index')['time'].to_dict()"
   ]
  },
  {
   "cell_type": "code",
   "execution_count": 14,
   "id": "6de5b416",
   "metadata": {},
   "outputs": [],
   "source": [
    "road_times['time_ref'] = road_times.set_index('old_index').index.map(ref_road_times.get)"
   ]
  },
  {
   "cell_type": "code",
   "execution_count": 15,
   "id": "1b64e4bb",
   "metadata": {},
   "outputs": [],
   "source": [
    "# freeflow road time"
   ]
  },
  {
   "cell_type": "code",
   "execution_count": 16,
   "id": "752eb7f1",
   "metadata": {},
   "outputs": [],
   "source": [
    "road_times['time_ff'] = sm.road_links['time']"
   ]
  },
  {
   "cell_type": "markdown",
   "id": "0caf1dd6",
   "metadata": {},
   "source": [
    "# apply traffic"
   ]
  },
  {
   "cell_type": "code",
   "execution_count": 17,
   "id": "7b9ea9f7",
   "metadata": {},
   "outputs": [],
   "source": [
    "time_dict = road_times.set_index('old_index')['time_ff'].to_dict()\n",
    "sm.links['time_ff'] = sm.links['road_link_list'].apply(lambda ls: sum([*map(time_dict.get, ls)]))\n",
    "\n",
    "\n",
    "time_dict = road_times.set_index('old_index')['time'].to_dict()\n",
    "sm.links['time_congestion'] = sm.links['road_link_list'].apply(lambda ls: sum([*map(time_dict.get, ls)]))\n",
    "\n",
    "time_dict = road_times.set_index('old_index')['time_ref'].to_dict()\n",
    "sm.links['time_ref'] = sm.links['road_link_list'].apply(lambda ls: sum([*map(time_dict.get, ls)]))"
   ]
  },
  {
   "cell_type": "code",
   "execution_count": 18,
   "id": "cb5e69f7",
   "metadata": {},
   "outputs": [],
   "source": [
    "# broken mode, pour avoir sans rail et sans bus.mes deux segment\n",
    "ref = sm.copy()"
   ]
  },
  {
   "cell_type": "code",
   "execution_count": 19,
   "id": "130ec1fa",
   "metadata": {},
   "outputs": [],
   "source": [
    "sm.links['jam_factor'] = sm.links['time_ff'] / sm.links['time_congestion']\n",
    "sm.links['jam_factor'] = sm.links['jam_factor'].apply(lambda x: max(x,0.1)).apply(lambda x: min(x,1.2))\n",
    "sm.links['time'] = sm.links['time'] / sm.links['jam_factor'] \n"
   ]
  },
  {
   "cell_type": "code",
   "execution_count": 20,
   "id": "0d920c81",
   "metadata": {},
   "outputs": [],
   "source": [
    "ref.links['jam_factor'] = ref.links['time_ff'] / ref.links['time_ref']\n",
    "ref.links['jam_factor'] = ref.links['jam_factor'].apply(lambda x: max(x,0.1)).apply(lambda x: min(x,1.2))\n",
    "ref.links['time'] = ref.links['time'] / ref.links['jam_factor'] "
   ]
  },
  {
   "cell_type": "code",
   "execution_count": null,
   "id": "160b1796",
   "metadata": {},
   "outputs": [],
   "source": []
  },
  {
   "cell_type": "code",
   "execution_count": null,
   "id": "36ed9131",
   "metadata": {},
   "outputs": [],
   "source": []
  },
  {
   "cell_type": "code",
   "execution_count": null,
   "id": "4a1318c4",
   "metadata": {},
   "outputs": [],
   "source": []
  },
  {
   "cell_type": "markdown",
   "id": "913245a8",
   "metadata": {},
   "source": [
    "# pathfinder"
   ]
  },
  {
   "cell_type": "code",
   "execution_count": 21,
   "id": "660e9979",
   "metadata": {},
   "outputs": [],
   "source": [
    "volumes_pt = volumes[volumes['vehicle_class'].isin(['RPAX','BPAX'])]\n",
    "od_set = set(zip(volumes_pt['origin'], volumes_pt['destination']))\n"
   ]
  },
  {
   "cell_type": "code",
   "execution_count": null,
   "id": "f28e6600",
   "metadata": {},
   "outputs": [],
   "source": []
  },
  {
   "cell_type": "code",
   "execution_count": 22,
   "id": "93121fe3",
   "metadata": {},
   "outputs": [
    {
     "name": "stdout",
     "output_type": "stream",
     "text": [
      "start publicpathfinder\n",
      "build_mode_combinations\n",
      "find_broken_mode_paths\n"
     ]
    },
    {
     "name": "stderr",
     "output_type": "stream",
     "text": [
      "breaking modes: set() : 100%|█████████████████████| 4/4 [00:20<00:00,  5.15s/it]\n"
     ]
    },
    {
     "name": "stdout",
     "output_type": "stream",
     "text": [
      "path_analysis\n"
     ]
    }
   ],
   "source": [
    "sm.step_pt_pathfinder(\n",
    "    broken_routes=False,\n",
    "    broken_modes=True,\n",
    "    keep_pathfinder=True,\n",
    "    mode_column='route_type',\n",
    "    route_column='route_id',\n",
    "    speedup=True,\n",
    "    walk_on_road=True,\n",
    "    path_analysis=False,\n",
    "    od_set=od_set,\n",
    "    engine='b', # b is faster!\n",
    ")\n"
   ]
  },
  {
   "cell_type": "code",
   "execution_count": 23,
   "id": "b2d8653f",
   "metadata": {},
   "outputs": [],
   "source": [
    "def format_los(sm,volumes_pt):\n",
    "    sm.pt_los['broken_modes'] = sm.pt_los['broken_modes'].apply(str)\n",
    "    time_per_modes = sm.pt_los.groupby(['origin','destination','broken_modes'])['gtime'].agg(sum).unstack().reset_index()\n",
    "\n",
    "    los = volumes_pt[['origin','destination','vehicle_class']].copy()\n",
    "    los = los.drop_duplicates()\n",
    "\n",
    "    los = los.merge(time_per_modes,on = ['origin','destination'])\n",
    "    #los = los.merge(best_paths[['origin','destination','gtime']],on = ['origin','destination'])\n",
    "    \n",
    "    los['time']= np.nan\n",
    "    idx = los['vehicle_class']=='BPAX'\n",
    "    los.loc[idx,'time'] = los.loc[idx,\"{'rail'}\"]\n",
    "\n",
    "    idx = los['vehicle_class']=='RPAX'\n",
    "    los.loc[idx,'time'] = los.loc[idx,\"{'bus'}\"]\n",
    "\n",
    "    los['all_walk'] = False\n",
    "    los.loc[los['time'].isnull(),'all_walk'] = True\n",
    "    try:\n",
    "        los['time'] = los['time'].fillna(los[\"{'bus', 'rail'}\"])\n",
    "    except:\n",
    "        los['time'] = los['time'].fillna(los[\"{'rail', 'bus'}\"])\n",
    "            \n",
    "    return los"
   ]
  },
  {
   "cell_type": "code",
   "execution_count": null,
   "id": "b6d87873",
   "metadata": {},
   "outputs": [],
   "source": []
  },
  {
   "cell_type": "code",
   "execution_count": 24,
   "id": "c8c5b1fc",
   "metadata": {},
   "outputs": [],
   "source": [
    "los = format_los(sm,volumes_pt)\n",
    "los[['origin','destination','vehicle_class','time']].to_csv(output_folder +'pt_skim.csv')"
   ]
  },
  {
   "cell_type": "code",
   "execution_count": 25,
   "id": "9c553847",
   "metadata": {},
   "outputs": [
    {
     "name": "stderr",
     "output_type": "stream",
     "text": [
      "path_analysis: 100%|█████████████████| 201682/201682 [00:10<00:00, 18712.43it/s]\n"
     ]
    }
   ],
   "source": [
    "sm.analysis_pt_los(walk_on_road=True)\n",
    "sm.analysis_pt_route_type(hierarchy=[ 'car','rail', 'subway', 'tram', 'bus', 'walk'])"
   ]
  },
  {
   "cell_type": "markdown",
   "id": "316c50a4",
   "metadata": {},
   "source": [
    "# ref pathfinder"
   ]
  },
  {
   "cell_type": "code",
   "execution_count": 26,
   "id": "439d52a0",
   "metadata": {},
   "outputs": [
    {
     "name": "stdout",
     "output_type": "stream",
     "text": [
      "start publicpathfinder\n",
      "build_mode_combinations\n",
      "find_broken_mode_paths\n"
     ]
    },
    {
     "name": "stderr",
     "output_type": "stream",
     "text": [
      "breaking modes: set() : 100%|█████████████████████| 4/4 [00:20<00:00,  5.22s/it]\n"
     ]
    },
    {
     "name": "stdout",
     "output_type": "stream",
     "text": [
      "path_analysis\n"
     ]
    }
   ],
   "source": [
    "ref.step_pt_pathfinder(\n",
    "    broken_routes=False,\n",
    "    broken_modes=True,\n",
    "    keep_pathfinder=True,\n",
    "    mode_column='route_type',\n",
    "    route_column='route_id',\n",
    "    speedup=True,\n",
    "    walk_on_road=True,\n",
    "    path_analysis=False,\n",
    "    od_set=od_set,\n",
    "    engine='b', # b is faster!\n",
    ")"
   ]
  },
  {
   "cell_type": "code",
   "execution_count": 27,
   "id": "c65a8aea",
   "metadata": {},
   "outputs": [],
   "source": [
    "ref_los = format_los(ref, volumes_pt)\n",
    "ref_los[['origin','destination','vehicle_class','time']].to_csv(output_folder +'ref_pt_skim.csv')\n"
   ]
  },
  {
   "cell_type": "code",
   "execution_count": 28,
   "id": "88e04d66",
   "metadata": {
    "scrolled": false
   },
   "outputs": [],
   "source": [
    "#ref_los[~ref_los['all_walk']]"
   ]
  },
  {
   "cell_type": "code",
   "execution_count": null,
   "id": "670d8f99",
   "metadata": {
    "scrolled": true
   },
   "outputs": [],
   "source": []
  },
  {
   "cell_type": "code",
   "execution_count": 29,
   "id": "4f932f73",
   "metadata": {},
   "outputs": [
    {
     "name": "stderr",
     "output_type": "stream",
     "text": [
      "pt_los: 100%|███████████████████████████████████| 27/27 [00:10<00:00,  2.56it/s]\n"
     ]
    }
   ],
   "source": [
    "sm.to_zippedpickles(model_folder +'los', omitted_attributes=['publicpathfinder'])"
   ]
  },
  {
   "cell_type": "code",
   "execution_count": null,
   "id": "24e938e7",
   "metadata": {},
   "outputs": [],
   "source": []
  }
 ],
 "metadata": {
  "kernelspec": {
   "display_name": "quetzal_env",
   "language": "python",
   "name": "quetzal_env"
  },
  "language_info": {
   "codemirror_mode": {
    "name": "ipython",
    "version": 3
   },
   "file_extension": ".py",
   "mimetype": "text/x-python",
   "name": "python",
   "nbconvert_exporter": "python",
   "pygments_lexer": "ipython3",
   "version": "3.8.6"
  }
 },
 "nbformat": 4,
 "nbformat_minor": 5
}
