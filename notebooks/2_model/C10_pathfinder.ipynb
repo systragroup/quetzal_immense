{
 "cells": [
  {
   "cell_type": "code",
   "execution_count": 1,
   "id": "71ccff01",
   "metadata": {},
   "outputs": [
    {
     "name": "stdout",
     "output_type": "stream",
     "text": [
      "{'training_folder': '../..', 'params': {'general': {'period': 'ip'}}}\n"
     ]
    }
   ],
   "source": [
    "import sys\n",
    "import json\n",
    "\n",
    "params = {'general':{'period':'ip'}}\n",
    "default = {'training_folder': '../..', 'params': params} # Default execution parameters\n",
    "manual, argv = (True, default) if 'ipykernel' in sys.argv[0] else (False, dict(default, **json.loads(sys.argv[1])))\n",
    "print(argv)\n"
   ]
  },
  {
   "cell_type": "code",
   "execution_count": null,
   "id": "8fa82edf",
   "metadata": {},
   "outputs": [],
   "source": []
  },
  {
   "cell_type": "code",
   "execution_count": 2,
   "id": "de00e9ba",
   "metadata": {},
   "outputs": [],
   "source": [
    "def set_index(df):\n",
    "    if 'index' in df.columns:\n",
    "        df = df.set_index('index')\n",
    "    else:\n",
    "        df.index.name='index'\n",
    "    return df"
   ]
  },
  {
   "cell_type": "code",
   "execution_count": 3,
   "id": "99b5db61",
   "metadata": {},
   "outputs": [],
   "source": [
    "import os\n",
    "import time\n",
    "import geopandas as gpd\n",
    "import pandas as pd\n",
    "sys.path.insert(0, r'../../../quetzal') # Add path to quetzal\n",
    "from sklearn.neighbors import NearestNeighbors\n",
    "import numpy as np\n",
    "from numba import jit, njit\n",
    "import numba as nb\n",
    "from quetzal.model import stepmodel\n",
    "from shapely.geometry import LineString\n",
    "from quetzal.io.gtfs_reader.importer import get_epsg\n",
    "from quetzal.io import excel\n"
   ]
  },
  {
   "cell_type": "code",
   "execution_count": 4,
   "id": "505c32e1",
   "metadata": {},
   "outputs": [
    {
     "name": "stdout",
     "output_type": "stream",
     "text": [
      "On Lambda :  False\n",
      "input folder:  ../../inputs/\n",
      "output folder:  ../../scenarios/ip/outputs/\n",
      "scen folder :  ../../scenarios/ip/inputs/\n",
      "model folder :  ../../scenarios/ip/model/\n"
     ]
    }
   ],
   "source": [
    "period = argv['params']['general']['period']\n",
    "on_lambda = bool(os.environ.get('AWS_EXECUTION_ENV'))\n",
    "print('On Lambda : ', on_lambda)\n",
    "training_folder = argv['training_folder']\n",
    "input_folder = training_folder +r'/inputs/'\n",
    "\n",
    "if on_lambda:\n",
    "    scenario_folder = training_folder +r'/inputs/'\n",
    "    output_folder = training_folder + '/outputs/'\n",
    "    model_folder = training_folder + '/model/'\n",
    "else:\n",
    "    scenario_folder = training_folder + '/scenarios/' + period + '/inputs/'\n",
    "    output_folder = training_folder + '/scenarios/' + period + '/outputs/'\n",
    "    model_folder = training_folder + '/scenarios/' + period + '/model/'\n",
    "print('input folder: ', input_folder)\n",
    "print('output folder: ', output_folder)\n",
    "print('scen folder : ', scenario_folder)\n",
    "print('model folder : ', model_folder)\n",
    "\n",
    "\n",
    "pt_folder = scenario_folder + 'pt/'\n",
    "road_folder = scenario_folder + 'road/'\n",
    "if not os.path.exists(output_folder):\n",
    "    os.makedirs(output_folder)"
   ]
  },
  {
   "cell_type": "code",
   "execution_count": 5,
   "id": "3dcb24f6",
   "metadata": {},
   "outputs": [],
   "source": [
    "var, ancestry = excel.read_var(file=input_folder+'/parameters.xlsx', scenario=period, return_ancestry=True)\n"
   ]
  },
  {
   "cell_type": "markdown",
   "id": "95a65cd0",
   "metadata": {},
   "source": [
    "# inputs"
   ]
  },
  {
   "cell_type": "code",
   "execution_count": 6,
   "id": "d25157cb",
   "metadata": {},
   "outputs": [
    {
     "name": "stderr",
     "output_type": "stream",
     "text": [
      "road_nodes: 100%|███████████████████████████████| 25/25 [00:00<00:00, 39.58it/s]\n"
     ]
    }
   ],
   "source": [
    "sm = stepmodel.read_zippedpickles(model_folder + 'network')"
   ]
  },
  {
   "cell_type": "markdown",
   "id": "1c3131fc",
   "metadata": {},
   "source": [
    "volumes"
   ]
  },
  {
   "cell_type": "code",
   "execution_count": 7,
   "id": "7668e272",
   "metadata": {},
   "outputs": [],
   "source": [
    "filepath = excel.get_filepath(input_folder + '{s}/volumes/volumes.csv', ancestry=ancestry, log=False)\n",
    "volumes = pd.read_csv(filepath)\n",
    "volumes = set_index(volumes)"
   ]
  },
  {
   "cell_type": "code",
   "execution_count": 8,
   "id": "92dbb988",
   "metadata": {},
   "outputs": [],
   "source": [
    "period_dict={'am':'AM','pm':'PM','ip':'IP','op':'OP'}\n",
    "volumes = volumes[volumes['time_period'] == period_dict[period]]"
   ]
  },
  {
   "cell_type": "code",
   "execution_count": 9,
   "id": "a4df7a88",
   "metadata": {},
   "outputs": [],
   "source": [
    "volumes['origin'] = 'zone_' + volumes['origin'].astype(str)\n",
    "volumes['destination'] = 'zone_' + volumes['destination'].astype(str)"
   ]
  },
  {
   "cell_type": "markdown",
   "id": "e8865dd8",
   "metadata": {},
   "source": [
    "congested road time"
   ]
  },
  {
   "cell_type": "code",
   "execution_count": 10,
   "id": "4b83fa8e",
   "metadata": {},
   "outputs": [],
   "source": [
    "road_times = pd.read_csv(road_folder+'road_times.csv')\n",
    "road_times = set_index(road_times)\n",
    "road_times['old_index'] = road_times.index\n",
    "road_times.index = 'rlink_' + road_times.index.astype(str)"
   ]
  },
  {
   "cell_type": "code",
   "execution_count": null,
   "id": "a1b3fbfc",
   "metadata": {},
   "outputs": [],
   "source": []
  },
  {
   "cell_type": "markdown",
   "id": "0caf1dd6",
   "metadata": {},
   "source": [
    "# apply traffic"
   ]
  },
  {
   "cell_type": "code",
   "execution_count": 11,
   "id": "16a62424",
   "metadata": {},
   "outputs": [],
   "source": [
    "road_times['time_ff'] = sm.road_links['time']"
   ]
  },
  {
   "cell_type": "code",
   "execution_count": null,
   "id": "69ba9ab7",
   "metadata": {},
   "outputs": [],
   "source": []
  },
  {
   "cell_type": "code",
   "execution_count": 12,
   "id": "7b9ea9f7",
   "metadata": {},
   "outputs": [],
   "source": [
    "time_dict = road_times.set_index('old_index')['time_ff'].to_dict()\n",
    "sm.links['time_ff'] = sm.links['road_link_list'].apply(lambda ls: sum([*map(time_dict.get, ls)]))\n",
    "\n",
    "\n",
    "time_dict = road_times.set_index('old_index')['time'].to_dict()\n",
    "sm.links['time_congestion'] = sm.links['road_link_list'].apply(lambda ls: sum([*map(time_dict.get, ls)]))"
   ]
  },
  {
   "cell_type": "code",
   "execution_count": 13,
   "id": "130ec1fa",
   "metadata": {},
   "outputs": [],
   "source": [
    "#sm.links['time'] = sm.links['time'] / sm.links['jam_factor'] \n",
    "sm.links['jam_factor'] = sm.links['time_ff'] / sm.links['time_congestion']"
   ]
  },
  {
   "cell_type": "code",
   "execution_count": 14,
   "id": "0d920c81",
   "metadata": {},
   "outputs": [],
   "source": [
    "sm.links['jam_factor'] = sm.links['jam_factor'].apply(lambda x: max(x,0.1)).apply(lambda x: min(x,1.2))"
   ]
  },
  {
   "cell_type": "code",
   "execution_count": null,
   "id": "160b1796",
   "metadata": {},
   "outputs": [],
   "source": []
  },
  {
   "cell_type": "code",
   "execution_count": 15,
   "id": "36ed9131",
   "metadata": {},
   "outputs": [],
   "source": [
    "# broken mode, pour avoir sans rail et sans bus.mes deux segment\n",
    "ref = sm.copy()"
   ]
  },
  {
   "cell_type": "code",
   "execution_count": 16,
   "id": "4a1318c4",
   "metadata": {},
   "outputs": [],
   "source": [
    "sm.links['time'] = sm.links['time'] / sm.links['jam_factor'] \n"
   ]
  },
  {
   "cell_type": "markdown",
   "id": "913245a8",
   "metadata": {},
   "source": [
    "# pathfinder"
   ]
  },
  {
   "cell_type": "code",
   "execution_count": 17,
   "id": "660e9979",
   "metadata": {},
   "outputs": [],
   "source": [
    "volumes_pt = volumes[volumes['vehicle_class'].isin(['RPAX','BPAX'])]\n",
    "od_set = set(zip(volumes_pt['origin'], volumes_pt['destination']))\n"
   ]
  },
  {
   "cell_type": "code",
   "execution_count": null,
   "id": "f28e6600",
   "metadata": {},
   "outputs": [],
   "source": []
  },
  {
   "cell_type": "code",
   "execution_count": 33,
   "id": "93121fe3",
   "metadata": {},
   "outputs": [
    {
     "name": "stdout",
     "output_type": "stream",
     "text": [
      "start publicpathfinder\n",
      "build_mode_combinations\n",
      "find_broken_mode_paths\n"
     ]
    },
    {
     "name": "stderr",
     "output_type": "stream",
     "text": [
      "breaking modes: set() : 100%|█████████████████████| 4/4 [00:24<00:00,  6.06s/it]\n"
     ]
    },
    {
     "name": "stdout",
     "output_type": "stream",
     "text": [
      "path_analysis\n"
     ]
    }
   ],
   "source": [
    "sm.step_pt_pathfinder(\n",
    "    broken_routes=False,\n",
    "    broken_modes=True,\n",
    "    keep_pathfinder=True,\n",
    "    mode_column='route_type',\n",
    "    route_column='route_id',\n",
    "    speedup=True,\n",
    "    walk_on_road=True,\n",
    "    path_analysis=False,\n",
    "    od_set=od_set,\n",
    "    engine='b', # b is faster!\n",
    ")\n"
   ]
  },
  {
   "cell_type": "code",
   "execution_count": 34,
   "id": "b2d8653f",
   "metadata": {},
   "outputs": [],
   "source": [
    "def format_los(sm,volumes_pt):\n",
    "    sm.pt_los['broken_modes'] = sm.pt_los['broken_modes'].apply(str)\n",
    "    time_per_modes = sm.pt_los.groupby(['origin','destination','broken_modes'])['gtime'].agg(sum).unstack().reset_index()\n",
    "\n",
    "    los = volumes_pt[['origin','destination','vehicle_class']].copy()\n",
    "    los = los.drop_duplicates()\n",
    "\n",
    "    los = los.merge(time_per_modes,on = ['origin','destination'])\n",
    "    #los = los.merge(best_paths[['origin','destination','gtime']],on = ['origin','destination'])\n",
    "    \n",
    "    los['time']= np.nan\n",
    "    idx = los['vehicle_class']=='BPAX'\n",
    "    los.loc[idx,'time'] = los.loc[idx,\"{'rail'}\"]\n",
    "\n",
    "    idx = los['vehicle_class']=='RPAX'\n",
    "    los.loc[idx,'time'] = los.loc[idx,\"{'bus'}\"]\n",
    "\n",
    "    los['all_walk'] = False\n",
    "    los.loc[los['time'].isnull(),'all_walk'] = True\n",
    "    try:\n",
    "        los['time'] = los['time'].fillna(los[\"{'bus', 'rail'}\"])\n",
    "    except:\n",
    "        los['time'] = los['time'].fillna(los[\"{'rail', 'bus'}\"])\n",
    "            \n",
    "    return los"
   ]
  },
  {
   "cell_type": "code",
   "execution_count": 36,
   "id": "c8c5b1fc",
   "metadata": {},
   "outputs": [],
   "source": [
    "los = format_los(sm,volumes_pt)\n",
    "los[['origin','destination','vehicle_class','time']].to_csv(output_folder +'pt_skim.csv')"
   ]
  },
  {
   "cell_type": "markdown",
   "id": "316c50a4",
   "metadata": {},
   "source": [
    "# ref pathfinder"
   ]
  },
  {
   "cell_type": "code",
   "execution_count": 37,
   "id": "439d52a0",
   "metadata": {},
   "outputs": [
    {
     "name": "stdout",
     "output_type": "stream",
     "text": [
      "start publicpathfinder\n",
      "build_mode_combinations\n",
      "find_broken_mode_paths\n"
     ]
    },
    {
     "name": "stderr",
     "output_type": "stream",
     "text": [
      "breaking modes: set() : 100%|█████████████████████| 4/4 [00:24<00:00,  6.15s/it]\n"
     ]
    },
    {
     "name": "stdout",
     "output_type": "stream",
     "text": [
      "path_analysis\n"
     ]
    }
   ],
   "source": [
    "ref.step_pt_pathfinder(\n",
    "    broken_routes=False,\n",
    "    broken_modes=True,\n",
    "    keep_pathfinder=True,\n",
    "    mode_column='route_type',\n",
    "    route_column='route_id',\n",
    "    speedup=True,\n",
    "    walk_on_road=True,\n",
    "    path_analysis=False,\n",
    "    od_set=od_set,\n",
    "    engine='b', # b is faster!\n",
    ")"
   ]
  },
  {
   "cell_type": "code",
   "execution_count": 38,
   "id": "c65a8aea",
   "metadata": {},
   "outputs": [],
   "source": [
    "ref_los = format_los(ref, volumes_pt)\n",
    "ref_los[['origin','destination','vehicle_class','time']].to_csv(output_folder +'ref_pt_skim.csv')\n"
   ]
  },
  {
   "cell_type": "code",
   "execution_count": 39,
   "id": "88e04d66",
   "metadata": {
    "scrolled": false
   },
   "outputs": [],
   "source": [
    "#ref_los[~ref_los['all_walk']]"
   ]
  },
  {
   "cell_type": "code",
   "execution_count": null,
   "id": "670d8f99",
   "metadata": {
    "scrolled": true
   },
   "outputs": [],
   "source": []
  },
  {
   "cell_type": "code",
   "execution_count": 40,
   "id": "4f932f73",
   "metadata": {},
   "outputs": [],
   "source": [
    "#sm.to_zippedpickles(model_folder +'los', omitted_attributes=['publicpathfinder'])"
   ]
  },
  {
   "cell_type": "markdown",
   "id": "307e1655",
   "metadata": {},
   "source": [
    "# Car pathfinder"
   ]
  },
  {
   "cell_type": "code",
   "execution_count": null,
   "id": "dc69fdc7",
   "metadata": {},
   "outputs": [],
   "source": []
  },
  {
   "cell_type": "code",
   "execution_count": 41,
   "id": "a889c47f",
   "metadata": {},
   "outputs": [],
   "source": [
    "volumes_car = volumes[volumes['vehicle_class'].isin(['C_other','C_EB'])]\n",
    "od_set = set(zip(volumes_car['origin'], volumes_car['destination']))"
   ]
  },
  {
   "cell_type": "code",
   "execution_count": 42,
   "id": "3b8271aa",
   "metadata": {},
   "outputs": [
    {
     "name": "stdout",
     "output_type": "stream",
     "text": [
      "self.volumes does not exist. od generated with self.zones\n"
     ]
    }
   ],
   "source": [
    "\n",
    "car = sm.copy()\n",
    "car.road_links['dup'] = car.road_links['a'] + car.road_links['b']\n",
    "car.road_links = car.road_links.drop_duplicates('dup').drop(columns=['dup'])\n",
    "\n",
    "car.preparation_ntlegs(\n",
    "    short_leg_speed=15,\n",
    "    long_leg_speed=15,\n",
    "    threshold=5000,\n",
    "    zone_to_transit=False,\n",
    "    zone_to_road=True,\n",
    "    n_ntlegs=2,\n",
    "    max_ntleg_length=10000000000,\n",
    ")\n",
    "car.step_road_pathfinder(method='aon', access_time='time',od_set=od_set,path_analysis=True,)\n"
   ]
  },
  {
   "cell_type": "code",
   "execution_count": 43,
   "id": "53318bd0",
   "metadata": {},
   "outputs": [],
   "source": [
    "los = volumes_car[['origin','destination','vehicle_class']].copy()\n",
    "los = los.drop_duplicates()\n",
    "\n",
    "los = los.merge(car.car_los[['origin','destination','time']], on = ['origin','destination'])\n",
    "los.loc[los['vehicle_class']=='C_EB','time'] = los.loc[los['vehicle_class']=='C_EB','time'] * 0.98\n",
    "\n",
    "los[['origin','destination','vehicle_class','time']].to_csv(output_folder +'car_skim.csv')"
   ]
  },
  {
   "cell_type": "markdown",
   "id": "7c6f7fe5",
   "metadata": {},
   "source": [
    "then reference with time = road_times"
   ]
  },
  {
   "cell_type": "code",
   "execution_count": 44,
   "id": "f0a9868e",
   "metadata": {},
   "outputs": [
    {
     "name": "stdout",
     "output_type": "stream",
     "text": [
      "self.volumes does not exist. od generated with self.zones\n"
     ]
    }
   ],
   "source": [
    "car = ref.copy()\n",
    "\n",
    "car.road_links['time']  = road_times['time']\n",
    "\n",
    "car.road_links['dup'] = car.road_links['a'] + car.road_links['b']\n",
    "car.road_links = car.road_links.drop_duplicates('dup').drop(columns=['dup'])\n",
    "\n",
    "car.preparation_ntlegs(\n",
    "    short_leg_speed=15,\n",
    "    long_leg_speed=15,\n",
    "    threshold=5000,\n",
    "    zone_to_transit=False,\n",
    "    zone_to_road=True,\n",
    "    n_ntlegs=1,\n",
    "    max_ntleg_length=10000000000,\n",
    ")\n",
    "car.step_road_pathfinder(method='aon', access_time='time',od_set=od_set)\n"
   ]
  },
  {
   "cell_type": "code",
   "execution_count": 45,
   "id": "24430bbe",
   "metadata": {},
   "outputs": [],
   "source": [
    "los = volumes_car[['origin','destination','vehicle_class']].copy()\n",
    "los = los.drop_duplicates()\n",
    "\n",
    "los = los.merge(car.car_los[['origin','destination','time']], on = ['origin','destination'])\n",
    "los.loc[los['vehicle_class']=='C_EB','time'] = los.loc[los['vehicle_class']=='C_EB','time'] * 0.98\n",
    "\n",
    "los[['origin','destination','vehicle_class','time']].to_csv(output_folder +'ref_car_skim.csv')"
   ]
  },
  {
   "cell_type": "code",
   "execution_count": 47,
   "id": "5f52e616",
   "metadata": {},
   "outputs": [
    {
     "data": {
      "text/html": [
       "<div>\n",
       "<style scoped>\n",
       "    .dataframe tbody tr th:only-of-type {\n",
       "        vertical-align: middle;\n",
       "    }\n",
       "\n",
       "    .dataframe tbody tr th {\n",
       "        vertical-align: top;\n",
       "    }\n",
       "\n",
       "    .dataframe thead th {\n",
       "        text-align: right;\n",
       "    }\n",
       "</style>\n",
       "<table border=\"1\" class=\"dataframe\">\n",
       "  <thead>\n",
       "    <tr style=\"text-align: right;\">\n",
       "      <th></th>\n",
       "      <th>origin</th>\n",
       "      <th>destination</th>\n",
       "      <th>vehicle_class</th>\n",
       "      <th>set()</th>\n",
       "      <th>{'bus'}</th>\n",
       "      <th>{'rail', 'bus'}</th>\n",
       "      <th>{'rail'}</th>\n",
       "    </tr>\n",
       "  </thead>\n",
       "  <tbody>\n",
       "    <tr>\n",
       "      <th>0</th>\n",
       "      <td>zone_1</td>\n",
       "      <td>zone_1</td>\n",
       "      <td>BPAX</td>\n",
       "      <td>NaN</td>\n",
       "      <td>NaN</td>\n",
       "      <td>0.000000</td>\n",
       "      <td>NaN</td>\n",
       "    </tr>\n",
       "    <tr>\n",
       "      <th>1</th>\n",
       "      <td>zone_1</td>\n",
       "      <td>zone_6</td>\n",
       "      <td>BPAX</td>\n",
       "      <td>NaN</td>\n",
       "      <td>NaN</td>\n",
       "      <td>3662.452930</td>\n",
       "      <td>1991.236862</td>\n",
       "    </tr>\n",
       "    <tr>\n",
       "      <th>2</th>\n",
       "      <td>zone_1</td>\n",
       "      <td>zone_7</td>\n",
       "      <td>BPAX</td>\n",
       "      <td>NaN</td>\n",
       "      <td>NaN</td>\n",
       "      <td>3189.681990</td>\n",
       "      <td>2033.751067</td>\n",
       "    </tr>\n",
       "    <tr>\n",
       "      <th>3</th>\n",
       "      <td>zone_1</td>\n",
       "      <td>zone_10</td>\n",
       "      <td>BPAX</td>\n",
       "      <td>NaN</td>\n",
       "      <td>NaN</td>\n",
       "      <td>2930.800698</td>\n",
       "      <td>1236.471043</td>\n",
       "    </tr>\n",
       "    <tr>\n",
       "      <th>4</th>\n",
       "      <td>zone_1</td>\n",
       "      <td>zone_11</td>\n",
       "      <td>BPAX</td>\n",
       "      <td>NaN</td>\n",
       "      <td>NaN</td>\n",
       "      <td>2121.424850</td>\n",
       "      <td>982.150246</td>\n",
       "    </tr>\n",
       "    <tr>\n",
       "      <th>...</th>\n",
       "      <td>...</td>\n",
       "      <td>...</td>\n",
       "      <td>...</td>\n",
       "      <td>...</td>\n",
       "      <td>...</td>\n",
       "      <td>...</td>\n",
       "      <td>...</td>\n",
       "    </tr>\n",
       "    <tr>\n",
       "      <th>93986</th>\n",
       "      <td>zone_701</td>\n",
       "      <td>zone_695</td>\n",
       "      <td>RPAX</td>\n",
       "      <td>NaN</td>\n",
       "      <td>305503.205703</td>\n",
       "      <td>307464.920108</td>\n",
       "      <td>229773.493888</td>\n",
       "    </tr>\n",
       "    <tr>\n",
       "      <th>93987</th>\n",
       "      <td>zone_701</td>\n",
       "      <td>zone_696</td>\n",
       "      <td>RPAX</td>\n",
       "      <td>NaN</td>\n",
       "      <td>301616.387876</td>\n",
       "      <td>302761.347103</td>\n",
       "      <td>227556.497953</td>\n",
       "    </tr>\n",
       "    <tr>\n",
       "      <th>93988</th>\n",
       "      <td>zone_701</td>\n",
       "      <td>zone_697</td>\n",
       "      <td>RPAX</td>\n",
       "      <td>NaN</td>\n",
       "      <td>NaN</td>\n",
       "      <td>335555.326746</td>\n",
       "      <td>227798.142879</td>\n",
       "    </tr>\n",
       "    <tr>\n",
       "      <th>93989</th>\n",
       "      <td>zone_701</td>\n",
       "      <td>zone_698</td>\n",
       "      <td>RPAX</td>\n",
       "      <td>248908.246601</td>\n",
       "      <td>331253.852599</td>\n",
       "      <td>384201.875636</td>\n",
       "      <td>264972.416027</td>\n",
       "    </tr>\n",
       "    <tr>\n",
       "      <th>93990</th>\n",
       "      <td>zone_701</td>\n",
       "      <td>zone_699</td>\n",
       "      <td>RPAX</td>\n",
       "      <td>252410.168309</td>\n",
       "      <td>NaN</td>\n",
       "      <td>311190.679095</td>\n",
       "      <td>259758.016853</td>\n",
       "    </tr>\n",
       "  </tbody>\n",
       "</table>\n",
       "<p>93991 rows × 7 columns</p>\n",
       "</div>"
      ],
      "text/plain": [
       "         origin destination vehicle_class          set()        {'bus'}  \\\n",
       "0        zone_1      zone_1          BPAX            NaN            NaN   \n",
       "1        zone_1      zone_6          BPAX            NaN            NaN   \n",
       "2        zone_1      zone_7          BPAX            NaN            NaN   \n",
       "3        zone_1     zone_10          BPAX            NaN            NaN   \n",
       "4        zone_1     zone_11          BPAX            NaN            NaN   \n",
       "...         ...         ...           ...            ...            ...   \n",
       "93986  zone_701    zone_695          RPAX            NaN  305503.205703   \n",
       "93987  zone_701    zone_696          RPAX            NaN  301616.387876   \n",
       "93988  zone_701    zone_697          RPAX            NaN            NaN   \n",
       "93989  zone_701    zone_698          RPAX  248908.246601  331253.852599   \n",
       "93990  zone_701    zone_699          RPAX  252410.168309            NaN   \n",
       "\n",
       "       {'rail', 'bus'}       {'rail'}  \n",
       "0             0.000000            NaN  \n",
       "1          3662.452930    1991.236862  \n",
       "2          3189.681990    2033.751067  \n",
       "3          2930.800698    1236.471043  \n",
       "4          2121.424850     982.150246  \n",
       "...                ...            ...  \n",
       "93986    307464.920108  229773.493888  \n",
       "93987    302761.347103  227556.497953  \n",
       "93988    335555.326746  227798.142879  \n",
       "93989    384201.875636  264972.416027  \n",
       "93990    311190.679095  259758.016853  \n",
       "\n",
       "[93991 rows x 7 columns]"
      ]
     },
     "execution_count": 47,
     "metadata": {},
     "output_type": "execute_result"
    }
   ],
   "source": [
    "los"
   ]
  },
  {
   "cell_type": "code",
   "execution_count": null,
   "id": "e423ee81",
   "metadata": {},
   "outputs": [],
   "source": []
  },
  {
   "cell_type": "code",
   "execution_count": null,
   "id": "986b1d0a",
   "metadata": {},
   "outputs": [],
   "source": []
  }
 ],
 "metadata": {
  "kernelspec": {
   "display_name": "quetzal_env",
   "language": "python",
   "name": "quetzal_env"
  },
  "language_info": {
   "codemirror_mode": {
    "name": "ipython",
    "version": 3
   },
   "file_extension": ".py",
   "mimetype": "text/x-python",
   "name": "python",
   "nbconvert_exporter": "python",
   "pygments_lexer": "ipython3",
   "version": "3.8.6"
  }
 },
 "nbformat": 4,
 "nbformat_minor": 5
}
