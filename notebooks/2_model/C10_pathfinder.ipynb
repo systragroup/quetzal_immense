{
 "cells": [
  {
   "cell_type": "code",
   "execution_count": 130,
   "id": "71ccff01",
   "metadata": {},
   "outputs": [
    {
     "name": "stdout",
     "output_type": "stream",
     "text": [
      "{'training_folder': '../..', 'params': {'general': {'period': 'test'}}}\n"
     ]
    }
   ],
   "source": [
    "import sys\n",
    "import json\n",
    "\n",
    "params = {'general':{'period':'test'}}\n",
    "default = {'training_folder': '../..', 'params': params} # Default execution parameters\n",
    "manual, argv = (True, default) if 'ipykernel' in sys.argv[0] else (False, dict(default, **json.loads(sys.argv[1])))\n",
    "print(argv)\n"
   ]
  },
  {
   "cell_type": "code",
   "execution_count": null,
   "id": "de00e9ba",
   "metadata": {},
   "outputs": [],
   "source": []
  },
  {
   "cell_type": "code",
   "execution_count": 127,
   "id": "99b5db61",
   "metadata": {},
   "outputs": [],
   "source": [
    "import os\n",
    "import time\n",
    "import geopandas as gpd\n",
    "import pandas as pd\n",
    "sys.path.insert(0, r'../../../quetzal') # Add path to quetzal\n",
    "from sklearn.neighbors import NearestNeighbors\n",
    "from numba import jit, njit\n",
    "import numba as nb\n",
    "from quetzal.model import stepmodel\n",
    "from shapely.geometry import LineString\n",
    "from quetzal.io.gtfs_reader.importer import get_epsg\n",
    "from quetzal.io import excel\n"
   ]
  },
  {
   "cell_type": "code",
   "execution_count": 129,
   "id": "505c32e1",
   "metadata": {},
   "outputs": [
    {
     "name": "stdout",
     "output_type": "stream",
     "text": [
      "On Lambda :  False\n",
      "input folder:  ../../inputs/\n",
      "output folder:  ../../scenarios/test/outputs/\n",
      "scen folder :  ../../scenarios/test/inputs/\n",
      "model folder :  ../../scenarios/test/model/\n"
     ]
    }
   ],
   "source": [
    "period = argv['params']['general']['period']\n",
    "on_lambda = bool(os.environ.get('AWS_EXECUTION_ENV'))\n",
    "print('On Lambda : ', on_lambda)\n",
    "training_folder = argv['training_folder']\n",
    "input_folder = training_folder +r'/inputs/'\n",
    "\n",
    "if on_lambda:\n",
    "    scenario_folder = training_folder +r'/inputs/'\n",
    "    output_folder = training_folder + '/outputs/'\n",
    "    model_folder = training_folder + '/model/'\n",
    "else:\n",
    "    scenario_folder = training_folder + '/scenarios/' + period + '/inputs/'\n",
    "    output_folder = training_folder + '/scenarios/' + period + '/outputs/'\n",
    "    model_folder = training_folder + '/scenarios/' + period + '/model/'\n",
    "print('input folder: ', input_folder)\n",
    "print('output folder: ', output_folder)\n",
    "print('scen folder : ', scenario_folder)\n",
    "print('model folder : ', model_folder)\n",
    "\n",
    "\n",
    "pt_folder = scenario_folder + 'pt/'\n",
    "road_folder = scenario_folder + 'road/'\n",
    "if not os.path.exists(output_folder):\n",
    "    os.makedirs(output_folder)"
   ]
  },
  {
   "cell_type": "code",
   "execution_count": 89,
   "id": "3dcb24f6",
   "metadata": {},
   "outputs": [],
   "source": [
    "var, ancestry = excel.read_var(file=input_folder+'/parameters.xlsx', scenario=period, return_ancestry=True)\n"
   ]
  },
  {
   "cell_type": "code",
   "execution_count": null,
   "id": "f1dd746b",
   "metadata": {},
   "outputs": [],
   "source": []
  },
  {
   "cell_type": "markdown",
   "id": "95a65cd0",
   "metadata": {},
   "source": [
    "# inputs"
   ]
  },
  {
   "cell_type": "code",
   "execution_count": 90,
   "id": "d25157cb",
   "metadata": {},
   "outputs": [
    {
     "name": "stderr",
     "output_type": "stream",
     "text": [
      "road_nodes: 100%|███████████████████████████████| 10/10 [00:00<00:00, 11.39it/s]\n"
     ]
    }
   ],
   "source": [
    "sm = stepmodel.read_zippedpickles(model_folder + 'network')"
   ]
  },
  {
   "cell_type": "code",
   "execution_count": 133,
   "id": "7668e272",
   "metadata": {},
   "outputs": [],
   "source": [
    "filepath = excel.get_filepath(input_folder + '{s}/volumes/volumes.csv', ancestry=ancestry, log=False)\n",
    "volumes = pd.read_csv(filepath)\n",
    "volumes = volumes.set_index('index')"
   ]
  },
  {
   "cell_type": "code",
   "execution_count": 136,
   "id": "4b83fa8e",
   "metadata": {},
   "outputs": [],
   "source": [
    "# restrict to mtl\n",
    "#sm.zones = sm.zones[sm.zones['SM']<200]\n",
    "#zones_list = sm.zones.index.values\n",
    "#volumes = volumes[(volumes['origin'].isin(zones_list)) & (volumes['destination'].isin(zones_list)) ]\n"
   ]
  },
  {
   "cell_type": "code",
   "execution_count": null,
   "id": "66cd225e",
   "metadata": {},
   "outputs": [],
   "source": []
  },
  {
   "cell_type": "code",
   "execution_count": null,
   "id": "ba5694c6",
   "metadata": {},
   "outputs": [],
   "source": []
  },
  {
   "cell_type": "markdown",
   "id": "913245a8",
   "metadata": {},
   "source": [
    "# pathfinder"
   ]
  },
  {
   "cell_type": "code",
   "execution_count": 137,
   "id": "f28e6600",
   "metadata": {},
   "outputs": [],
   "source": [
    "od_set = set(zip(volumes['origin'], volumes['destination']))\n"
   ]
  },
  {
   "cell_type": "code",
   "execution_count": 138,
   "id": "93121fe3",
   "metadata": {},
   "outputs": [
    {
     "name": "stdout",
     "output_type": "stream",
     "text": [
      "start publicpathfinder\n",
      "path_analysis\n"
     ]
    }
   ],
   "source": [
    "sm.step_pt_pathfinder(\n",
    "    broken_routes=False,\n",
    "    broken_modes=False,\n",
    "    keep_pathfinder=True,\n",
    "    mode_column='route_type',\n",
    "    route_column='route_id',\n",
    "    speedup=True,\n",
    "    walk_on_road=False,\n",
    "    path_analysis=False,\n",
    "    od_set=od_set,\n",
    "    engine='b', # b is faster\n",
    ")\n",
    "sm.pt_los['time'] = sm.pt_los['gtime']"
   ]
  },
  {
   "cell_type": "code",
   "execution_count": null,
   "id": "4eb199e1",
   "metadata": {},
   "outputs": [],
   "source": []
  },
  {
   "cell_type": "markdown",
   "id": "7e55e978",
   "metadata": {},
   "source": [
    "# car pathfinder"
   ]
  },
  {
   "cell_type": "code",
   "execution_count": 139,
   "id": "439d52a0",
   "metadata": {},
   "outputs": [],
   "source": [
    "car = sm.copy()\n",
    "car.road_links['dup'] = car.road_links['a'] + car.road_links['b']\n",
    "car.road_links = car.road_links.drop_duplicates('dup').drop(columns=['dup'])\n",
    "\n",
    "car.preparation_ntlegs(\n",
    "    short_leg_speed=15,\n",
    "    long_leg_speed=15,\n",
    "    threshold=5000,\n",
    "    zone_to_transit=False,\n",
    "    zone_to_road=True,\n",
    "    n_ntlegs=1,\n",
    ")\n",
    "car.step_road_pathfinder(method='aon', access_time='time')"
   ]
  },
  {
   "cell_type": "code",
   "execution_count": null,
   "id": "c65a8aea",
   "metadata": {},
   "outputs": [],
   "source": []
  },
  {
   "cell_type": "code",
   "execution_count": 140,
   "id": "88e04d66",
   "metadata": {},
   "outputs": [],
   "source": [
    "car.car_los[['origin','destination','time']].to_csv(scenario_folder +'car_skim.csv')\n",
    "sm.pt_los[['origin','destination','time']].to_csv(scenario_folder +'pt_skim.csv')"
   ]
  },
  {
   "cell_type": "code",
   "execution_count": 141,
   "id": "1166d6ec",
   "metadata": {},
   "outputs": [],
   "source": [
    "car.car_los[['origin','destination','time']].to_csv(output_folder +'car_skim.csv')\n",
    "sm.pt_los[['origin','destination','time']].to_csv(output_folder +'pt_skim.csv')"
   ]
  },
  {
   "cell_type": "code",
   "execution_count": 142,
   "id": "3b4cb522",
   "metadata": {},
   "outputs": [
    {
     "data": {
      "text/plain": [
       "'../../scenarios/test/outputs/'"
      ]
     },
     "execution_count": 142,
     "metadata": {},
     "output_type": "execute_result"
    }
   ],
   "source": [
    "output_folder"
   ]
  },
  {
   "cell_type": "code",
   "execution_count": 143,
   "id": "6885d85f",
   "metadata": {},
   "outputs": [
    {
     "data": {
      "text/html": [
       "<div>\n",
       "<style scoped>\n",
       "    .dataframe tbody tr th:only-of-type {\n",
       "        vertical-align: middle;\n",
       "    }\n",
       "\n",
       "    .dataframe tbody tr th {\n",
       "        vertical-align: top;\n",
       "    }\n",
       "\n",
       "    .dataframe thead th {\n",
       "        text-align: right;\n",
       "    }\n",
       "</style>\n",
       "<table border=\"1\" class=\"dataframe\">\n",
       "  <thead>\n",
       "    <tr style=\"text-align: right;\">\n",
       "      <th></th>\n",
       "      <th>origin</th>\n",
       "      <th>destination</th>\n",
       "      <th>time</th>\n",
       "    </tr>\n",
       "    <tr>\n",
       "      <th>index</th>\n",
       "      <th></th>\n",
       "      <th></th>\n",
       "      <th></th>\n",
       "    </tr>\n",
       "  </thead>\n",
       "  <tbody>\n",
       "    <tr>\n",
       "      <th>0</th>\n",
       "      <td>zone_1</td>\n",
       "      <td>zone_278</td>\n",
       "      <td>648.765203</td>\n",
       "    </tr>\n",
       "    <tr>\n",
       "      <th>1</th>\n",
       "      <td>zone_1</td>\n",
       "      <td>zone_298</td>\n",
       "      <td>1013.960854</td>\n",
       "    </tr>\n",
       "    <tr>\n",
       "      <th>2</th>\n",
       "      <td>zone_1</td>\n",
       "      <td>zone_352</td>\n",
       "      <td>1048.322510</td>\n",
       "    </tr>\n",
       "    <tr>\n",
       "      <th>3</th>\n",
       "      <td>zone_1</td>\n",
       "      <td>zone_513</td>\n",
       "      <td>1534.511044</td>\n",
       "    </tr>\n",
       "    <tr>\n",
       "      <th>4</th>\n",
       "      <td>zone_1</td>\n",
       "      <td>zone_565</td>\n",
       "      <td>1029.064867</td>\n",
       "    </tr>\n",
       "    <tr>\n",
       "      <th>...</th>\n",
       "      <td>...</td>\n",
       "      <td>...</td>\n",
       "      <td>...</td>\n",
       "    </tr>\n",
       "    <tr>\n",
       "      <th>44572</th>\n",
       "      <td>zone_98</td>\n",
       "      <td>zone_61</td>\n",
       "      <td>260.294903</td>\n",
       "    </tr>\n",
       "    <tr>\n",
       "      <th>44573</th>\n",
       "      <td>zone_98</td>\n",
       "      <td>zone_69</td>\n",
       "      <td>283.182814</td>\n",
       "    </tr>\n",
       "    <tr>\n",
       "      <th>44574</th>\n",
       "      <td>zone_98</td>\n",
       "      <td>zone_691</td>\n",
       "      <td>640.517417</td>\n",
       "    </tr>\n",
       "    <tr>\n",
       "      <th>44575</th>\n",
       "      <td>zone_98</td>\n",
       "      <td>zone_694</td>\n",
       "      <td>559.949351</td>\n",
       "    </tr>\n",
       "    <tr>\n",
       "      <th>44576</th>\n",
       "      <td>zone_98</td>\n",
       "      <td>zone_80</td>\n",
       "      <td>197.053263</td>\n",
       "    </tr>\n",
       "  </tbody>\n",
       "</table>\n",
       "<p>19890 rows × 3 columns</p>\n",
       "</div>"
      ],
      "text/plain": [
       "        origin destination         time\n",
       "index                                  \n",
       "0       zone_1    zone_278   648.765203\n",
       "1       zone_1    zone_298  1013.960854\n",
       "2       zone_1    zone_352  1048.322510\n",
       "3       zone_1    zone_513  1534.511044\n",
       "4       zone_1    zone_565  1029.064867\n",
       "...        ...         ...          ...\n",
       "44572  zone_98     zone_61   260.294903\n",
       "44573  zone_98     zone_69   283.182814\n",
       "44574  zone_98    zone_691   640.517417\n",
       "44575  zone_98    zone_694   559.949351\n",
       "44576  zone_98     zone_80   197.053263\n",
       "\n",
       "[19890 rows x 3 columns]"
      ]
     },
     "execution_count": 143,
     "metadata": {},
     "output_type": "execute_result"
    }
   ],
   "source": [
    "car.car_los[['origin','destination','time']]"
   ]
  },
  {
   "cell_type": "code",
   "execution_count": 144,
   "id": "716f6468",
   "metadata": {},
   "outputs": [
    {
     "data": {
      "text/html": [
       "<div>\n",
       "<style scoped>\n",
       "    .dataframe tbody tr th:only-of-type {\n",
       "        vertical-align: middle;\n",
       "    }\n",
       "\n",
       "    .dataframe tbody tr th {\n",
       "        vertical-align: top;\n",
       "    }\n",
       "\n",
       "    .dataframe thead th {\n",
       "        text-align: right;\n",
       "    }\n",
       "</style>\n",
       "<table border=\"1\" class=\"dataframe\">\n",
       "  <thead>\n",
       "    <tr style=\"text-align: right;\">\n",
       "      <th></th>\n",
       "      <th>origin</th>\n",
       "      <th>destination</th>\n",
       "      <th>time</th>\n",
       "    </tr>\n",
       "  </thead>\n",
       "  <tbody>\n",
       "    <tr>\n",
       "      <th>0</th>\n",
       "      <td>zone_1</td>\n",
       "      <td>zone_278</td>\n",
       "      <td>2184.221764</td>\n",
       "    </tr>\n",
       "    <tr>\n",
       "      <th>1</th>\n",
       "      <td>zone_1</td>\n",
       "      <td>zone_298</td>\n",
       "      <td>3816.574616</td>\n",
       "    </tr>\n",
       "    <tr>\n",
       "      <th>2</th>\n",
       "      <td>zone_1</td>\n",
       "      <td>zone_352</td>\n",
       "      <td>2989.997330</td>\n",
       "    </tr>\n",
       "    <tr>\n",
       "      <th>3</th>\n",
       "      <td>zone_1</td>\n",
       "      <td>zone_513</td>\n",
       "      <td>4287.612792</td>\n",
       "    </tr>\n",
       "    <tr>\n",
       "      <th>4</th>\n",
       "      <td>zone_1</td>\n",
       "      <td>zone_565</td>\n",
       "      <td>3678.755931</td>\n",
       "    </tr>\n",
       "    <tr>\n",
       "      <th>...</th>\n",
       "      <td>...</td>\n",
       "      <td>...</td>\n",
       "      <td>...</td>\n",
       "    </tr>\n",
       "    <tr>\n",
       "      <th>19885</th>\n",
       "      <td>zone_98</td>\n",
       "      <td>zone_61</td>\n",
       "      <td>2097.355637</td>\n",
       "    </tr>\n",
       "    <tr>\n",
       "      <th>19886</th>\n",
       "      <td>zone_98</td>\n",
       "      <td>zone_69</td>\n",
       "      <td>1769.735518</td>\n",
       "    </tr>\n",
       "    <tr>\n",
       "      <th>19887</th>\n",
       "      <td>zone_98</td>\n",
       "      <td>zone_691</td>\n",
       "      <td>1773.902373</td>\n",
       "    </tr>\n",
       "    <tr>\n",
       "      <th>19888</th>\n",
       "      <td>zone_98</td>\n",
       "      <td>zone_694</td>\n",
       "      <td>2195.467669</td>\n",
       "    </tr>\n",
       "    <tr>\n",
       "      <th>19889</th>\n",
       "      <td>zone_98</td>\n",
       "      <td>zone_80</td>\n",
       "      <td>1268.032724</td>\n",
       "    </tr>\n",
       "  </tbody>\n",
       "</table>\n",
       "<p>19890 rows × 3 columns</p>\n",
       "</div>"
      ],
      "text/plain": [
       "        origin destination         time\n",
       "0       zone_1    zone_278  2184.221764\n",
       "1       zone_1    zone_298  3816.574616\n",
       "2       zone_1    zone_352  2989.997330\n",
       "3       zone_1    zone_513  4287.612792\n",
       "4       zone_1    zone_565  3678.755931\n",
       "...        ...         ...          ...\n",
       "19885  zone_98     zone_61  2097.355637\n",
       "19886  zone_98     zone_69  1769.735518\n",
       "19887  zone_98    zone_691  1773.902373\n",
       "19888  zone_98    zone_694  2195.467669\n",
       "19889  zone_98     zone_80  1268.032724\n",
       "\n",
       "[19890 rows x 3 columns]"
      ]
     },
     "execution_count": 144,
     "metadata": {},
     "output_type": "execute_result"
    }
   ],
   "source": [
    "sm.pt_los[['origin','destination','time']]"
   ]
  },
  {
   "cell_type": "code",
   "execution_count": 145,
   "id": "705c4f9e",
   "metadata": {},
   "outputs": [],
   "source": [
    "sm.car_los = car.car_los"
   ]
  },
  {
   "cell_type": "code",
   "execution_count": 146,
   "id": "4f932f73",
   "metadata": {},
   "outputs": [
    {
     "name": "stderr",
     "output_type": "stream",
     "text": [
      "car_los: 100%|██████████████████████████████████| 18/18 [00:03<00:00,  5.62it/s]\n"
     ]
    }
   ],
   "source": [
    "sm.to_zippedpickles(model_folder +'los', omitted_attributes=['publicpathfinder'])"
   ]
  },
  {
   "cell_type": "code",
   "execution_count": null,
   "id": "df898654",
   "metadata": {},
   "outputs": [],
   "source": []
  },
  {
   "cell_type": "code",
   "execution_count": null,
   "id": "3b8271aa",
   "metadata": {},
   "outputs": [],
   "source": []
  }
 ],
 "metadata": {
  "kernelspec": {
   "display_name": "quetzal_env",
   "language": "python",
   "name": "quetzal_env"
  },
  "language_info": {
   "codemirror_mode": {
    "name": "ipython",
    "version": 3
   },
   "file_extension": ".py",
   "mimetype": "text/x-python",
   "name": "python",
   "nbconvert_exporter": "python",
   "pygments_lexer": "ipython3",
   "version": "3.8.6"
  }
 },
 "nbformat": 4,
 "nbformat_minor": 5
}
