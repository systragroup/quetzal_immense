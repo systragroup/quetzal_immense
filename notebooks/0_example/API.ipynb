{
 "cells": [
  {
   "cell_type": "code",
   "execution_count": 56,
   "id": "9809d9f8",
   "metadata": {},
   "outputs": [],
   "source": [
    "import requests\n",
    "import json\n",
    "import boto3\n",
    "import pandas as pd\n",
    "import time\n",
    "import os"
   ]
  },
  {
   "cell_type": "code",
   "execution_count": 2,
   "id": "acf0a66e",
   "metadata": {},
   "outputs": [],
   "source": [
    "\n",
    "ACCESS_KEY = ''\n",
    "SECRET_KEY = ''\n",
    "API_KEY = ''"
   ]
  },
  {
   "cell_type": "code",
   "execution_count": 3,
   "id": "e2063800",
   "metadata": {},
   "outputs": [],
   "source": [
    "# S3\n",
    "REGION = 'ca-central-1'\n",
    "BUCKET = 'quetzal-immense'\n",
    "\n",
    "# api gateway\n",
    "url = 'https://lud5uqi5j5.execute-api.ca-central-1.amazonaws.com/dev'\n",
    "stateMachineArn = 'arn:aws:states:ca-central-1:142023388927:stateMachine:quetzal-immense'"
   ]
  },
  {
   "cell_type": "code",
   "execution_count": 4,
   "id": "ed92e93a",
   "metadata": {},
   "outputs": [],
   "source": [
    "headers = {\n",
    "        'Accept': '*/*',\n",
    "        'Content-Type':'application/json',\n",
    "        'x-api-key' : API_KEY,\n",
    "}"
   ]
  },
  {
   "cell_type": "code",
   "execution_count": null,
   "id": "563d0618",
   "metadata": {},
   "outputs": [],
   "source": []
  },
  {
   "cell_type": "markdown",
   "id": "0d411d9a",
   "metadata": {},
   "source": [
    "# Inputs (S3 structure)"
   ]
  },
  {
   "cell_type": "markdown",
   "id": "fd7caf51",
   "metadata": {},
   "source": [
    "am/inputs/road/road_times.csv <br>\n",
    "pm/inputs/road/road_times.csv <br>\n",
    "ip/inputs/road/road_times.csv <br>\n",
    "op/inputs/road/road_times.csv <br>\n",
    "\n",
    "scenario/inputs/road_skims.csv<br>\n",
    "scenario/outputs/volumes.csv<br>\n",
    "<br>\n",
    "here scenario is up to you but should be provided in the api call\n",
    "<br>\n",
    "you may see other files (such as params.json) those are either used in the web interface are create by the model."
   ]
  },
  {
   "cell_type": "code",
   "execution_count": 6,
   "id": "d3cecf2f",
   "metadata": {},
   "outputs": [],
   "source": [
    "periods = ['am', 'pm', 'ip', 'op']"
   ]
  },
  {
   "cell_type": "code",
   "execution_count": 7,
   "id": "39e6f634",
   "metadata": {},
   "outputs": [],
   "source": [
    "session = boto3.Session(\n",
    "    region_name=REGION,\n",
    "    aws_access_key_id=ACCESS_KEY,\n",
    "    aws_secret_access_key=SECRET_KEY)\n",
    "\n",
    "s3 = session.client('s3')"
   ]
  },
  {
   "cell_type": "code",
   "execution_count": 8,
   "id": "3fcfc93d",
   "metadata": {},
   "outputs": [],
   "source": [
    "inputs_list=[]\n",
    "for period in periods:\n",
    "    prefix = period + '/inputs/'\n",
    "    response = s3.list_objects_v2(Bucket=BUCKET, Prefix=prefix)\n",
    "    for obj in response['Contents']:\n",
    "        inputs_list.append(obj[\"Key\"])"
   ]
  },
  {
   "cell_type": "code",
   "execution_count": 11,
   "id": "c36be282",
   "metadata": {
    "scrolled": false
   },
   "outputs": [],
   "source": [
    "#inputs_list"
   ]
  },
  {
   "cell_type": "markdown",
   "id": "0f3d55e6",
   "metadata": {},
   "source": [
    "<b>NOTE:</b> Constant inputs maybe stored into the model docker directly.<br>\n",
    "zones, reference volume and reference skims are store into the docker and not on S3 here"
   ]
  },
  {
   "cell_type": "markdown",
   "id": "2d11c0a0",
   "metadata": {},
   "source": [
    "At this moment, Only one period can be run per scenario. <br>\n",
    "the solution is to run a scenario per period and have another scenario (running the demand model) that will used data from those period and return the outputs <br>\n",
    "<br>\n",
    "In this example, this mean that we need to add our inputs under am/ and pm/ and run a third model (named example here). This model will run both am and pm in parallel and run the demand model. the results will be under example/outputs/\n",
    "<br>\n",
    "<br>\n",
    "The last scenario (example) can have any name, the period one cannot at this moment. this mean that you can only run one simulation at the time as they all use the same s3 folder."
   ]
  },
  {
   "cell_type": "markdown",
   "id": "67f981d2",
   "metadata": {},
   "source": [
    "# Run"
   ]
  },
  {
   "cell_type": "code",
   "execution_count": 37,
   "id": "a7773988",
   "metadata": {},
   "outputs": [],
   "source": [
    "# important\n",
    "# this is where the road_skims.csv are: (example/inputs/road_skims.csv)\n",
    "# this will be the outputs s3 path (example/outputs/volumes.csv)\n",
    "# can be any name (except am, pm, op or ip)\n",
    "scenario = 'example'"
   ]
  },
  {
   "cell_type": "code",
   "execution_count": 38,
   "id": "e203e146",
   "metadata": {},
   "outputs": [
    {
     "name": "stdout",
     "output_type": "stream",
     "text": [
      "example/inputs/params.json\n",
      "example/inputs/road_skims.csv\n",
      "example/outputs/volumes.csv\n"
     ]
    }
   ],
   "source": [
    "response = s3.list_objects_v2(Bucket=BUCKET, Prefix=scenario)\n",
    "for obj in response['Contents']:\n",
    "    print(obj[\"Key\"])"
   ]
  },
  {
   "cell_type": "code",
   "execution_count": 44,
   "id": "13e533de",
   "metadata": {},
   "outputs": [],
   "source": [
    "inputs = { \n",
    "        'scenario_path_S3': scenario, # necessary\n",
    "        'choice': 'orchestrator', # necessary: orchestrator | test\n",
    "        'metadata' : {\"user_email\": \"test@test.com\"}, # necessary. it is used in the WebApp to show last modified\n",
    "        'params':{'general': {'scenario_path_S3': scenario}} # used to save outputs on immense bucket.\n",
    "}\n",
    "inputs = json.dumps(inputs)\n"
   ]
  },
  {
   "cell_type": "code",
   "execution_count": 45,
   "id": "82c560d3",
   "metadata": {},
   "outputs": [
    {
     "data": {
      "text/plain": [
       "'{\"stateMachineArn\": \"arn:aws:states:ca-central-1:142023388927:stateMachine:quetzal-immense\", \"input\": \"{\\\\\"scenario_path_S3\\\\\": \\\\\"example\\\\\", \\\\\"choice\\\\\": \\\\\"orchestrator\\\\\", \\\\\"metadata\\\\\": {\\\\\"user_email\\\\\": \\\\\"test@test.com\\\\\"}}\"}'"
      ]
     },
     "execution_count": 45,
     "metadata": {},
     "output_type": "execute_result"
    }
   ],
   "source": [
    "data = { \"stateMachineArn\": stateMachineArn, 'input':inputs }\n",
    "data = json.dumps(data)\n",
    "data"
   ]
  },
  {
   "cell_type": "markdown",
   "id": "365dd111",
   "metadata": {},
   "source": [
    "POST start quetzal model execution"
   ]
  },
  {
   "cell_type": "code",
   "execution_count": 46,
   "id": "54ba3d58",
   "metadata": {},
   "outputs": [
    {
     "data": {
      "text/plain": [
       "True"
      ]
     },
     "execution_count": 46,
     "metadata": {},
     "output_type": "execute_result"
    }
   ],
   "source": [
    "resp =  requests.post(url,data=data,headers=headers)\n",
    "resp.ok"
   ]
  },
  {
   "cell_type": "markdown",
   "id": "3b297e0b",
   "metadata": {},
   "source": [
    "execution arn is returned in the post response and used to get status or end the simulation"
   ]
  },
  {
   "cell_type": "code",
   "execution_count": 47,
   "id": "a8cda419",
   "metadata": {},
   "outputs": [
    {
     "data": {
      "text/plain": [
       "'arn:aws:states:ca-central-1:142023388927:execution:quetzal-immense:1665da23-0be9-41da-8ce2-0f47e18b9de8'"
      ]
     },
     "execution_count": 47,
     "metadata": {},
     "output_type": "execute_result"
    }
   ],
   "source": [
    "executionArn = resp.json()['executionArn']\n",
    "executionArn"
   ]
  },
  {
   "cell_type": "markdown",
   "id": "8b64b897",
   "metadata": {},
   "source": [
    "# Polling Simulation Status"
   ]
  },
  {
   "cell_type": "markdown",
   "id": "78877fff",
   "metadata": {},
   "source": [
    "RUNNING | SUCCEEDED | FAILED | TIMED_OUT | ABORTED "
   ]
  },
  {
   "cell_type": "code",
   "execution_count": 48,
   "id": "3290a678",
   "metadata": {},
   "outputs": [
    {
     "name": "stdout",
     "output_type": "stream",
     "text": [
      "RUNNING\n",
      "RUNNING\n",
      "RUNNING\n",
      "RUNNING\n",
      "RUNNING\n",
      "RUNNING\n",
      "RUNNING\n",
      "RUNNING\n",
      "RUNNING\n",
      "RUNNING\n",
      "RUNNING\n",
      "RUNNING\n",
      "RUNNING\n",
      "RUNNING\n",
      "RUNNING\n",
      "RUNNING\n",
      "RUNNING\n",
      "RUNNING\n",
      "RUNNING\n",
      "RUNNING\n",
      "RUNNING\n",
      "RUNNING\n",
      "RUNNING\n",
      "RUNNING\n",
      "SUCCEEDED\n"
     ]
    }
   ],
   "source": [
    "def polling(executionArn):\n",
    "    data = { \"executionArn\": executionArn }\n",
    "    data=json.dumps(data, ensure_ascii=False).encode('utf-8')\n",
    "    resp =  requests.post(url+'/describe',data=data,headers=headers)\n",
    "    resp.ok\n",
    "\n",
    "    status =  'RUNNING'\n",
    "    while True:\n",
    "        resp =  requests.post(url+'/describe',data=data,headers=headers)\n",
    "        status = resp.json()['status']\n",
    "        print(status)\n",
    "        if status != 'RUNNING':\n",
    "            break\n",
    "        time.sleep(10)\n",
    "polling(executionArn)"
   ]
  },
  {
   "cell_type": "markdown",
   "id": "bfd11e47",
   "metadata": {},
   "source": [
    "You could get the step function definition and poll its current Step if needed. <br>\n",
    "However, it is a bit difficult to decrypt and not really relevent for this project in my opinion\n"
   ]
  },
  {
   "cell_type": "markdown",
   "id": "d3240b8b",
   "metadata": {},
   "source": [
    "# Outputs"
   ]
  },
  {
   "cell_type": "code",
   "execution_count": 58,
   "id": "9ff1f02b",
   "metadata": {},
   "outputs": [
    {
     "name": "stdout",
     "output_type": "stream",
     "text": [
      "example/outputs/volumes.csv\n"
     ]
    }
   ],
   "source": [
    "prefix = os.path.join(scenario,'outputs')\n",
    "ls = []\n",
    "response = s3.list_objects_v2(Bucket=BUCKET, Prefix=prefix)\n",
    "for obj in response['Contents']:\n",
    "    file = obj[\"Key\"]\n",
    "    ls.append(file)\n",
    "    print(file)"
   ]
  },
  {
   "cell_type": "code",
   "execution_count": null,
   "id": "f8c658f3",
   "metadata": {},
   "outputs": [],
   "source": []
  },
  {
   "cell_type": "code",
   "execution_count": 59,
   "id": "f728456a",
   "metadata": {},
   "outputs": [],
   "source": [
    "from io import BytesIO\n",
    "data = s3.get_object(Bucket=BUCKET, Key=ls[0])\n",
    "contents = data['Body'].read()\n",
    "with BytesIO(contents) as bio:\n",
    "    df = pd.read_csv(bio)"
   ]
  },
  {
   "cell_type": "code",
   "execution_count": 60,
   "id": "da15d6ae",
   "metadata": {},
   "outputs": [
    {
     "data": {
      "text/html": [
       "<div>\n",
       "<style scoped>\n",
       "    .dataframe tbody tr th:only-of-type {\n",
       "        vertical-align: middle;\n",
       "    }\n",
       "\n",
       "    .dataframe tbody tr th {\n",
       "        vertical-align: top;\n",
       "    }\n",
       "\n",
       "    .dataframe thead th {\n",
       "        text-align: right;\n",
       "    }\n",
       "</style>\n",
       "<table border=\"1\" class=\"dataframe\">\n",
       "  <thead>\n",
       "    <tr style=\"text-align: right;\">\n",
       "      <th></th>\n",
       "      <th>index</th>\n",
       "      <th>origin</th>\n",
       "      <th>destination</th>\n",
       "      <th>time_period</th>\n",
       "      <th>vehicle_class</th>\n",
       "      <th>purpose</th>\n",
       "      <th>volume</th>\n",
       "    </tr>\n",
       "  </thead>\n",
       "  <tbody>\n",
       "    <tr>\n",
       "      <th>0</th>\n",
       "      <td>0</td>\n",
       "      <td>1</td>\n",
       "      <td>80</td>\n",
       "      <td>AM</td>\n",
       "      <td>C_other</td>\n",
       "      <td>HBW</td>\n",
       "      <td>1.120000</td>\n",
       "    </tr>\n",
       "    <tr>\n",
       "      <th>1</th>\n",
       "      <td>1</td>\n",
       "      <td>1</td>\n",
       "      <td>91</td>\n",
       "      <td>AM</td>\n",
       "      <td>C_other</td>\n",
       "      <td>HBW</td>\n",
       "      <td>1.120000</td>\n",
       "    </tr>\n",
       "    <tr>\n",
       "      <th>2</th>\n",
       "      <td>2</td>\n",
       "      <td>1</td>\n",
       "      <td>101</td>\n",
       "      <td>AM</td>\n",
       "      <td>C_other</td>\n",
       "      <td>HBW</td>\n",
       "      <td>1.120000</td>\n",
       "    </tr>\n",
       "    <tr>\n",
       "      <th>3</th>\n",
       "      <td>3</td>\n",
       "      <td>1</td>\n",
       "      <td>103</td>\n",
       "      <td>AM</td>\n",
       "      <td>C_other</td>\n",
       "      <td>HBW</td>\n",
       "      <td>14.560000</td>\n",
       "    </tr>\n",
       "    <tr>\n",
       "      <th>4</th>\n",
       "      <td>4</td>\n",
       "      <td>1</td>\n",
       "      <td>172</td>\n",
       "      <td>AM</td>\n",
       "      <td>C_other</td>\n",
       "      <td>HBW</td>\n",
       "      <td>2.239992</td>\n",
       "    </tr>\n",
       "    <tr>\n",
       "      <th>...</th>\n",
       "      <td>...</td>\n",
       "      <td>...</td>\n",
       "      <td>...</td>\n",
       "      <td>...</td>\n",
       "      <td>...</td>\n",
       "      <td>...</td>\n",
       "      <td>...</td>\n",
       "    </tr>\n",
       "    <tr>\n",
       "      <th>726482</th>\n",
       "      <td>726482</td>\n",
       "      <td>701</td>\n",
       "      <td>694</td>\n",
       "      <td>OP</td>\n",
       "      <td>RPAX</td>\n",
       "      <td>ALL</td>\n",
       "      <td>0.162973</td>\n",
       "    </tr>\n",
       "    <tr>\n",
       "      <th>726483</th>\n",
       "      <td>726483</td>\n",
       "      <td>701</td>\n",
       "      <td>696</td>\n",
       "      <td>OP</td>\n",
       "      <td>RPAX</td>\n",
       "      <td>ALL</td>\n",
       "      <td>0.166852</td>\n",
       "    </tr>\n",
       "    <tr>\n",
       "      <th>726484</th>\n",
       "      <td>726484</td>\n",
       "      <td>701</td>\n",
       "      <td>697</td>\n",
       "      <td>OP</td>\n",
       "      <td>RPAX</td>\n",
       "      <td>ALL</td>\n",
       "      <td>0.164810</td>\n",
       "    </tr>\n",
       "    <tr>\n",
       "      <th>726485</th>\n",
       "      <td>726485</td>\n",
       "      <td>701</td>\n",
       "      <td>698</td>\n",
       "      <td>OP</td>\n",
       "      <td>RPAX</td>\n",
       "      <td>ALL</td>\n",
       "      <td>0.916444</td>\n",
       "    </tr>\n",
       "    <tr>\n",
       "      <th>726486</th>\n",
       "      <td>726486</td>\n",
       "      <td>701</td>\n",
       "      <td>699</td>\n",
       "      <td>OP</td>\n",
       "      <td>RPAX</td>\n",
       "      <td>ALL</td>\n",
       "      <td>0.356273</td>\n",
       "    </tr>\n",
       "  </tbody>\n",
       "</table>\n",
       "<p>726487 rows × 7 columns</p>\n",
       "</div>"
      ],
      "text/plain": [
       "         index  origin  destination time_period vehicle_class purpose  \\\n",
       "0            0       1           80          AM       C_other     HBW   \n",
       "1            1       1           91          AM       C_other     HBW   \n",
       "2            2       1          101          AM       C_other     HBW   \n",
       "3            3       1          103          AM       C_other     HBW   \n",
       "4            4       1          172          AM       C_other     HBW   \n",
       "...        ...     ...          ...         ...           ...     ...   \n",
       "726482  726482     701          694          OP          RPAX     ALL   \n",
       "726483  726483     701          696          OP          RPAX     ALL   \n",
       "726484  726484     701          697          OP          RPAX     ALL   \n",
       "726485  726485     701          698          OP          RPAX     ALL   \n",
       "726486  726486     701          699          OP          RPAX     ALL   \n",
       "\n",
       "           volume  \n",
       "0        1.120000  \n",
       "1        1.120000  \n",
       "2        1.120000  \n",
       "3       14.560000  \n",
       "4        2.239992  \n",
       "...           ...  \n",
       "726482   0.162973  \n",
       "726483   0.166852  \n",
       "726484   0.164810  \n",
       "726485   0.916444  \n",
       "726486   0.356273  \n",
       "\n",
       "[726487 rows x 7 columns]"
      ]
     },
     "execution_count": 60,
     "metadata": {},
     "output_type": "execute_result"
    }
   ],
   "source": [
    "df"
   ]
  },
  {
   "cell_type": "markdown",
   "id": "1dde11a3",
   "metadata": {},
   "source": [
    "# Stop simulation"
   ]
  },
  {
   "cell_type": "code",
   "execution_count": 297,
   "id": "93970494",
   "metadata": {},
   "outputs": [
    {
     "data": {
      "text/plain": [
       "True"
      ]
     },
     "execution_count": 297,
     "metadata": {},
     "output_type": "execute_result"
    }
   ],
   "source": [
    "data = { \"executionArn\": executionArn }\n",
    "data = json.dumps(data)\n",
    "resp =  requests.post(url+'/abort',data=data,headers=headers)\n",
    "resp.ok\n"
   ]
  },
  {
   "cell_type": "code",
   "execution_count": 298,
   "id": "ef51d4fd",
   "metadata": {},
   "outputs": [
    {
     "data": {
      "text/plain": [
       "{'stopDate': 1707756039.138}"
      ]
     },
     "execution_count": 298,
     "metadata": {},
     "output_type": "execute_result"
    }
   ],
   "source": [
    "resp.json()"
   ]
  },
  {
   "cell_type": "code",
   "execution_count": 299,
   "id": "7d9319c0",
   "metadata": {},
   "outputs": [
    {
     "data": {
      "text/plain": [
       "True"
      ]
     },
     "execution_count": 299,
     "metadata": {},
     "output_type": "execute_result"
    }
   ],
   "source": [
    "resp =  requests.post(url+'/describe',data=data,headers=headers)\n",
    "resp.ok"
   ]
  },
  {
   "cell_type": "code",
   "execution_count": 300,
   "id": "f1febf25",
   "metadata": {},
   "outputs": [
    {
     "data": {
      "text/plain": [
       "'ABORTED'"
      ]
     },
     "execution_count": 300,
     "metadata": {},
     "output_type": "execute_result"
    }
   ],
   "source": [
    "resp.json()['status'] # will return ABORTED. if not. the simulation was done are had an error."
   ]
  },
  {
   "cell_type": "code",
   "execution_count": null,
   "id": "d39ee14a",
   "metadata": {},
   "outputs": [],
   "source": []
  },
  {
   "cell_type": "code",
   "execution_count": null,
   "id": "ebb3d1ab",
   "metadata": {},
   "outputs": [],
   "source": []
  },
  {
   "cell_type": "markdown",
   "id": "d4cdf717",
   "metadata": {},
   "source": [
    "# test (faster)"
   ]
  },
  {
   "cell_type": "markdown",
   "id": "13bdfd07",
   "metadata": {},
   "source": [
    "<b>choice = test</b> is a simple endpoint to test. it run in ~5secs and will create a  file outputs/test.txt with it's current time (timestamp in seconds)"
   ]
  },
  {
   "cell_type": "code",
   "execution_count": 33,
   "id": "542261fe",
   "metadata": {},
   "outputs": [],
   "source": [
    "scenario = 'test/'\n",
    "inputs = { \n",
    "        'scenario_path_S3': scenario, # necessary anything\n",
    "        'choice': 'test', # necessary: orchestrator | test\n",
    "        'metadata' : {\"user_email\": \"test@test.com\"} # necessary. it is used in the WebApp to show last modified\n",
    "}\n",
    "inputs = json.dumps(inputs)"
   ]
  },
  {
   "cell_type": "code",
   "execution_count": 34,
   "id": "e09829b0",
   "metadata": {},
   "outputs": [
    {
     "data": {
      "text/plain": [
       "True"
      ]
     },
     "execution_count": 34,
     "metadata": {},
     "output_type": "execute_result"
    }
   ],
   "source": [
    "data = { \"stateMachineArn\": stateMachineArn, 'input':inputs }\n",
    "data = json.dumps(data)\n",
    "resp =  requests.post(url,data=data,headers=headers)\n",
    "resp.ok"
   ]
  },
  {
   "cell_type": "code",
   "execution_count": 35,
   "id": "8043534c",
   "metadata": {},
   "outputs": [
    {
     "name": "stdout",
     "output_type": "stream",
     "text": [
      "RUNNING\n",
      "SUCCEEDED\n"
     ]
    }
   ],
   "source": [
    "executionArn = resp.json()['executionArn']\n",
    "polling(executionArn)"
   ]
  },
  {
   "cell_type": "code",
   "execution_count": 36,
   "id": "2e432e85",
   "metadata": {},
   "outputs": [
    {
     "data": {
      "text/plain": [
       "b'test passed! \\ntime: 1709846103'"
      ]
     },
     "execution_count": 36,
     "metadata": {},
     "output_type": "execute_result"
    }
   ],
   "source": [
    "data = s3.get_object(Bucket=BUCKET, Key=scenario + 'outputs/test.txt')\n",
    "contents = data['Body'].read()\n",
    "contents"
   ]
  },
  {
   "cell_type": "code",
   "execution_count": null,
   "id": "16bed35b",
   "metadata": {},
   "outputs": [],
   "source": []
  },
  {
   "cell_type": "code",
   "execution_count": null,
   "id": "a5b36986",
   "metadata": {},
   "outputs": [],
   "source": []
  }
 ],
 "metadata": {
  "kernelspec": {
   "display_name": "quetzal_env",
   "language": "python",
   "name": "quetzal_env"
  },
  "language_info": {
   "codemirror_mode": {
    "name": "ipython",
    "version": 3
   },
   "file_extension": ".py",
   "mimetype": "text/x-python",
   "name": "python",
   "nbconvert_exporter": "python",
   "pygments_lexer": "ipython3",
   "version": "3.8.6"
  }
 },
 "nbformat": 4,
 "nbformat_minor": 5
}
