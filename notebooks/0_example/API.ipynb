{
 "cells": [
  {
   "cell_type": "code",
   "execution_count": 1,
   "id": "9809d9f8",
   "metadata": {},
   "outputs": [],
   "source": [
    "import requests\n",
    "import json\n",
    "import boto3\n",
    "import pandas as pd\n",
    "import time"
   ]
  },
  {
   "cell_type": "code",
   "execution_count": 2,
   "id": "acf0a66e",
   "metadata": {},
   "outputs": [],
   "source": [
    "\n",
    "ACCESS_KEY = ''\n",
    "SECRET_KEY = ''\n",
    "API_KEY = ''"
   ]
  },
  {
   "cell_type": "code",
   "execution_count": 3,
   "id": "e2063800",
   "metadata": {},
   "outputs": [],
   "source": [
    "# S3\n",
    "REGION = 'ca-central-1'\n",
    "BUCKET = 'quetzal-immense'\n",
    "\n",
    "# api gateway\n",
    "url = 'https://lud5uqi5j5.execute-api.ca-central-1.amazonaws.com/dev'\n",
    "stateMachineArn = 'arn:aws:states:ca-central-1:142023388927:stateMachine:quetzal-immense'"
   ]
  },
  {
   "cell_type": "code",
   "execution_count": 4,
   "id": "ed92e93a",
   "metadata": {},
   "outputs": [],
   "source": [
    "headers = {\n",
    "        'Accept': '*/*',\n",
    "        'Content-Type':'application/json',\n",
    "        'x-api-key' : API_KEY,\n",
    "}"
   ]
  },
  {
   "cell_type": "code",
   "execution_count": null,
   "id": "563d0618",
   "metadata": {},
   "outputs": [],
   "source": []
  },
  {
   "cell_type": "markdown",
   "id": "0d411d9a",
   "metadata": {},
   "source": [
    "# Inputs (S3 structure)"
   ]
  },
  {
   "cell_type": "markdown",
   "id": "fd7caf51",
   "metadata": {},
   "source": [
    "am/inputs/road/road_times.csv <br>\n",
    "pm/inputs/road/road_times.csv <br>\n",
    "ip/inputs/road/road_times.csv <br>\n",
    "op/inputs/road/road_times.csv <br>\n",
    "\n",
    "scenario/inputs/road_skims.csv<br>\n",
    "scenario/outputs/volumes.csv<br>\n",
    "<br>\n",
    "here scenario is up to you but should be provided in the api call\n",
    "<br>\n",
    "you may see other files (such as params.json) those are either used in the web interface are create by the model."
   ]
  },
  {
   "cell_type": "code",
   "execution_count": 6,
   "id": "d3cecf2f",
   "metadata": {},
   "outputs": [],
   "source": [
    "periods = ['am', 'pm', 'ip', 'op']"
   ]
  },
  {
   "cell_type": "code",
   "execution_count": 7,
   "id": "39e6f634",
   "metadata": {},
   "outputs": [],
   "source": [
    "session = boto3.Session(\n",
    "    region_name=REGION,\n",
    "    aws_access_key_id=ACCESS_KEY,\n",
    "    aws_secret_access_key=SECRET_KEY)\n",
    "\n",
    "s3 = session.client('s3')"
   ]
  },
  {
   "cell_type": "code",
   "execution_count": 8,
   "id": "3fcfc93d",
   "metadata": {},
   "outputs": [],
   "source": [
    "inputs_list=[]\n",
    "for period in periods:\n",
    "    prefix = period + '/inputs/'\n",
    "    response = s3.list_objects_v2(Bucket=BUCKET, Prefix=prefix)\n",
    "    for obj in response['Contents']:\n",
    "        inputs_list.append(obj[\"Key\"])"
   ]
  },
  {
   "cell_type": "code",
   "execution_count": 11,
   "id": "c36be282",
   "metadata": {
    "scrolled": false
   },
   "outputs": [],
   "source": [
    "#inputs_list"
   ]
  },
  {
   "cell_type": "markdown",
   "id": "0f3d55e6",
   "metadata": {},
   "source": [
    "<b>NOTE:</b> Constant inputs maybe stored into the model docker directly.<br>\n",
    "zones, reference volume and reference skims are store into the docker and not on S3 here"
   ]
  },
  {
   "cell_type": "markdown",
   "id": "2d11c0a0",
   "metadata": {},
   "source": [
    "At this moment, Only one period can be run per scenario. <br>\n",
    "the solution is to run a scenario per period and have another scenario (running the demand model) that will used data from those period and return the outputs <br>\n",
    "<br>\n",
    "In this example, this mean that we need to add our inputs under am/ and pm/ and run a third model (named example here). This model will run both am and pm in parallel and run the demand model. the results will be under example/outputs/\n",
    "<br>\n",
    "<br>\n",
    "The last scenario (example) can have any name, the period one cannot at this moment. this mean that you can only run one simulation at the time as they all use the same s3 folder."
   ]
  },
  {
   "cell_type": "markdown",
   "id": "67f981d2",
   "metadata": {},
   "source": [
    "# Run"
   ]
  },
  {
   "cell_type": "code",
   "execution_count": 31,
   "id": "a7773988",
   "metadata": {},
   "outputs": [],
   "source": [
    "# important\n",
    "# this is where the road_skims.csv are: (example/inputs/road_skims.csv)\n",
    "# this will be the outputs s3 path (example/outputs/volumes.csv)\n",
    "# can be any name (except am,pm,op,ip) and must finish with \"/\"\n",
    "scenario = 'example/'"
   ]
  },
  {
   "cell_type": "code",
   "execution_count": 32,
   "id": "885b8d83",
   "metadata": {},
   "outputs": [
    {
     "name": "stdout",
     "output_type": "stream",
     "text": [
      "example/inputs/params.json\n",
      "example/inputs/road_skims.csv\n",
      "example/outputs/volumes.csv\n"
     ]
    }
   ],
   "source": [
    "response = s3.list_objects_v2(Bucket=BUCKET, Prefix=scenario)\n",
    "for obj in response['Contents']:\n",
    "    print(obj[\"Key\"])"
   ]
  },
  {
   "cell_type": "code",
   "execution_count": 19,
   "id": "13e533de",
   "metadata": {},
   "outputs": [],
   "source": [
    "inputs = { \n",
    "        'scenario_path_S3': scenario, # necessary\n",
    "        'choice': 'orchestrator', # necessary: orchestrator | test\n",
    "        'metadata' : {\"user_email\": \"test@test.com\"}, # necessary. it is used in the WebApp to show last modified\n",
    "        'params':{'general': {'scenario_path_S3': scenario}} # used to save outputs on immense bucket.\n",
    "}\n",
    "inputs = json.dumps(inputs)\n"
   ]
  },
  {
   "cell_type": "code",
   "execution_count": 20,
   "id": "82c560d3",
   "metadata": {},
   "outputs": [
    {
     "data": {
      "text/plain": [
       "'{\"stateMachineArn\": \"arn:aws:states:ca-central-1:142023388927:stateMachine:quetzal-immense\", \"input\": \"{\\\\\"scenario_path_S3\\\\\": \\\\\"orchestrator/\\\\\", \\\\\"choice\\\\\": \\\\\"orchestrator\\\\\", \\\\\"metadata\\\\\": {\\\\\"user_email\\\\\": \\\\\"test@test.com\\\\\"}, \\\\\"params\\\\\": {\\\\\"general\\\\\": {\\\\\"scenario_path_S3\\\\\": \\\\\"orchestrator/\\\\\"}}}\"}'"
      ]
     },
     "execution_count": 20,
     "metadata": {},
     "output_type": "execute_result"
    }
   ],
   "source": [
    "data = { \"stateMachineArn\": stateMachineArn, 'input':inputs }\n",
    "data = json.dumps(data)\n",
    "data"
   ]
  },
  {
   "cell_type": "markdown",
   "id": "365dd111",
   "metadata": {},
   "source": [
    "POST start quetzal model execution"
   ]
  },
  {
   "cell_type": "code",
   "execution_count": 21,
   "id": "54ba3d58",
   "metadata": {},
   "outputs": [
    {
     "data": {
      "text/plain": [
       "True"
      ]
     },
     "execution_count": 21,
     "metadata": {},
     "output_type": "execute_result"
    }
   ],
   "source": [
    "resp =  requests.post(url,data=data,headers=headers)\n",
    "resp.ok"
   ]
  },
  {
   "cell_type": "markdown",
   "id": "3b297e0b",
   "metadata": {},
   "source": [
    "execution arn is returned in the post response and used to get status or end the simulation"
   ]
  },
  {
   "cell_type": "code",
   "execution_count": 22,
   "id": "a8cda419",
   "metadata": {},
   "outputs": [
    {
     "data": {
      "text/plain": [
       "'arn:aws:states:ca-central-1:142023388927:execution:quetzal-immense:20d6aca9-071b-4a8b-9ab1-3c9d2aa164e4'"
      ]
     },
     "execution_count": 22,
     "metadata": {},
     "output_type": "execute_result"
    }
   ],
   "source": [
    "executionArn = resp.json()['executionArn']\n",
    "executionArn"
   ]
  },
  {
   "cell_type": "markdown",
   "id": "8b64b897",
   "metadata": {},
   "source": [
    "# Polling Simulation Status"
   ]
  },
  {
   "cell_type": "markdown",
   "id": "78877fff",
   "metadata": {},
   "source": [
    "RUNNING | SUCCEEDED | FAILED | TIMED_OUT | ABORTED "
   ]
  },
  {
   "cell_type": "code",
   "execution_count": 23,
   "id": "3290a678",
   "metadata": {},
   "outputs": [
    {
     "name": "stdout",
     "output_type": "stream",
     "text": [
      "RUNNING\n",
      "RUNNING\n",
      "RUNNING\n",
      "RUNNING\n",
      "RUNNING\n",
      "RUNNING\n",
      "RUNNING\n",
      "RUNNING\n",
      "RUNNING\n",
      "RUNNING\n",
      "RUNNING\n",
      "RUNNING\n",
      "RUNNING\n",
      "RUNNING\n",
      "RUNNING\n",
      "RUNNING\n",
      "RUNNING\n",
      "RUNNING\n",
      "RUNNING\n",
      "RUNNING\n",
      "RUNNING\n",
      "RUNNING\n",
      "RUNNING\n",
      "RUNNING\n",
      "RUNNING\n",
      "RUNNING\n",
      "RUNNING\n",
      "RUNNING\n",
      "RUNNING\n",
      "RUNNING\n",
      "RUNNING\n",
      "RUNNING\n",
      "RUNNING\n",
      "SUCCEEDED\n"
     ]
    }
   ],
   "source": [
    "def polling(executionArn):\n",
    "    data = { \"executionArn\": executionArn }\n",
    "    data=json.dumps(data, ensure_ascii=False).encode('utf-8')\n",
    "    resp =  requests.post(url+'/describe',data=data,headers=headers)\n",
    "    resp.ok\n",
    "\n",
    "    status =  'RUNNING'\n",
    "    while True:\n",
    "        resp =  requests.post(url+'/describe',data=data,headers=headers)\n",
    "        status = resp.json()['status']\n",
    "        print(status)\n",
    "        if status != 'RUNNING':\n",
    "            break\n",
    "        time.sleep(10)\n",
    "polling(executionArn)"
   ]
  },
  {
   "cell_type": "markdown",
   "id": "bfd11e47",
   "metadata": {},
   "source": [
    "You could get the step function definition and poll its current Step if needed. <br>\n",
    "However, it is a bit difficult to decrypt and not really relevent for this project in my opinion\n"
   ]
  },
  {
   "cell_type": "markdown",
   "id": "d3240b8b",
   "metadata": {},
   "source": [
    "# Outputs"
   ]
  },
  {
   "cell_type": "code",
   "execution_count": 25,
   "id": "9ff1f02b",
   "metadata": {},
   "outputs": [
    {
     "name": "stdout",
     "output_type": "stream",
     "text": [
      "orchestrator/outputs/ref_skims.csv\n",
      "orchestrator/outputs/skims.csv\n",
      "orchestrator/outputs/volumes.csv\n"
     ]
    }
   ],
   "source": [
    "prefix = scenario + 'outputs'\n",
    "ls = []\n",
    "response = s3.list_objects_v2(Bucket=BUCKET, Prefix=prefix)\n",
    "for obj in response['Contents']:\n",
    "    file = obj[\"Key\"]\n",
    "    ls.append(file)\n",
    "    print(file)"
   ]
  },
  {
   "cell_type": "code",
   "execution_count": null,
   "id": "f8c658f3",
   "metadata": {},
   "outputs": [],
   "source": []
  },
  {
   "cell_type": "code",
   "execution_count": 26,
   "id": "f728456a",
   "metadata": {},
   "outputs": [],
   "source": [
    "from io import BytesIO\n",
    "data = s3.get_object(Bucket=BUCKET, Key=ls[0])\n",
    "contents = data['Body'].read()\n",
    "with BytesIO(contents) as bio:\n",
    "    df = pd.read_csv(bio)"
   ]
  },
  {
   "cell_type": "code",
   "execution_count": 27,
   "id": "da15d6ae",
   "metadata": {},
   "outputs": [
    {
     "data": {
      "text/html": [
       "<div>\n",
       "<style scoped>\n",
       "    .dataframe tbody tr th:only-of-type {\n",
       "        vertical-align: middle;\n",
       "    }\n",
       "\n",
       "    .dataframe tbody tr th {\n",
       "        vertical-align: top;\n",
       "    }\n",
       "\n",
       "    .dataframe thead th {\n",
       "        text-align: right;\n",
       "    }\n",
       "</style>\n",
       "<table border=\"1\" class=\"dataframe\">\n",
       "  <thead>\n",
       "    <tr style=\"text-align: right;\">\n",
       "      <th></th>\n",
       "      <th>Unnamed: 0</th>\n",
       "      <th>origin</th>\n",
       "      <th>destination</th>\n",
       "      <th>time_period</th>\n",
       "      <th>vehicle_class</th>\n",
       "      <th>time</th>\n",
       "      <th>distance</th>\n",
       "    </tr>\n",
       "  </thead>\n",
       "  <tbody>\n",
       "    <tr>\n",
       "      <th>0</th>\n",
       "      <td>0</td>\n",
       "      <td>zone_143</td>\n",
       "      <td>zone_155</td>\n",
       "      <td>IP</td>\n",
       "      <td>C_other</td>\n",
       "      <td>166.700974</td>\n",
       "      <td>1765.026611</td>\n",
       "    </tr>\n",
       "    <tr>\n",
       "      <th>1</th>\n",
       "      <td>1</td>\n",
       "      <td>zone_641</td>\n",
       "      <td>zone_73</td>\n",
       "      <td>AM</td>\n",
       "      <td>RPAX</td>\n",
       "      <td>44087.195783</td>\n",
       "      <td>NaN</td>\n",
       "    </tr>\n",
       "    <tr>\n",
       "      <th>2</th>\n",
       "      <td>2</td>\n",
       "      <td>zone_698</td>\n",
       "      <td>zone_203</td>\n",
       "      <td>IP</td>\n",
       "      <td>RPAX</td>\n",
       "      <td>108486.767122</td>\n",
       "      <td>NaN</td>\n",
       "    </tr>\n",
       "    <tr>\n",
       "      <th>3</th>\n",
       "      <td>3</td>\n",
       "      <td>zone_109</td>\n",
       "      <td>zone_23</td>\n",
       "      <td>AM</td>\n",
       "      <td>C_other</td>\n",
       "      <td>1152.078369</td>\n",
       "      <td>9297.105469</td>\n",
       "    </tr>\n",
       "    <tr>\n",
       "      <th>4</th>\n",
       "      <td>4</td>\n",
       "      <td>zone_65</td>\n",
       "      <td>zone_371</td>\n",
       "      <td>PM</td>\n",
       "      <td>RPAX</td>\n",
       "      <td>34534.305696</td>\n",
       "      <td>NaN</td>\n",
       "    </tr>\n",
       "    <tr>\n",
       "      <th>...</th>\n",
       "      <td>...</td>\n",
       "      <td>...</td>\n",
       "      <td>...</td>\n",
       "      <td>...</td>\n",
       "      <td>...</td>\n",
       "      <td>...</td>\n",
       "      <td>...</td>\n",
       "    </tr>\n",
       "    <tr>\n",
       "      <th>598448</th>\n",
       "      <td>598448</td>\n",
       "      <td>zone_207</td>\n",
       "      <td>zone_99</td>\n",
       "      <td>IP</td>\n",
       "      <td>BPAX</td>\n",
       "      <td>2586.912448</td>\n",
       "      <td>NaN</td>\n",
       "    </tr>\n",
       "    <tr>\n",
       "      <th>598449</th>\n",
       "      <td>598449</td>\n",
       "      <td>zone_248</td>\n",
       "      <td>zone_623</td>\n",
       "      <td>AM</td>\n",
       "      <td>C_other</td>\n",
       "      <td>2213.349365</td>\n",
       "      <td>48284.390625</td>\n",
       "    </tr>\n",
       "    <tr>\n",
       "      <th>598450</th>\n",
       "      <td>598450</td>\n",
       "      <td>zone_27</td>\n",
       "      <td>zone_176</td>\n",
       "      <td>PM</td>\n",
       "      <td>RPAX</td>\n",
       "      <td>15868.578955</td>\n",
       "      <td>NaN</td>\n",
       "    </tr>\n",
       "    <tr>\n",
       "      <th>598451</th>\n",
       "      <td>598451</td>\n",
       "      <td>zone_472</td>\n",
       "      <td>zone_121</td>\n",
       "      <td>OP</td>\n",
       "      <td>C_other</td>\n",
       "      <td>429.926163</td>\n",
       "      <td>5874.599121</td>\n",
       "    </tr>\n",
       "    <tr>\n",
       "      <th>598452</th>\n",
       "      <td>598452</td>\n",
       "      <td>zone_650</td>\n",
       "      <td>zone_620</td>\n",
       "      <td>IP</td>\n",
       "      <td>C_other</td>\n",
       "      <td>3209.640625</td>\n",
       "      <td>60801.597656</td>\n",
       "    </tr>\n",
       "  </tbody>\n",
       "</table>\n",
       "<p>598453 rows × 7 columns</p>\n",
       "</div>"
      ],
      "text/plain": [
       "        Unnamed: 0    origin destination time_period vehicle_class  \\\n",
       "0                0  zone_143    zone_155          IP       C_other   \n",
       "1                1  zone_641     zone_73          AM          RPAX   \n",
       "2                2  zone_698    zone_203          IP          RPAX   \n",
       "3                3  zone_109     zone_23          AM       C_other   \n",
       "4                4   zone_65    zone_371          PM          RPAX   \n",
       "...            ...       ...         ...         ...           ...   \n",
       "598448      598448  zone_207     zone_99          IP          BPAX   \n",
       "598449      598449  zone_248    zone_623          AM       C_other   \n",
       "598450      598450   zone_27    zone_176          PM          RPAX   \n",
       "598451      598451  zone_472    zone_121          OP       C_other   \n",
       "598452      598452  zone_650    zone_620          IP       C_other   \n",
       "\n",
       "                 time      distance  \n",
       "0          166.700974   1765.026611  \n",
       "1        44087.195783           NaN  \n",
       "2       108486.767122           NaN  \n",
       "3         1152.078369   9297.105469  \n",
       "4        34534.305696           NaN  \n",
       "...               ...           ...  \n",
       "598448    2586.912448           NaN  \n",
       "598449    2213.349365  48284.390625  \n",
       "598450   15868.578955           NaN  \n",
       "598451     429.926163   5874.599121  \n",
       "598452    3209.640625  60801.597656  \n",
       "\n",
       "[598453 rows x 7 columns]"
      ]
     },
     "execution_count": 27,
     "metadata": {},
     "output_type": "execute_result"
    }
   ],
   "source": [
    "df"
   ]
  },
  {
   "cell_type": "markdown",
   "id": "1dde11a3",
   "metadata": {},
   "source": [
    "# Stop simulation"
   ]
  },
  {
   "cell_type": "code",
   "execution_count": 297,
   "id": "93970494",
   "metadata": {},
   "outputs": [
    {
     "data": {
      "text/plain": [
       "True"
      ]
     },
     "execution_count": 297,
     "metadata": {},
     "output_type": "execute_result"
    }
   ],
   "source": [
    "data = { \"executionArn\": executionArn }\n",
    "data = json.dumps(data)\n",
    "resp =  requests.post(url+'/abort',data=data,headers=headers)\n",
    "resp.ok\n"
   ]
  },
  {
   "cell_type": "code",
   "execution_count": 298,
   "id": "ef51d4fd",
   "metadata": {},
   "outputs": [
    {
     "data": {
      "text/plain": [
       "{'stopDate': 1707756039.138}"
      ]
     },
     "execution_count": 298,
     "metadata": {},
     "output_type": "execute_result"
    }
   ],
   "source": [
    "resp.json()"
   ]
  },
  {
   "cell_type": "code",
   "execution_count": 299,
   "id": "7d9319c0",
   "metadata": {},
   "outputs": [
    {
     "data": {
      "text/plain": [
       "True"
      ]
     },
     "execution_count": 299,
     "metadata": {},
     "output_type": "execute_result"
    }
   ],
   "source": [
    "resp =  requests.post(url+'/describe',data=data,headers=headers)\n",
    "resp.ok"
   ]
  },
  {
   "cell_type": "code",
   "execution_count": 300,
   "id": "f1febf25",
   "metadata": {},
   "outputs": [
    {
     "data": {
      "text/plain": [
       "'ABORTED'"
      ]
     },
     "execution_count": 300,
     "metadata": {},
     "output_type": "execute_result"
    }
   ],
   "source": [
    "resp.json()['status'] # will return ABORTED. if not. the simulation was done are had an error."
   ]
  },
  {
   "cell_type": "code",
   "execution_count": null,
   "id": "d39ee14a",
   "metadata": {},
   "outputs": [],
   "source": []
  },
  {
   "cell_type": "code",
   "execution_count": null,
   "id": "ebb3d1ab",
   "metadata": {},
   "outputs": [],
   "source": []
  },
  {
   "cell_type": "markdown",
   "id": "d4cdf717",
   "metadata": {},
   "source": [
    "# test (faster)"
   ]
  },
  {
   "cell_type": "markdown",
   "id": "13bdfd07",
   "metadata": {},
   "source": [
    "<b>choice = test</b> is a simple endpoint to test. it run in ~5secs and will create a  file outputs/test.txt with it's current time (timestamp in seconds)"
   ]
  },
  {
   "cell_type": "code",
   "execution_count": 33,
   "id": "542261fe",
   "metadata": {},
   "outputs": [],
   "source": [
    "scenario = 'test/'\n",
    "inputs = { \n",
    "        'scenario_path_S3': scenario, # necessary anything\n",
    "        'choice': 'test', # necessary: orchestrator | test\n",
    "        'metadata' : {\"user_email\": \"test@test.com\"} # necessary. it is used in the WebApp to show last modified\n",
    "}\n",
    "inputs = json.dumps(inputs)"
   ]
  },
  {
   "cell_type": "code",
   "execution_count": 34,
   "id": "e09829b0",
   "metadata": {},
   "outputs": [
    {
     "data": {
      "text/plain": [
       "True"
      ]
     },
     "execution_count": 34,
     "metadata": {},
     "output_type": "execute_result"
    }
   ],
   "source": [
    "data = { \"stateMachineArn\": stateMachineArn, 'input':inputs }\n",
    "data = json.dumps(data)\n",
    "resp =  requests.post(url,data=data,headers=headers)\n",
    "resp.ok"
   ]
  },
  {
   "cell_type": "code",
   "execution_count": 35,
   "id": "8043534c",
   "metadata": {},
   "outputs": [
    {
     "name": "stdout",
     "output_type": "stream",
     "text": [
      "RUNNING\n",
      "SUCCEEDED\n"
     ]
    }
   ],
   "source": [
    "executionArn = resp.json()['executionArn']\n",
    "polling(executionArn)"
   ]
  },
  {
   "cell_type": "code",
   "execution_count": 36,
   "id": "2e432e85",
   "metadata": {},
   "outputs": [
    {
     "data": {
      "text/plain": [
       "b'test passed! \\ntime: 1709846103'"
      ]
     },
     "execution_count": 36,
     "metadata": {},
     "output_type": "execute_result"
    }
   ],
   "source": [
    "data = s3.get_object(Bucket=BUCKET, Key=scenario + 'outputs/test.txt')\n",
    "contents = data['Body'].read()\n",
    "contents"
   ]
  },
  {
   "cell_type": "code",
   "execution_count": null,
   "id": "16bed35b",
   "metadata": {},
   "outputs": [],
   "source": []
  },
  {
   "cell_type": "code",
   "execution_count": null,
   "id": "402d31ab",
   "metadata": {},
   "outputs": [],
   "source": []
  }
 ],
 "metadata": {
  "kernelspec": {
   "display_name": "quetzal_env",
   "language": "python",
   "name": "quetzal_env"
  },
  "language_info": {
   "codemirror_mode": {
    "name": "ipython",
    "version": 3
   },
   "file_extension": ".py",
   "mimetype": "text/x-python",
   "name": "python",
   "nbconvert_exporter": "python",
   "pygments_lexer": "ipython3",
   "version": "3.8.6"
  }
 },
 "nbformat": 4,
 "nbformat_minor": 5
}
