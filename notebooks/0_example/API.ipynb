{
 "cells": [
  {
   "cell_type": "code",
   "execution_count": 233,
   "id": "9809d9f8",
   "metadata": {},
   "outputs": [],
   "source": [
    "import requests\n",
    "import json\n",
    "import boto3"
   ]
  },
  {
   "cell_type": "code",
   "execution_count": 234,
   "id": "acf0a66e",
   "metadata": {},
   "outputs": [],
   "source": [
    "\n",
    "ACCESS_KEY = ''\n",
    "SECRET_KEY = ''\n",
    "API_KEY = ''\n"
   ]
  },
  {
   "cell_type": "code",
   "execution_count": 235,
   "id": "e2063800",
   "metadata": {},
   "outputs": [],
   "source": [
    "# S3\n",
    "REGION = 'ca-central-1'\n",
    "BUCKET = 'quetzal-immense'\n",
    "\n",
    "# api gateway\n",
    "url = 'https://lud5uqi5j5.execute-api.ca-central-1.amazonaws.com/dev'\n",
    "stateMachineArn = 'arn:aws:states:ca-central-1:142023388927:stateMachine:quetzal-immense'"
   ]
  },
  {
   "cell_type": "code",
   "execution_count": 236,
   "id": "ed92e93a",
   "metadata": {},
   "outputs": [],
   "source": [
    "headers = {\n",
    "        'Accept': '*/*',\n",
    "        'Content-Type':'application/json',\n",
    "        'x-api-key' : API_KEY,\n",
    "}"
   ]
  },
  {
   "cell_type": "code",
   "execution_count": null,
   "id": "563d0618",
   "metadata": {},
   "outputs": [],
   "source": []
  },
  {
   "cell_type": "markdown",
   "id": "0d411d9a",
   "metadata": {},
   "source": [
    "# S3 structure"
   ]
  },
  {
   "cell_type": "markdown",
   "id": "fd7caf51",
   "metadata": {},
   "source": [
    "scenario/inputs/pt/links.geojson <br>\n",
    "scenario/inputs/pt/nodes.geojson <br>\n",
    "scenario/inputs/road/road_links.geojson <br>\n",
    "scenario/inputs/road/road_nodes.geojson <br>\n",
    "scenario/inputs/car_skim.csv <br>\n",
    "scenario/outputs/<br>\n",
    "<br>\n",
    "you may see other files (such as params.json) those are either used in the web interface are create by the model."
   ]
  },
  {
   "cell_type": "code",
   "execution_count": 282,
   "id": "d3cecf2f",
   "metadata": {},
   "outputs": [],
   "source": [
    "periods = ['am', 'pm']"
   ]
  },
  {
   "cell_type": "code",
   "execution_count": 283,
   "id": "39e6f634",
   "metadata": {},
   "outputs": [],
   "source": [
    "session = boto3.Session(\n",
    "    region_name=REGION,\n",
    "    aws_access_key_id=ACCESS_KEY,\n",
    "    aws_secret_access_key=SECRET_KEY)\n",
    "\n",
    "s3 = session.client('s3')"
   ]
  },
  {
   "cell_type": "code",
   "execution_count": 288,
   "id": "3fcfc93d",
   "metadata": {},
   "outputs": [],
   "source": [
    "inputs_list=[]\n",
    "for period in periods:\n",
    "    prefix = period + '/inputs/'\n",
    "    response = s3.list_objects_v2(Bucket=BUCKET, Prefix=prefix)\n",
    "    for obj in response['Contents']:\n",
    "        inputs_list.append(obj[\"Key\"])"
   ]
  },
  {
   "cell_type": "code",
   "execution_count": 289,
   "id": "c36be282",
   "metadata": {
    "scrolled": true
   },
   "outputs": [
    {
     "data": {
      "text/plain": [
       "['am/inputs/car_skim.csv',\n",
       " 'am/inputs/params.json',\n",
       " 'am/inputs/pt/links.geojson',\n",
       " 'am/inputs/pt/nodes.geojson',\n",
       " 'am/inputs/road/road_links.geojson',\n",
       " 'am/inputs/road/road_nodes.geojson',\n",
       " 'pm/inputs/car_skim.csv',\n",
       " 'pm/inputs/params.json',\n",
       " 'pm/inputs/pt/links.geojson',\n",
       " 'pm/inputs/pt/nodes.geojson',\n",
       " 'pm/inputs/road/road_links.geojson',\n",
       " 'pm/inputs/road/road_nodes.geojson']"
      ]
     },
     "execution_count": 289,
     "metadata": {},
     "output_type": "execute_result"
    }
   ],
   "source": [
    "inputs_list"
   ]
  },
  {
   "cell_type": "markdown",
   "id": "fa6d5315",
   "metadata": {},
   "source": [
    "<b>NOTE:</b> Constant inputs may be store into the model docker directly.<br>\n",
    "zones, reference volume and refereen skims are store into the docker and not on S3"
   ]
  },
  {
   "cell_type": "markdown",
   "id": "ffb76f28",
   "metadata": {},
   "source": [
    "At this moment, Only one period can be run per scenario. <br>\n",
    "the solution is to run a scenario per period <br>\n",
    "and have another scenario (running the demand model) that will used data from those period and return the outputs <br>\n",
    "<br>\n",
    "In this example, this mean that we need to add our inputs under am/ and pm/ and run a third model (named example here). This model will run both am and pm in parallel and run the demand model. the results will be under example/outputs/\n",
    "<br>\n",
    "<br>\n",
    "even tho the last scenario (example) can have any name, the period one cannot at this moment. this mean that you can only run one simulation at the time as they all use the same s3 folder."
   ]
  },
  {
   "cell_type": "markdown",
   "id": "7b956b4d",
   "metadata": {},
   "source": [
    "# Run"
   ]
  },
  {
   "cell_type": "code",
   "execution_count": 263,
   "id": "495b0b58",
   "metadata": {},
   "outputs": [],
   "source": [
    "scenario = 'example/'"
   ]
  },
  {
   "cell_type": "code",
   "execution_count": 264,
   "id": "14b45e6c",
   "metadata": {},
   "outputs": [],
   "source": [
    "inputs = { \n",
    "        'scenario_path_S3': scenario,\n",
    "        'choice': 'orchestrator',\n",
    "        'metadata' : {\"user_email\": \"test@test.com\"}\n",
    "}\n",
    "inputs = json.dumps(inputs)\n"
   ]
  },
  {
   "cell_type": "code",
   "execution_count": 265,
   "id": "1cf35344",
   "metadata": {},
   "outputs": [
    {
     "data": {
      "text/plain": [
       "'{\"stateMachineArn\": \"arn:aws:states:ca-central-1:142023388927:stateMachine:quetzal-immense\", \"input\": \"{\\\\\"scenario_path_S3\\\\\": \\\\\"example/\\\\\", \\\\\"choice\\\\\": \\\\\"orchestrator\\\\\", \\\\\"metadata\\\\\": {\\\\\"user_email\\\\\": \\\\\"test@test.com\\\\\"}}\"}'"
      ]
     },
     "execution_count": 265,
     "metadata": {},
     "output_type": "execute_result"
    }
   ],
   "source": [
    "data = { \"stateMachineArn\": stateMachineArn, 'input':inputs }\n",
    "data = json.dumps(data)\n",
    "data"
   ]
  },
  {
   "cell_type": "markdown",
   "id": "bfbcffb5",
   "metadata": {},
   "source": [
    "POST start quetzal model execution"
   ]
  },
  {
   "cell_type": "code",
   "execution_count": 266,
   "id": "54ba3d58",
   "metadata": {},
   "outputs": [
    {
     "data": {
      "text/plain": [
       "True"
      ]
     },
     "execution_count": 266,
     "metadata": {},
     "output_type": "execute_result"
    }
   ],
   "source": [
    "resp =  requests.post(url,data=data,headers=headers)\n",
    "resp.ok"
   ]
  },
  {
   "cell_type": "markdown",
   "id": "5cff8376",
   "metadata": {},
   "source": [
    "execution arn is returned in the post response and used to get status or end the simulation"
   ]
  },
  {
   "cell_type": "code",
   "execution_count": 267,
   "id": "2af97e0c",
   "metadata": {},
   "outputs": [
    {
     "data": {
      "text/plain": [
       "'arn:aws:states:ca-central-1:142023388927:execution:quetzal-immense:0233dada-3370-40d9-8c9c-41a4bd6e5e9b'"
      ]
     },
     "execution_count": 267,
     "metadata": {},
     "output_type": "execute_result"
    }
   ],
   "source": [
    "executionArn = resp.json()['executionArn']\n",
    "executionArn"
   ]
  },
  {
   "cell_type": "markdown",
   "id": "6af08912",
   "metadata": {},
   "source": [
    "# Polling Simulation Status"
   ]
  },
  {
   "cell_type": "markdown",
   "id": "aaa84dc8",
   "metadata": {},
   "source": [
    "RUNNING | SUCCEEDED | FAILED | TIMED_OUT | ABORTED "
   ]
  },
  {
   "cell_type": "code",
   "execution_count": 249,
   "id": "3290a678",
   "metadata": {},
   "outputs": [
    {
     "name": "stdout",
     "output_type": "stream",
     "text": [
      "RUNNING\n",
      "RUNNING\n",
      "RUNNING\n",
      "RUNNING\n",
      "RUNNING\n",
      "RUNNING\n",
      "RUNNING\n",
      "RUNNING\n",
      "RUNNING\n",
      "RUNNING\n",
      "RUNNING\n",
      "RUNNING\n",
      "RUNNING\n",
      "RUNNING\n",
      "RUNNING\n",
      "RUNNING\n",
      "RUNNING\n",
      "RUNNING\n",
      "RUNNING\n",
      "RUNNING\n",
      "RUNNING\n",
      "RUNNING\n",
      "SUCCEEDED\n"
     ]
    }
   ],
   "source": [
    "\n",
    "data = { \"executionArn\": executionArn }\n",
    "data=json.dumps(data, ensure_ascii=False).encode('utf-8')\n",
    "resp =  requests.post(url+'/describe',data=data,headers=headers)\n",
    "resp.ok\n",
    "\n",
    "status =  'RUNNING'\n",
    "while status == 'RUNNING':\n",
    "    resp =  requests.post(url+'/describe',data=data,headers=headers)\n",
    "    status = resp.json()['status']\n",
    "    print(status)\n",
    "    time.sleep(10)"
   ]
  },
  {
   "cell_type": "markdown",
   "id": "ee6d1f8d",
   "metadata": {},
   "source": [
    "You could get the step function definition and poll its current Step if needed. <br>\n",
    "However, it is a bit difficult to decrypt and not really relevent for you in my opinion.\n"
   ]
  },
  {
   "cell_type": "markdown",
   "id": "963fbc6d",
   "metadata": {},
   "source": [
    "# get output"
   ]
  },
  {
   "cell_type": "code",
   "execution_count": 272,
   "id": "c3cb9739",
   "metadata": {},
   "outputs": [
    {
     "name": "stdout",
     "output_type": "stream",
     "text": [
      "example/outputs/volume_am.csv\n",
      "example/outputs/volume_pm.csv\n"
     ]
    }
   ],
   "source": [
    "prefix = scenario + 'outputs'\n",
    "response = s3.list_objects_v2(Bucket=BUCKET,Prefix=scenario+'outputs')\n",
    "for obj in response['Contents']:\n",
    "    print(obj[\"Key\"])"
   ]
  },
  {
   "cell_type": "code",
   "execution_count": null,
   "id": "127e9776",
   "metadata": {},
   "outputs": [],
   "source": []
  },
  {
   "cell_type": "markdown",
   "id": "6210d013",
   "metadata": {},
   "source": [
    "# Stop simulation"
   ]
  },
  {
   "cell_type": "code",
   "execution_count": 268,
   "id": "8e0142ae",
   "metadata": {},
   "outputs": [
    {
     "data": {
      "text/plain": [
       "True"
      ]
     },
     "execution_count": 268,
     "metadata": {},
     "output_type": "execute_result"
    }
   ],
   "source": [
    "data = { \"executionArn\": executionArn }\n",
    "data = json.dumps(data)\n",
    "resp =  requests.post(url+'/abort',data=data,headers=headers)\n",
    "resp.ok\n"
   ]
  },
  {
   "cell_type": "code",
   "execution_count": 269,
   "id": "8e59e3ed",
   "metadata": {},
   "outputs": [
    {
     "data": {
      "text/plain": [
       "{'stopDate': 1707750391.588}"
      ]
     },
     "execution_count": 269,
     "metadata": {},
     "output_type": "execute_result"
    }
   ],
   "source": [
    "resp.json()"
   ]
  },
  {
   "cell_type": "code",
   "execution_count": 270,
   "id": "60eb29aa",
   "metadata": {},
   "outputs": [
    {
     "data": {
      "text/plain": [
       "True"
      ]
     },
     "execution_count": 270,
     "metadata": {},
     "output_type": "execute_result"
    }
   ],
   "source": [
    "resp =  requests.post(url+'/describe',data=data,headers=headers)\n",
    "resp.ok"
   ]
  },
  {
   "cell_type": "code",
   "execution_count": 271,
   "id": "209be992",
   "metadata": {},
   "outputs": [
    {
     "data": {
      "text/plain": [
       "'ABORTED'"
      ]
     },
     "execution_count": 271,
     "metadata": {},
     "output_type": "execute_result"
    }
   ],
   "source": [
    "resp.json()['status'] # will return ABORTED. if not. the simulation was done are had an error."
   ]
  },
  {
   "cell_type": "code",
   "execution_count": null,
   "id": "993c0c10",
   "metadata": {},
   "outputs": [],
   "source": []
  }
 ],
 "metadata": {
  "kernelspec": {
   "display_name": "quetzal_env",
   "language": "python",
   "name": "quetzal_env"
  },
  "language_info": {
   "codemirror_mode": {
    "name": "ipython",
    "version": 3
   },
   "file_extension": ".py",
   "mimetype": "text/x-python",
   "name": "python",
   "nbconvert_exporter": "python",
   "pygments_lexer": "ipython3",
   "version": "3.8.6"
  }
 },
 "nbformat": 4,
 "nbformat_minor": 5
}
