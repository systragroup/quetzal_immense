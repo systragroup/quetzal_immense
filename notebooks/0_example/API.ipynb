{
 "cells": [
  {
   "cell_type": "code",
   "execution_count": 17,
   "id": "9809d9f8",
   "metadata": {},
   "outputs": [],
   "source": [
    "import requests\n",
    "import json\n",
    "import boto3\n",
    "import pandas as pd\n",
    "import time"
   ]
  },
  {
   "cell_type": "code",
   "execution_count": 2,
   "id": "acf0a66e",
   "metadata": {},
   "outputs": [],
   "source": [
    "\n",
    "ACCESS_KEY = ''\n",
    "SECRET_KEY = ''\n",
    "API_KEY = ''\n"
   ]
  },
  {
   "cell_type": "code",
   "execution_count": 3,
   "id": "e2063800",
   "metadata": {},
   "outputs": [],
   "source": [
    "# S3\n",
    "REGION = 'ca-central-1'\n",
    "BUCKET = 'quetzal-immense'\n",
    "\n",
    "# api gateway\n",
    "url = 'https://lud5uqi5j5.execute-api.ca-central-1.amazonaws.com/dev'\n",
    "stateMachineArn = 'arn:aws:states:ca-central-1:142023388927:stateMachine:quetzal-immense'"
   ]
  },
  {
   "cell_type": "code",
   "execution_count": 4,
   "id": "ed92e93a",
   "metadata": {},
   "outputs": [],
   "source": [
    "headers = {\n",
    "        'Accept': '*/*',\n",
    "        'Content-Type':'application/json',\n",
    "        'x-api-key' : API_KEY,\n",
    "}"
   ]
  },
  {
   "cell_type": "code",
   "execution_count": null,
   "id": "563d0618",
   "metadata": {},
   "outputs": [],
   "source": []
  },
  {
   "cell_type": "markdown",
   "id": "0d411d9a",
   "metadata": {},
   "source": [
    "# Inputs (S3 structure)"
   ]
  },
  {
   "cell_type": "markdown",
   "id": "fd7caf51",
   "metadata": {},
   "source": [
    "scenario/inputs/pt/links.geojson <br>\n",
    "scenario/inputs/pt/nodes.geojson <br>\n",
    "scenario/inputs/road/road_links.geojson <br>\n",
    "scenario/inputs/road/road_nodes.geojson <br>\n",
    "scenario/inputs/car_skim.csv <br>\n",
    "scenario/outputs/<br>\n",
    "<br>\n",
    "you may see other files (such as params.json) those are either used in the web interface are create by the model."
   ]
  },
  {
   "cell_type": "code",
   "execution_count": 5,
   "id": "d3cecf2f",
   "metadata": {},
   "outputs": [],
   "source": [
    "periods = ['am', 'pm']"
   ]
  },
  {
   "cell_type": "code",
   "execution_count": 6,
   "id": "39e6f634",
   "metadata": {},
   "outputs": [],
   "source": [
    "session = boto3.Session(\n",
    "    region_name=REGION,\n",
    "    aws_access_key_id=ACCESS_KEY,\n",
    "    aws_secret_access_key=SECRET_KEY)\n",
    "\n",
    "s3 = session.client('s3')"
   ]
  },
  {
   "cell_type": "code",
   "execution_count": 7,
   "id": "3fcfc93d",
   "metadata": {},
   "outputs": [],
   "source": [
    "inputs_list=[]\n",
    "for period in periods:\n",
    "    prefix = period + '/inputs/'\n",
    "    response = s3.list_objects_v2(Bucket=BUCKET, Prefix=prefix)\n",
    "    for obj in response['Contents']:\n",
    "        inputs_list.append(obj[\"Key\"])"
   ]
  },
  {
   "cell_type": "code",
   "execution_count": 8,
   "id": "c36be282",
   "metadata": {
    "scrolled": true
   },
   "outputs": [
    {
     "data": {
      "text/plain": [
       "['am/inputs/car_skim.csv',\n",
       " 'am/inputs/params.json',\n",
       " 'am/inputs/pt/links.geojson',\n",
       " 'am/inputs/pt/nodes.geojson',\n",
       " 'am/inputs/road/road_links.geojson',\n",
       " 'am/inputs/road/road_nodes.geojson',\n",
       " 'pm/inputs/car_skim.csv',\n",
       " 'pm/inputs/params.json',\n",
       " 'pm/inputs/pt/links.geojson',\n",
       " 'pm/inputs/pt/nodes.geojson',\n",
       " 'pm/inputs/road/road_links.geojson',\n",
       " 'pm/inputs/road/road_nodes.geojson']"
      ]
     },
     "execution_count": 8,
     "metadata": {},
     "output_type": "execute_result"
    }
   ],
   "source": [
    "inputs_list"
   ]
  },
  {
   "cell_type": "markdown",
   "id": "0f3d55e6",
   "metadata": {},
   "source": [
    "<b>NOTE:</b> Constant inputs maybe stored into the model docker directly.<br>\n",
    "zones, reference volume and reference skims are store into the docker and not on S3 here"
   ]
  },
  {
   "cell_type": "markdown",
   "id": "2d11c0a0",
   "metadata": {},
   "source": [
    "At this moment, Only one period can be run per scenario. <br>\n",
    "the solution is to run a scenario per period and have another scenario (running the demand model) that will used data from those period and return the outputs <br>\n",
    "<br>\n",
    "In this example, this mean that we need to add our inputs under am/ and pm/ and run a third model (named example here). This model will run both am and pm in parallel and run the demand model. the results will be under example/outputs/\n",
    "<br>\n",
    "<br>\n",
    "The last scenario (example) can have any name, the period one cannot at this moment. this mean that you can only run one simulation at the time as they all use the same s3 folder."
   ]
  },
  {
   "cell_type": "markdown",
   "id": "67f981d2",
   "metadata": {},
   "source": [
    "# Run"
   ]
  },
  {
   "cell_type": "code",
   "execution_count": 11,
   "id": "a7773988",
   "metadata": {},
   "outputs": [],
   "source": [
    "scenario = 'example/' # this will be the outputs s3 path (example/outputs/)"
   ]
  },
  {
   "cell_type": "code",
   "execution_count": 12,
   "id": "13e533de",
   "metadata": {},
   "outputs": [],
   "source": [
    "inputs = { \n",
    "        'scenario_path_S3': scenario, # necessary anything\n",
    "        'choice': 'orchestrator', # necessary: orchestrator | test\n",
    "        'metadata' : {\"user_email\": \"test@test.com\"} # necessary. it is used in the WebApp to show last modified\n",
    "}\n",
    "inputs = json.dumps(inputs)\n"
   ]
  },
  {
   "cell_type": "code",
   "execution_count": 13,
   "id": "82c560d3",
   "metadata": {},
   "outputs": [
    {
     "data": {
      "text/plain": [
       "'{\"stateMachineArn\": \"arn:aws:states:ca-central-1:142023388927:stateMachine:quetzal-immense\", \"input\": \"{\\\\\"scenario_path_S3\\\\\": \\\\\"example/\\\\\", \\\\\"choice\\\\\": \\\\\"orchestrator\\\\\", \\\\\"metadata\\\\\": {\\\\\"user_email\\\\\": \\\\\"test@test.com\\\\\"}}\"}'"
      ]
     },
     "execution_count": 13,
     "metadata": {},
     "output_type": "execute_result"
    }
   ],
   "source": [
    "data = { \"stateMachineArn\": stateMachineArn, 'input':inputs }\n",
    "data = json.dumps(data)\n",
    "data"
   ]
  },
  {
   "cell_type": "markdown",
   "id": "365dd111",
   "metadata": {},
   "source": [
    "POST start quetzal model execution"
   ]
  },
  {
   "cell_type": "code",
   "execution_count": 14,
   "id": "54ba3d58",
   "metadata": {},
   "outputs": [
    {
     "data": {
      "text/plain": [
       "True"
      ]
     },
     "execution_count": 14,
     "metadata": {},
     "output_type": "execute_result"
    }
   ],
   "source": [
    "resp =  requests.post(url,data=data,headers=headers)\n",
    "resp.ok"
   ]
  },
  {
   "cell_type": "markdown",
   "id": "3b297e0b",
   "metadata": {},
   "source": [
    "execution arn is returned in the post response and used to get status or end the simulation"
   ]
  },
  {
   "cell_type": "code",
   "execution_count": 15,
   "id": "a8cda419",
   "metadata": {},
   "outputs": [
    {
     "data": {
      "text/plain": [
       "'arn:aws:states:ca-central-1:142023388927:execution:quetzal-immense:fa8cb56c-9707-414d-8ecb-053e87b8b2a0'"
      ]
     },
     "execution_count": 15,
     "metadata": {},
     "output_type": "execute_result"
    }
   ],
   "source": [
    "executionArn = resp.json()['executionArn']\n",
    "executionArn"
   ]
  },
  {
   "cell_type": "markdown",
   "id": "8b64b897",
   "metadata": {},
   "source": [
    "# Polling Simulation Status"
   ]
  },
  {
   "cell_type": "markdown",
   "id": "78877fff",
   "metadata": {},
   "source": [
    "RUNNING | SUCCEEDED | FAILED | TIMED_OUT | ABORTED "
   ]
  },
  {
   "cell_type": "code",
   "execution_count": 18,
   "id": "3290a678",
   "metadata": {},
   "outputs": [
    {
     "name": "stdout",
     "output_type": "stream",
     "text": [
      "RUNNING\n",
      "RUNNING\n",
      "RUNNING\n",
      "RUNNING\n",
      "RUNNING\n",
      "RUNNING\n",
      "RUNNING\n",
      "RUNNING\n",
      "RUNNING\n",
      "RUNNING\n",
      "RUNNING\n",
      "RUNNING\n",
      "RUNNING\n",
      "RUNNING\n",
      "RUNNING\n",
      "RUNNING\n",
      "RUNNING\n",
      "RUNNING\n",
      "RUNNING\n",
      "RUNNING\n",
      "RUNNING\n",
      "RUNNING\n",
      "SUCCEEDED\n"
     ]
    }
   ],
   "source": [
    "def polling(executionArn):\n",
    "    data = { \"executionArn\": executionArn }\n",
    "    data=json.dumps(data, ensure_ascii=False).encode('utf-8')\n",
    "    resp =  requests.post(url+'/describe',data=data,headers=headers)\n",
    "    resp.ok\n",
    "\n",
    "    status =  'RUNNING'\n",
    "    while True:\n",
    "        resp =  requests.post(url+'/describe',data=data,headers=headers)\n",
    "        status = resp.json()['status']\n",
    "        print(status)\n",
    "        if status != 'RUNNING':\n",
    "            break\n",
    "        time.sleep(10)\n",
    "polling(executionArn)"
   ]
  },
  {
   "cell_type": "markdown",
   "id": "bfd11e47",
   "metadata": {},
   "source": [
    "You could get the step function definition and poll its current Step if needed. <br>\n",
    "However, it is a bit difficult to decrypt and not really relevent for this project in my opinion\n"
   ]
  },
  {
   "cell_type": "markdown",
   "id": "d3240b8b",
   "metadata": {},
   "source": [
    "# Outputs"
   ]
  },
  {
   "cell_type": "code",
   "execution_count": 19,
   "id": "9ff1f02b",
   "metadata": {},
   "outputs": [
    {
     "name": "stdout",
     "output_type": "stream",
     "text": [
      "example/outputs/volume_am.csv\n",
      "example/outputs/volume_pm.csv\n"
     ]
    }
   ],
   "source": [
    "prefix = scenario + 'outputs'\n",
    "ls = []\n",
    "response = s3.list_objects_v2(Bucket=BUCKET, Prefix=prefix)\n",
    "for obj in response['Contents']:\n",
    "    file = obj[\"Key\"]\n",
    "    ls.append(file)\n",
    "    print(file)"
   ]
  },
  {
   "cell_type": "code",
   "execution_count": null,
   "id": "f8c658f3",
   "metadata": {},
   "outputs": [],
   "source": []
  },
  {
   "cell_type": "code",
   "execution_count": 20,
   "id": "f728456a",
   "metadata": {},
   "outputs": [],
   "source": [
    "from io import BytesIO\n",
    "data = s3.get_object(Bucket=BUCKET, Key=ls[0])\n",
    "contents = data['Body'].read()\n",
    "with BytesIO(contents) as bio:\n",
    "    df = pd.read_csv(bio)"
   ]
  },
  {
   "cell_type": "code",
   "execution_count": 21,
   "id": "da15d6ae",
   "metadata": {},
   "outputs": [
    {
     "data": {
      "text/html": [
       "<div>\n",
       "<style scoped>\n",
       "    .dataframe tbody tr th:only-of-type {\n",
       "        vertical-align: middle;\n",
       "    }\n",
       "\n",
       "    .dataframe tbody tr th {\n",
       "        vertical-align: top;\n",
       "    }\n",
       "\n",
       "    .dataframe thead th {\n",
       "        text-align: right;\n",
       "    }\n",
       "</style>\n",
       "<table border=\"1\" class=\"dataframe\">\n",
       "  <thead>\n",
       "    <tr style=\"text-align: right;\">\n",
       "      <th></th>\n",
       "      <th>Unnamed: 0</th>\n",
       "      <th>index</th>\n",
       "      <th>origin</th>\n",
       "      <th>destination</th>\n",
       "      <th>pt</th>\n",
       "      <th>car</th>\n",
       "    </tr>\n",
       "  </thead>\n",
       "  <tbody>\n",
       "    <tr>\n",
       "      <th>0</th>\n",
       "      <td>0</td>\n",
       "      <td>0</td>\n",
       "      <td>zone_1</td>\n",
       "      <td>zone_278</td>\n",
       "      <td>0.00</td>\n",
       "      <td>3.334000e+01</td>\n",
       "    </tr>\n",
       "    <tr>\n",
       "      <th>1</th>\n",
       "      <td>1</td>\n",
       "      <td>1</td>\n",
       "      <td>zone_1</td>\n",
       "      <td>zone_298</td>\n",
       "      <td>0.00</td>\n",
       "      <td>3.872000e+01</td>\n",
       "    </tr>\n",
       "    <tr>\n",
       "      <th>2</th>\n",
       "      <td>2</td>\n",
       "      <td>2</td>\n",
       "      <td>zone_1</td>\n",
       "      <td>zone_352</td>\n",
       "      <td>0.00</td>\n",
       "      <td>2.277000e+01</td>\n",
       "    </tr>\n",
       "    <tr>\n",
       "      <th>3</th>\n",
       "      <td>3</td>\n",
       "      <td>3</td>\n",
       "      <td>zone_1</td>\n",
       "      <td>zone_513</td>\n",
       "      <td>0.00</td>\n",
       "      <td>1.906000e+01</td>\n",
       "    </tr>\n",
       "    <tr>\n",
       "      <th>4</th>\n",
       "      <td>4</td>\n",
       "      <td>4</td>\n",
       "      <td>zone_1</td>\n",
       "      <td>zone_565</td>\n",
       "      <td>0.00</td>\n",
       "      <td>3.161000e+01</td>\n",
       "    </tr>\n",
       "    <tr>\n",
       "      <th>...</th>\n",
       "      <td>...</td>\n",
       "      <td>...</td>\n",
       "      <td>...</td>\n",
       "      <td>...</td>\n",
       "      <td>...</td>\n",
       "      <td>...</td>\n",
       "    </tr>\n",
       "    <tr>\n",
       "      <th>19885</th>\n",
       "      <td>19885</td>\n",
       "      <td>44572</td>\n",
       "      <td>zone_98</td>\n",
       "      <td>zone_61</td>\n",
       "      <td>20.48</td>\n",
       "      <td>5.320000e+01</td>\n",
       "    </tr>\n",
       "    <tr>\n",
       "      <th>19886</th>\n",
       "      <td>19886</td>\n",
       "      <td>44573</td>\n",
       "      <td>zone_98</td>\n",
       "      <td>zone_69</td>\n",
       "      <td>0.00</td>\n",
       "      <td>0.000000e+00</td>\n",
       "    </tr>\n",
       "    <tr>\n",
       "      <th>19887</th>\n",
       "      <td>19887</td>\n",
       "      <td>44574</td>\n",
       "      <td>zone_98</td>\n",
       "      <td>zone_691</td>\n",
       "      <td>85.49</td>\n",
       "      <td>5.932060e-14</td>\n",
       "    </tr>\n",
       "    <tr>\n",
       "      <th>19888</th>\n",
       "      <td>19888</td>\n",
       "      <td>44575</td>\n",
       "      <td>zone_98</td>\n",
       "      <td>zone_694</td>\n",
       "      <td>27.93</td>\n",
       "      <td>-1.550426e-15</td>\n",
       "    </tr>\n",
       "    <tr>\n",
       "      <th>19889</th>\n",
       "      <td>19889</td>\n",
       "      <td>44576</td>\n",
       "      <td>zone_98</td>\n",
       "      <td>zone_80</td>\n",
       "      <td>66.83</td>\n",
       "      <td>-1.112943e-14</td>\n",
       "    </tr>\n",
       "  </tbody>\n",
       "</table>\n",
       "<p>19890 rows × 6 columns</p>\n",
       "</div>"
      ],
      "text/plain": [
       "       Unnamed: 0  index   origin destination     pt           car\n",
       "0               0      0   zone_1    zone_278   0.00  3.334000e+01\n",
       "1               1      1   zone_1    zone_298   0.00  3.872000e+01\n",
       "2               2      2   zone_1    zone_352   0.00  2.277000e+01\n",
       "3               3      3   zone_1    zone_513   0.00  1.906000e+01\n",
       "4               4      4   zone_1    zone_565   0.00  3.161000e+01\n",
       "...           ...    ...      ...         ...    ...           ...\n",
       "19885       19885  44572  zone_98     zone_61  20.48  5.320000e+01\n",
       "19886       19886  44573  zone_98     zone_69   0.00  0.000000e+00\n",
       "19887       19887  44574  zone_98    zone_691  85.49  5.932060e-14\n",
       "19888       19888  44575  zone_98    zone_694  27.93 -1.550426e-15\n",
       "19889       19889  44576  zone_98     zone_80  66.83 -1.112943e-14\n",
       "\n",
       "[19890 rows x 6 columns]"
      ]
     },
     "execution_count": 21,
     "metadata": {},
     "output_type": "execute_result"
    }
   ],
   "source": [
    "df"
   ]
  },
  {
   "cell_type": "markdown",
   "id": "1dde11a3",
   "metadata": {},
   "source": [
    "# Stop simulation"
   ]
  },
  {
   "cell_type": "code",
   "execution_count": 297,
   "id": "93970494",
   "metadata": {},
   "outputs": [
    {
     "data": {
      "text/plain": [
       "True"
      ]
     },
     "execution_count": 297,
     "metadata": {},
     "output_type": "execute_result"
    }
   ],
   "source": [
    "data = { \"executionArn\": executionArn }\n",
    "data = json.dumps(data)\n",
    "resp =  requests.post(url+'/abort',data=data,headers=headers)\n",
    "resp.ok\n"
   ]
  },
  {
   "cell_type": "code",
   "execution_count": 298,
   "id": "ef51d4fd",
   "metadata": {},
   "outputs": [
    {
     "data": {
      "text/plain": [
       "{'stopDate': 1707756039.138}"
      ]
     },
     "execution_count": 298,
     "metadata": {},
     "output_type": "execute_result"
    }
   ],
   "source": [
    "resp.json()"
   ]
  },
  {
   "cell_type": "code",
   "execution_count": 299,
   "id": "7d9319c0",
   "metadata": {},
   "outputs": [
    {
     "data": {
      "text/plain": [
       "True"
      ]
     },
     "execution_count": 299,
     "metadata": {},
     "output_type": "execute_result"
    }
   ],
   "source": [
    "resp =  requests.post(url+'/describe',data=data,headers=headers)\n",
    "resp.ok"
   ]
  },
  {
   "cell_type": "code",
   "execution_count": 300,
   "id": "f1febf25",
   "metadata": {},
   "outputs": [
    {
     "data": {
      "text/plain": [
       "'ABORTED'"
      ]
     },
     "execution_count": 300,
     "metadata": {},
     "output_type": "execute_result"
    }
   ],
   "source": [
    "resp.json()['status'] # will return ABORTED. if not. the simulation was done are had an error."
   ]
  },
  {
   "cell_type": "code",
   "execution_count": null,
   "id": "d39ee14a",
   "metadata": {},
   "outputs": [],
   "source": []
  },
  {
   "cell_type": "code",
   "execution_count": null,
   "id": "ebb3d1ab",
   "metadata": {},
   "outputs": [],
   "source": []
  },
  {
   "cell_type": "markdown",
   "id": "d4cdf717",
   "metadata": {},
   "source": [
    "# test (faster)"
   ]
  },
  {
   "cell_type": "markdown",
   "id": "13bdfd07",
   "metadata": {},
   "source": [
    "<b>choice = test</b> is a simple endpoint to test. it run in ~5secs and will create a  file outputs/test.txt with it's current time (timestamp in seconds)"
   ]
  },
  {
   "cell_type": "code",
   "execution_count": 36,
   "id": "542261fe",
   "metadata": {},
   "outputs": [],
   "source": [
    "scenario = 'example_2/'\n",
    "inputs = { \n",
    "        'scenario_path_S3': scenario, # necessary anything\n",
    "        'choice': 'test', # necessary: orchestrator | test\n",
    "        'metadata' : {\"user_email\": \"test@test.com\"} # necessary. it is used in the WebApp to show last modified\n",
    "}\n",
    "inputs = json.dumps(inputs)"
   ]
  },
  {
   "cell_type": "code",
   "execution_count": 37,
   "id": "e09829b0",
   "metadata": {},
   "outputs": [
    {
     "data": {
      "text/plain": [
       "True"
      ]
     },
     "execution_count": 37,
     "metadata": {},
     "output_type": "execute_result"
    }
   ],
   "source": [
    "data = { \"stateMachineArn\": stateMachineArn, 'input':inputs }\n",
    "data = json.dumps(data)\n",
    "resp =  requests.post(url,data=data,headers=headers)\n",
    "resp.ok"
   ]
  },
  {
   "cell_type": "code",
   "execution_count": 38,
   "id": "8043534c",
   "metadata": {},
   "outputs": [
    {
     "name": "stdout",
     "output_type": "stream",
     "text": [
      "RUNNING\n",
      "SUCCEEDED\n"
     ]
    }
   ],
   "source": [
    "executionArn = resp.json()['executionArn']\n",
    "polling(executionArn)"
   ]
  },
  {
   "cell_type": "code",
   "execution_count": 39,
   "id": "2e432e85",
   "metadata": {},
   "outputs": [
    {
     "data": {
      "text/plain": [
       "b'test passed! \\ntime: 1707758858'"
      ]
     },
     "execution_count": 39,
     "metadata": {},
     "output_type": "execute_result"
    }
   ],
   "source": [
    "data = s3.get_object(Bucket=BUCKET, Key=scenario + 'outputs/test.txt')\n",
    "contents = data['Body'].read()\n",
    "contents"
   ]
  },
  {
   "cell_type": "code",
   "execution_count": null,
   "id": "16bed35b",
   "metadata": {},
   "outputs": [],
   "source": []
  }
 ],
 "metadata": {
  "kernelspec": {
   "display_name": "quetzal_env",
   "language": "python",
   "name": "quetzal_env"
  },
  "language_info": {
   "codemirror_mode": {
    "name": "ipython",
    "version": 3
   },
   "file_extension": ".py",
   "mimetype": "text/x-python",
   "name": "python",
   "nbconvert_exporter": "python",
   "pygments_lexer": "ipython3",
   "version": "3.8.6"
  }
 },
 "nbformat": 4,
 "nbformat_minor": 5
}
