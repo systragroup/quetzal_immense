{
 "cells": [
  {
   "cell_type": "code",
   "execution_count": 171,
   "id": "9809d9f8",
   "metadata": {},
   "outputs": [],
   "source": [
    "import requests\n",
    "import json\n",
    "import boto3"
   ]
  },
  {
   "cell_type": "code",
   "execution_count": 172,
   "id": "acf0a66e",
   "metadata": {},
   "outputs": [],
   "source": [
    "\n",
    "ACCESS_KEY = ''\n",
    "SECRET_KEY = ''\n",
    "API_KEY = ''\n"
   ]
  },
  {
   "cell_type": "code",
   "execution_count": 173,
   "id": "e2063800",
   "metadata": {},
   "outputs": [],
   "source": [
    "# S3\n",
    "REGION = 'ca-central-1'\n",
    "BUCKET = 'quetzal-immense'\n",
    "\n",
    "# api gateway\n",
    "url = 'https://lud5uqi5j5.execute-api.ca-central-1.amazonaws.com/dev'\n",
    "stateMachineArn = 'arn:aws:states:ca-central-1:142023388927:stateMachine:quetzal-immense'"
   ]
  },
  {
   "cell_type": "code",
   "execution_count": 174,
   "id": "ed92e93a",
   "metadata": {},
   "outputs": [],
   "source": [
    "headers = {\n",
    "        'Accept': '*/*',\n",
    "        'Content-Type':'application/json',\n",
    "        'x-api-key' : API_KEY,\n",
    "}"
   ]
  },
  {
   "cell_type": "code",
   "execution_count": null,
   "id": "654a7e8f",
   "metadata": {},
   "outputs": [],
   "source": []
  },
  {
   "cell_type": "markdown",
   "id": "e2baeb2d",
   "metadata": {},
   "source": [
    "# start model"
   ]
  },
  {
   "cell_type": "markdown",
   "id": "318f2dc9",
   "metadata": {},
   "source": [
    "All parameters passed to the function or in params"
   ]
  },
  {
   "cell_type": "code",
   "execution_count": 175,
   "id": "fd46e915",
   "metadata": {},
   "outputs": [],
   "source": [
    "params = {\"param1\":\"test\",\"param2\":3}\n",
    "launcher_arg = {'training_folder': '/tmp','params': params}\n",
    "inputs = { \n",
    "        'scenario_path_S3': 'test/',\n",
    "        'choice':'default',\n",
    "        'launcher_arg': launcher_arg,\n",
    "        'metadata' : {\"user_email\": \"test@test.com\"}\n",
    "}\n",
    "inputs = json.dumps(inputs)"
   ]
  },
  {
   "cell_type": "code",
   "execution_count": 176,
   "id": "200ad42b",
   "metadata": {},
   "outputs": [
    {
     "data": {
      "text/plain": [
       "'{\"stateMachineArn\": \"arn:aws:states:ca-central-1:142023388927:stateMachine:quetzal-immense\", \"input\": \"{\\\\\"scenario_path_S3\\\\\": \\\\\"test/\\\\\", \\\\\"choice\\\\\": \\\\\"default\\\\\", \\\\\"launcher_arg\\\\\": {\\\\\"training_folder\\\\\": \\\\\"/tmp\\\\\", \\\\\"params\\\\\": {\\\\\"param1\\\\\": \\\\\"test\\\\\", \\\\\"param2\\\\\": 3}}, \\\\\"metadata\\\\\": {\\\\\"user_email\\\\\": \\\\\"test@test.com\\\\\"}}\"}'"
      ]
     },
     "execution_count": 176,
     "metadata": {},
     "output_type": "execute_result"
    }
   ],
   "source": [
    "data = { \"stateMachineArn\": stateMachineArn, 'input':inputs }\n",
    "data = json.dumps(data)\n",
    "data\n"
   ]
  },
  {
   "cell_type": "code",
   "execution_count": 177,
   "id": "8a4ba292",
   "metadata": {},
   "outputs": [
    {
     "data": {
      "text/plain": [
       "True"
      ]
     },
     "execution_count": 177,
     "metadata": {},
     "output_type": "execute_result"
    }
   ],
   "source": [
    "resp =  requests.post(url,data=data,headers=headers)\n",
    "resp.ok"
   ]
  },
  {
   "cell_type": "code",
   "execution_count": 178,
   "id": "e18a045e",
   "metadata": {},
   "outputs": [
    {
     "data": {
      "text/plain": [
       "{'executionArn': 'arn:aws:states:ca-central-1:142023388927:execution:quetzal-immense:9127a24c-a68b-41d1-820a-bfc958e7bbba',\n",
       " 'startDate': 1707507501.651}"
      ]
     },
     "execution_count": 178,
     "metadata": {},
     "output_type": "execute_result"
    }
   ],
   "source": [
    "resp.json()"
   ]
  },
  {
   "cell_type": "code",
   "execution_count": 179,
   "id": "93341b13",
   "metadata": {},
   "outputs": [
    {
     "data": {
      "text/plain": [
       "'arn:aws:states:ca-central-1:142023388927:execution:quetzal-immense:9127a24c-a68b-41d1-820a-bfc958e7bbba'"
      ]
     },
     "execution_count": 179,
     "metadata": {},
     "output_type": "execute_result"
    }
   ],
   "source": [
    "# get executionARN for polling\n",
    "resp.json()['executionArn']"
   ]
  },
  {
   "cell_type": "markdown",
   "id": "6959906f",
   "metadata": {},
   "source": [
    "# get status (polling)"
   ]
  },
  {
   "cell_type": "code",
   "execution_count": 180,
   "id": "9a6fcbe5",
   "metadata": {},
   "outputs": [
    {
     "data": {
      "text/plain": [
       "True"
      ]
     },
     "execution_count": 180,
     "metadata": {},
     "output_type": "execute_result"
    }
   ],
   "source": [
    "executionArn = resp.json()['executionArn']\n",
    "data = { \"executionArn\": executionArn }\n",
    "data=json.dumps(data, ensure_ascii=False).encode('utf-8')\n",
    "resp =  requests.post(url+'/describe',data=data,headers=headers)\n",
    "resp.ok"
   ]
  },
  {
   "cell_type": "code",
   "execution_count": 181,
   "id": "342bdc5f",
   "metadata": {},
   "outputs": [
    {
     "data": {
      "text/plain": [
       "{'executionArn': 'arn:aws:states:ca-central-1:142023388927:execution:quetzal-immense:9127a24c-a68b-41d1-820a-bfc958e7bbba',\n",
       " 'input': '{\"scenario_path_S3\": \"test/\", \"choice\": \"default\", \"launcher_arg\": {\"training_folder\": \"/tmp\", \"params\": {\"param1\": \"test\", \"param2\": 3}}, \"metadata\": {\"user_email\": \"test@test.com\"}}',\n",
       " 'inputDetails': {'__type': 'com.amazonaws.swf.base.model#CloudWatchEventsExecutionDataDetails',\n",
       "  'included': True},\n",
       " 'name': '9127a24c-a68b-41d1-820a-bfc958e7bbba',\n",
       " 'redriveCount': 0,\n",
       " 'redriveStatus': 'NOT_REDRIVABLE',\n",
       " 'redriveStatusReason': 'Execution is RUNNING and cannot be redriven',\n",
       " 'startDate': 1707507501.651,\n",
       " 'stateMachineArn': 'arn:aws:states:ca-central-1:142023388927:stateMachine:quetzal-immense',\n",
       " 'status': 'RUNNING',\n",
       " 'traceHeader': 'Root=1-65c67f2d-4ca7f8c3003583114b0a852b;Sampled=1'}"
      ]
     },
     "execution_count": 181,
     "metadata": {},
     "output_type": "execute_result"
    }
   ],
   "source": [
    "resp.json()"
   ]
  },
  {
   "cell_type": "code",
   "execution_count": 182,
   "id": "88c367df",
   "metadata": {},
   "outputs": [
    {
     "data": {
      "text/plain": [
       "'RUNNING'"
      ]
     },
     "execution_count": 182,
     "metadata": {},
     "output_type": "execute_result"
    }
   ],
   "source": [
    "resp.json()['status']"
   ]
  },
  {
   "cell_type": "code",
   "execution_count": 183,
   "id": "5008b293",
   "metadata": {},
   "outputs": [
    {
     "name": "stdout",
     "output_type": "stream",
     "text": [
      "RUNNING\n",
      "RUNNING\n",
      "RUNNING\n",
      "RUNNING\n",
      "RUNNING\n",
      "FAILED\n"
     ]
    }
   ],
   "source": [
    "import time\n",
    "\n",
    "status =  resp.json()['status']\n",
    "while status == 'RUNNING':\n",
    "    resp =  requests.post(url+'/describe',data=data,headers=headers)\n",
    "    status = resp.json()['status']\n",
    "    print(status)\n",
    "    time.sleep(2)"
   ]
  },
  {
   "cell_type": "code",
   "execution_count": null,
   "id": "8d4b879f",
   "metadata": {},
   "outputs": [],
   "source": []
  },
  {
   "cell_type": "markdown",
   "id": "2107d894",
   "metadata": {},
   "source": [
    "SUCCEEDED or ERROR"
   ]
  },
  {
   "cell_type": "markdown",
   "id": "70cc387a",
   "metadata": {},
   "source": [
    "# stop"
   ]
  },
  {
   "cell_type": "code",
   "execution_count": 30,
   "id": "03dd452f",
   "metadata": {},
   "outputs": [
    {
     "data": {
      "text/plain": [
       "'arn:aws:states:ca-central-1:142023388927:execution:quetzal-immense:dfb5ebf3-53f8-46e4-903d-0a906a467ba9'"
      ]
     },
     "execution_count": 30,
     "metadata": {},
     "output_type": "execute_result"
    }
   ],
   "source": [
    "executionArn"
   ]
  },
  {
   "cell_type": "code",
   "execution_count": 31,
   "id": "cf5c0950",
   "metadata": {},
   "outputs": [
    {
     "data": {
      "text/plain": [
       "True"
      ]
     },
     "execution_count": 31,
     "metadata": {},
     "output_type": "execute_result"
    }
   ],
   "source": [
    "data = { \"executionArn\": executionArn }\n",
    "data = json.dumps(data)\n",
    "resp =  requests.post(url+'/abort',data=data,headers=headers)\n",
    "resp.ok"
   ]
  },
  {
   "cell_type": "code",
   "execution_count": 32,
   "id": "1bc10a2c",
   "metadata": {},
   "outputs": [
    {
     "data": {
      "text/plain": [
       "{'stopDate': 1707245846.29}"
      ]
     },
     "execution_count": 32,
     "metadata": {},
     "output_type": "execute_result"
    }
   ],
   "source": [
    "resp.json()"
   ]
  },
  {
   "cell_type": "code",
   "execution_count": 33,
   "id": "304b8dd4",
   "metadata": {},
   "outputs": [
    {
     "data": {
      "text/plain": [
       "True"
      ]
     },
     "execution_count": 33,
     "metadata": {},
     "output_type": "execute_result"
    }
   ],
   "source": [
    "data = { \"executionArn\": executionArn }\n",
    "data=json.dumps(data, ensure_ascii=False).encode('utf-8')\n",
    "resp =  requests.post(url+'/describe',data=data,headers=headers)\n",
    "resp.ok"
   ]
  },
  {
   "cell_type": "code",
   "execution_count": 34,
   "id": "eca34075",
   "metadata": {},
   "outputs": [
    {
     "data": {
      "text/plain": [
       "{'executionArn': 'arn:aws:states:ca-central-1:142023388927:execution:quetzal-immense:dfb5ebf3-53f8-46e4-903d-0a906a467ba9',\n",
       " 'input': '{\"scenario_path_S3\": \"test/\", \"launcher_arg\": {\"training_folder\": \"/tmp\", \"params\": {\"param1\": \"test\", \"param2\": 3}}, \"metadata\": {\"user_email\": \"test@test.com\"}}',\n",
       " 'inputDetails': {'__type': 'com.amazonaws.swf.base.model#CloudWatchEventsExecutionDataDetails',\n",
       "  'included': True},\n",
       " 'name': 'dfb5ebf3-53f8-46e4-903d-0a906a467ba9',\n",
       " 'output': '{\"notebook_path\":\"notebooks/2_model/test.ipynb\",\"metadata\":{\"user_email\":\"test@test.com\"},\"scenario_path_S3\":\"test/\",\"launcher_arg\":{\"training_folder\":\"/tmp\",\"params\":{\"param1\":\"test\",\"param2\":3}}}',\n",
       " 'outputDetails': {'__type': 'com.amazonaws.swf.base.model#CloudWatchEventsExecutionDataDetails',\n",
       "  'included': True},\n",
       " 'redriveCount': 0,\n",
       " 'redriveStatus': 'NOT_REDRIVABLE',\n",
       " 'redriveStatusReason': 'Execution is SUCCEEDED and cannot be redriven',\n",
       " 'startDate': 1707245836.932,\n",
       " 'stateMachineArn': 'arn:aws:states:ca-central-1:142023388927:stateMachine:quetzal-immense',\n",
       " 'status': 'SUCCEEDED',\n",
       " 'stopDate': 1707245846.29,\n",
       " 'traceHeader': 'Root=1-65c2810c-4ef49dc21168a10b1c8acfd2;Sampled=1'}"
      ]
     },
     "execution_count": 34,
     "metadata": {},
     "output_type": "execute_result"
    }
   ],
   "source": [
    "resp.json()"
   ]
  },
  {
   "cell_type": "code",
   "execution_count": 35,
   "id": "fb64c242",
   "metadata": {},
   "outputs": [
    {
     "data": {
      "text/plain": [
       "'SUCCEEDED'"
      ]
     },
     "execution_count": 35,
     "metadata": {},
     "output_type": "execute_result"
    }
   ],
   "source": [
    "resp.json()['status'] # 'ABORTED' "
   ]
  },
  {
   "cell_type": "code",
   "execution_count": null,
   "id": "563d0618",
   "metadata": {},
   "outputs": [],
   "source": []
  },
  {
   "cell_type": "markdown",
   "id": "f735bd4e",
   "metadata": {},
   "source": [
    "# S3"
   ]
  },
  {
   "cell_type": "markdown",
   "id": "0d411d9a",
   "metadata": {},
   "source": [
    "# S3 structure"
   ]
  },
  {
   "cell_type": "markdown",
   "id": "fd7caf51",
   "metadata": {},
   "source": [
    "scenario/inputs/ <br>\n",
    "scenario/outputs/<br><br>"
   ]
  },
  {
   "cell_type": "code",
   "execution_count": null,
   "id": "d3cecf2f",
   "metadata": {},
   "outputs": [],
   "source": []
  },
  {
   "cell_type": "code",
   "execution_count": 184,
   "id": "39e6f634",
   "metadata": {},
   "outputs": [],
   "source": [
    "session = boto3.Session(\n",
    "    region_name=REGION,\n",
    "    aws_access_key_id=ACCESS_KEY,\n",
    "    aws_secret_access_key=SECRET_KEY)\n",
    "\n",
    "s3 = session.client('s3')"
   ]
  },
  {
   "cell_type": "code",
   "execution_count": 185,
   "id": "3fcfc93d",
   "metadata": {},
   "outputs": [],
   "source": [
    "response = s3.list_objects_v2(Bucket=BUCKET)"
   ]
  },
  {
   "cell_type": "code",
   "execution_count": 204,
   "id": "c36be282",
   "metadata": {
    "scrolled": true
   },
   "outputs": [],
   "source": [
    "ls=[]\n",
    "for obj in response['Contents']:\n",
    "    ls.append(obj[\"Key\"])\n",
    "ls"
   ]
  },
  {
   "cell_type": "markdown",
   "id": "c484a77e",
   "metadata": {},
   "source": [
    "# Run"
   ]
  },
  {
   "cell_type": "code",
   "execution_count": 191,
   "id": "e4a28d47",
   "metadata": {},
   "outputs": [],
   "source": [
    "inputs = { \n",
    "        'choice':'orchestrator',\n",
    "        'metadata' : {\"user_email\": \"test@test.com\"}\n",
    "}\n",
    "inputs = json.dumps(inputs)\n"
   ]
  },
  {
   "cell_type": "code",
   "execution_count": 192,
   "id": "899b89e2",
   "metadata": {},
   "outputs": [
    {
     "data": {
      "text/plain": [
       "'{\"stateMachineArn\": \"arn:aws:states:ca-central-1:142023388927:stateMachine:quetzal-immense\", \"input\": \"{\\\\\"choice\\\\\": \\\\\"orchestrator\\\\\", \\\\\"metadata\\\\\": {\\\\\"user_email\\\\\": \\\\\"test@test.com\\\\\"}}\"}'"
      ]
     },
     "execution_count": 192,
     "metadata": {},
     "output_type": "execute_result"
    }
   ],
   "source": [
    "data = { \"stateMachineArn\": stateMachineArn, 'input':inputs }\n",
    "data = json.dumps(data)\n",
    "data"
   ]
  },
  {
   "cell_type": "code",
   "execution_count": 193,
   "id": "54ba3d58",
   "metadata": {},
   "outputs": [
    {
     "data": {
      "text/plain": [
       "True"
      ]
     },
     "execution_count": 193,
     "metadata": {},
     "output_type": "execute_result"
    }
   ],
   "source": [
    "resp =  requests.post(url,data=data,headers=headers)\n",
    "resp.ok"
   ]
  },
  {
   "cell_type": "code",
   "execution_count": 199,
   "id": "3290a678",
   "metadata": {},
   "outputs": [
    {
     "name": "stdout",
     "output_type": "stream",
     "text": [
      "RUNNING\n",
      "RUNNING\n",
      "RUNNING\n",
      "RUNNING\n",
      "RUNNING\n",
      "RUNNING\n",
      "RUNNING\n",
      "RUNNING\n",
      "RUNNING\n",
      "RUNNING\n",
      "RUNNING\n",
      "RUNNING\n",
      "RUNNING\n",
      "RUNNING\n",
      "RUNNING\n",
      "RUNNING\n",
      "RUNNING\n",
      "RUNNING\n",
      "RUNNING\n",
      "RUNNING\n",
      "RUNNING\n",
      "RUNNING\n",
      "RUNNING\n",
      "RUNNING\n",
      "RUNNING\n",
      "SUCCEEDED\n"
     ]
    }
   ],
   "source": [
    "executionArn = resp.json()['executionArn']\n",
    "data = { \"executionArn\": executionArn }\n",
    "data=json.dumps(data, ensure_ascii=False).encode('utf-8')\n",
    "resp =  requests.post(url+'/describe',data=data,headers=headers)\n",
    "resp.ok\n",
    "\n",
    "status =  'RUNNING'\n",
    "while status == 'RUNNING':\n",
    "    resp =  requests.post(url+'/describe',data=data,headers=headers)\n",
    "    status = resp.json()['status']\n",
    "    print(status)\n",
    "    time.sleep(10)"
   ]
  },
  {
   "cell_type": "code",
   "execution_count": 203,
   "id": "3df8a01c",
   "metadata": {},
   "outputs": [
    {
     "data": {
      "text/plain": [
       "['orchestrator/outputs/volume_am.csv',\n",
       " 'orchestrator/outputs/volume_pm.csv',\n",
       " 'orchestrator/outputs/volume_test.csv']"
      ]
     },
     "execution_count": 203,
     "metadata": {},
     "output_type": "execute_result"
    }
   ],
   "source": [
    "response = s3.list_objects_v2(Bucket=BUCKET,Prefix='orchestrator/outputs')\n",
    "ls=[]\n",
    "for obj in response['Contents']:\n",
    "    ls.append(obj[\"Key\"])\n",
    "ls"
   ]
  },
  {
   "cell_type": "code",
   "execution_count": null,
   "id": "dd0e41d5",
   "metadata": {},
   "outputs": [],
   "source": []
  }
 ],
 "metadata": {
  "kernelspec": {
   "display_name": "quetzal_env",
   "language": "python",
   "name": "quetzal_env"
  },
  "language_info": {
   "codemirror_mode": {
    "name": "ipython",
    "version": 3
   },
   "file_extension": ".py",
   "mimetype": "text/x-python",
   "name": "python",
   "nbconvert_exporter": "python",
   "pygments_lexer": "ipython3",
   "version": "3.8.6"
  }
 },
 "nbformat": 4,
 "nbformat_minor": 5
}
