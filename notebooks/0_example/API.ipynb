{
 "cells": [
  {
   "cell_type": "code",
   "execution_count": 164,
   "id": "9809d9f8",
   "metadata": {},
   "outputs": [],
   "source": [
    "import requests\n",
    "import json\n",
    "import boto3"
   ]
  },
  {
   "cell_type": "code",
   "execution_count": 165,
   "id": "acf0a66e",
   "metadata": {},
   "outputs": [],
   "source": [
    "\n",
    "ACCESS_KEY = ''\n",
    "SECRET_KEY = ''\n",
    "API_KEY = ''\n"
   ]
  },
  {
   "cell_type": "code",
   "execution_count": 166,
   "id": "e2063800",
   "metadata": {},
   "outputs": [],
   "source": [
    "# S3\n",
    "REGION = 'ca-central-1'\n",
    "BUCKET = 'quetzal-immense'\n",
    "\n",
    "# api gateway\n",
    "url = 'https://lud5uqi5j5.execute-api.ca-central-1.amazonaws.com/dev'\n",
    "stateMachineArn = 'arn:aws:states:ca-central-1:142023388927:stateMachine:quetzal-immense'"
   ]
  },
  {
   "cell_type": "code",
   "execution_count": 167,
   "id": "ed92e93a",
   "metadata": {},
   "outputs": [],
   "source": [
    "headers = {\n",
    "        'Accept': '*/*',\n",
    "        'Content-Type':'application/json',\n",
    "        'x-api-key' : API_KEY,\n",
    "}"
   ]
  },
  {
   "cell_type": "markdown",
   "id": "c382972e",
   "metadata": {},
   "source": [
    "# describe"
   ]
  },
  {
   "cell_type": "code",
   "execution_count": 168,
   "id": "9f4b0b19",
   "metadata": {},
   "outputs": [
    {
     "data": {
      "text/plain": [
       "'{\"stateMachineArn\": \"arn:aws:states:ca-central-1:142023388927:stateMachine:quetzal-immense\"}'"
      ]
     },
     "execution_count": 168,
     "metadata": {},
     "output_type": "execute_result"
    }
   ],
   "source": [
    "data = { \"stateMachineArn\": stateMachineArn }\n",
    "data=json.dumps(data)\n",
    "data"
   ]
  },
  {
   "cell_type": "code",
   "execution_count": 169,
   "id": "bd7b7ad0",
   "metadata": {},
   "outputs": [
    {
     "data": {
      "text/plain": [
       "True"
      ]
     },
     "execution_count": 169,
     "metadata": {},
     "output_type": "execute_result"
    }
   ],
   "source": [
    "resp =  requests.post(url+'/describe/model/', data=data, headers=headers)\n",
    "resp.ok"
   ]
  },
  {
   "cell_type": "code",
   "execution_count": 170,
   "id": "0351fa2a",
   "metadata": {},
   "outputs": [
    {
     "data": {
      "text/plain": [
       "{'creationDate': 1707159295.38,\n",
       " 'definition': '{\\n  \"StartAt\": \"Choice\",\\n  \"States\": {\\n    \"Choice\": {\\n      \"Type\": \"Choice\",\\n      \"Choices\": [\\n        {\\n          \"Variable\": \"$.choice\",\\n          \"StringEquals\": \"demand\",\\n          \"Next\": \"Demand\"\\n        },\\n        {\\n          \"Variable\": \"$.choice\",\\n          \"StringEquals\": \"orchestrator\",\\n          \"Next\": \"Parallel\"\\n        }\\n      ],\\n      \"Default\": \"Network Preparation\"\\n    },\\n    \"Network Preparation\": {\\n      \"Type\": \"Task\",\\n      \"Resource\": \"arn:aws:states:::lambda:invoke\",\\n      \"OutputPath\": \"$.Payload\",\\n      \"Parameters\": {\\n        \"Payload\": {\\n          \"notebook_path\": \"notebooks/2_model/B10_network_preparation.ipynb\",\\n          \"scenario_path_S3.$\": \"$.scenario_path_S3\",\\n          \"launcher_arg.$\": \"$.launcher_arg\",\\n          \"metadata.$\": \"$.metadata\"\\n        },\\n        \"FunctionName\": \"arn:aws:lambda:ca-central-1:142023388927:function:quetzal-immense:$LATEST\"\\n      },\\n      \"Retry\": [\\n        {\\n          \"ErrorEquals\": [\\n            \"Lambda.ServiceException\",\\n            \"Lambda.SdkClientException\",\\n            \"Lambda.TooManyRequestsException\"\\n          ],\\n          \"IntervalSeconds\": 2,\\n          \"MaxAttempts\": 2,\\n          \"BackoffRate\": 2\\n        },\\n        {\\n          \"ErrorEquals\": [\\n            \"Lambda.AWSLambdaException\"\\n          ],\\n          \"IntervalSeconds\": 30,\\n          \"MaxAttempts\": 4,\\n          \"BackoffRate\": 2\\n        }\\n      ],\\n      \"Next\": \"Pathfinder\"\\n    },\\n    \"Pathfinder\": {\\n      \"Type\": \"Task\",\\n      \"Resource\": \"arn:aws:states:::lambda:invoke\",\\n      \"OutputPath\": \"$.Payload\",\\n      \"Parameters\": {\\n        \"Payload\": {\\n          \"notebook_path\": \"notebooks/2_model/C10_pathfinder.ipynb\",\\n          \"scenario_path_S3.$\": \"$.scenario_path_S3\",\\n          \"launcher_arg.$\": \"$.launcher_arg\",\\n          \"metadata.$\": \"$.metadata\"\\n        },\\n        \"FunctionName\": \"arn:aws:lambda:ca-central-1:142023388927:function:quetzal-immense:$LATEST\"\\n      },\\n      \"Retry\": [\\n        {\\n          \"ErrorEquals\": [\\n            \"Lambda.ServiceException\",\\n            \"Lambda.SdkClientException\",\\n            \"Lambda.TooManyRequestsException\"\\n          ],\\n          \"IntervalSeconds\": 2,\\n          \"MaxAttempts\": 2,\\n          \"BackoffRate\": 2\\n        },\\n        {\\n          \"ErrorEquals\": [\\n            \"Lambda.AWSLambdaException\"\\n          ],\\n          \"IntervalSeconds\": 30,\\n          \"MaxAttempts\": 4,\\n          \"BackoffRate\": 2\\n        }\\n      ],\\n      \"Next\": \"Demand\"\\n    },\\n    \"Demand\": {\\n      \"Type\": \"Task\",\\n      \"Resource\": \"arn:aws:states:::lambda:invoke\",\\n      \"OutputPath\": \"$.Payload\",\\n      \"Parameters\": {\\n        \"Payload\": {\\n          \"notebook_path\": \"notebooks/2_model/D10_demand_model.ipynb\",\\n          \"scenario_path_S3.$\": \"$.scenario_path_S3\",\\n          \"launcher_arg.$\": \"$.launcher_arg\",\\n          \"metadata.$\": \"$.metadata\"\\n        },\\n        \"FunctionName\": \"arn:aws:lambda:ca-central-1:142023388927:function:quetzal-immense:$LATEST\"\\n      },\\n      \"Retry\": [\\n        {\\n          \"ErrorEquals\": [\\n            \"Lambda.ServiceException\",\\n            \"Lambda.SdkClientException\",\\n            \"Lambda.TooManyRequestsException\"\\n          ],\\n          \"IntervalSeconds\": 2,\\n          \"MaxAttempts\": 2,\\n          \"BackoffRate\": 2\\n        },\\n        {\\n          \"ErrorEquals\": [\\n            \"Lambda.AWSLambdaException\"\\n          ],\\n          \"IntervalSeconds\": 30,\\n          \"MaxAttempts\": 4,\\n          \"BackoffRate\": 2\\n        }\\n      ],\\n      \"End\": true\\n    },\\n    \"Parallel\": {\\n      \"Type\": \"Parallel\",\\n      \"Branches\": [\\n        {\\n          \"StartAt\": \"Network Preparation (am)\",\\n          \"States\": {\\n            \"Network Preparation (am)\": {\\n              \"Type\": \"Task\",\\n              \"Resource\": \"arn:aws:states:::lambda:invoke\",\\n              \"OutputPath\": \"$.Payload\",\\n              \"Parameters\": {\\n                \"Payload\": {\\n                  \"notebook_path\": \"notebooks/2_model/B10_network_preparation.ipynb\",\\n                  \"scenario_path_S3\": \"am/\",\\n                  \"launcher_arg\": {\\n                    \"training_folder\": \"/tmp\",\\n                    \"params\": {\\n                      \"general\": {\\n                        \"period\": \"am\"\\n                      }\\n                    }\\n                  },\\n                  \"metadata.$\": \"$.metadata\"\\n                },\\n                \"FunctionName\": \"arn:aws:lambda:ca-central-1:142023388927:function:quetzal-immense:$LATEST\"\\n              },\\n              \"Retry\": [\\n                {\\n                  \"ErrorEquals\": [\\n                    \"Lambda.ServiceException\",\\n                    \"Lambda.SdkClientException\",\\n                    \"Lambda.TooManyRequestsException\"\\n                  ],\\n                  \"IntervalSeconds\": 2,\\n                  \"MaxAttempts\": 2,\\n                  \"BackoffRate\": 2\\n                },\\n                {\\n                  \"ErrorEquals\": [\\n                    \"Lambda.AWSLambdaException\"\\n                  ],\\n                  \"IntervalSeconds\": 30,\\n                  \"MaxAttempts\": 4,\\n                  \"BackoffRate\": 2\\n                }\\n              ],\\n              \"Next\": \"Pathfinder (am)\"\\n            },\\n            \"Pathfinder (am)\": {\\n              \"Type\": \"Task\",\\n              \"Resource\": \"arn:aws:states:::lambda:invoke\",\\n              \"OutputPath\": \"$.Payload\",\\n              \"Parameters\": {\\n                \"Payload\": {\\n                  \"notebook_path\": \"notebooks/2_model/C10_pathfinder.ipynb\",\\n                  \"scenario_path_S3\": \"am/\",\\n                  \"launcher_arg\": {\\n                    \"training_folder\": \"/tmp\",\\n                    \"params\": {\\n                      \"general\": {\\n                        \"period\": \"am\"\\n                      }\\n                    }\\n                  },\\n                  \"metadata.$\": \"$.metadata\"\\n                },\\n                \"FunctionName\": \"arn:aws:lambda:ca-central-1:142023388927:function:quetzal-immense:$LATEST\"\\n              },\\n              \"Retry\": [\\n                {\\n                  \"ErrorEquals\": [\\n                    \"Lambda.ServiceException\",\\n                    \"Lambda.SdkClientException\",\\n                    \"Lambda.TooManyRequestsException\"\\n                  ],\\n                  \"IntervalSeconds\": 2,\\n                  \"MaxAttempts\": 2,\\n                  \"BackoffRate\": 2\\n                },\\n                {\\n                  \"ErrorEquals\": [\\n                    \"Lambda.AWSLambdaException\"\\n                  ],\\n                  \"IntervalSeconds\": 30,\\n                  \"MaxAttempts\": 4,\\n                  \"BackoffRate\": 2\\n                }\\n              ],\\n              \"End\": true\\n            }\\n          }\\n        },\\n        {\\n          \"StartAt\": \"Network Preparation (pm)\",\\n          \"States\": {\\n            \"Network Preparation (pm)\": {\\n              \"Type\": \"Task\",\\n              \"Resource\": \"arn:aws:states:::lambda:invoke\",\\n              \"OutputPath\": \"$.Payload\",\\n              \"Parameters\": {\\n                \"Payload\": {\\n                  \"notebook_path\": \"notebooks/2_model/B10_network_preparation.ipynb\",\\n                  \"scenario_path_S3\": \"pm/\",\\n                  \"launcher_arg\": {\\n                    \"training_folder\": \"/tmp\",\\n                    \"params\": {\\n                      \"general\": {\\n                        \"period\": \"pm\"\\n                      }\\n                    }\\n                  },\\n                  \"metadata.$\": \"$.metadata\"\\n                },\\n                \"FunctionName\": \"arn:aws:lambda:ca-central-1:142023388927:function:quetzal-immense:$LATEST\"\\n              },\\n              \"Retry\": [\\n                {\\n                  \"ErrorEquals\": [\\n                    \"Lambda.ServiceException\",\\n                    \"Lambda.SdkClientException\",\\n                    \"Lambda.TooManyRequestsException\"\\n                  ],\\n                  \"IntervalSeconds\": 2,\\n                  \"MaxAttempts\": 2,\\n                  \"BackoffRate\": 2\\n                },\\n                {\\n                  \"ErrorEquals\": [\\n                    \"Lambda.AWSLambdaException\"\\n                  ],\\n                  \"IntervalSeconds\": 30,\\n                  \"MaxAttempts\": 4,\\n                  \"BackoffRate\": 2\\n                }\\n              ],\\n              \"Next\": \"Pathfinder (pm)\"\\n            },\\n            \"Pathfinder (pm)\": {\\n              \"Type\": \"Task\",\\n              \"Resource\": \"arn:aws:states:::lambda:invoke\",\\n              \"OutputPath\": \"$.Payload\",\\n              \"Parameters\": {\\n                \"Payload\": {\\n                  \"notebook_path\": \"notebooks/2_model/C10_pathfinder.ipynb\",\\n                  \"scenario_path_S3\": \"pm/\",\\n                  \"launcher_arg\": {\\n                    \"training_folder\": \"/tmp\",\\n                    \"params\": {\\n                      \"general\": {\\n                        \"period\": \"pm\"\\n                      }\\n                    }\\n                  },\\n                  \"metadata.$\": \"$.metadata\"\\n                },\\n                \"FunctionName\": \"arn:aws:lambda:ca-central-1:142023388927:function:quetzal-immense:$LATEST\"\\n              },\\n              \"Retry\": [\\n                {\\n                  \"ErrorEquals\": [\\n                    \"Lambda.ServiceException\",\\n                    \"Lambda.SdkClientException\",\\n                    \"Lambda.TooManyRequestsException\"\\n                  ],\\n                  \"IntervalSeconds\": 2,\\n                  \"MaxAttempts\": 2,\\n                  \"BackoffRate\": 2\\n                },\\n                {\\n                  \"ErrorEquals\": [\\n                    \"Lambda.AWSLambdaException\"\\n                  ],\\n                  \"IntervalSeconds\": 30,\\n                  \"MaxAttempts\": 4,\\n                  \"BackoffRate\": 2\\n                }\\n              ],\\n              \"End\": true\\n            }\\n          }\\n        }\\n      ],\\n      \"Next\": \"Demand (all)\"\\n    },\\n    \"Demand (all)\": {\\n      \"Type\": \"Task\",\\n      \"Resource\": \"arn:aws:states:::lambda:invoke\",\\n      \"OutputPath\": \"$.Payload\",\\n      \"Parameters\": {\\n        \"Payload\": {\\n          \"notebook_path\": \"notebooks/2_model/D10_demand_model.ipynb\",\\n          \"scenario_path_S3\": \"orchestrator/\",\\n          \"launcher_arg\": {\\n            \"training_folder\": \"/tmp\",\\n            \"params\": {\\n              \"general\": {\\n                \"periods\": [\\n                  \"am\",\\n                  \"pm\"\\n                ]\\n              }\\n            }\\n          },\\n          \"metadata.$\": \"$[0].metadata\"\\n        },\\n        \"FunctionName\": \"arn:aws:lambda:ca-central-1:142023388927:function:quetzal-immense:$LATEST\"\\n      },\\n      \"Retry\": [\\n        {\\n          \"ErrorEquals\": [\\n            \"Lambda.ServiceException\",\\n            \"Lambda.SdkClientException\",\\n            \"Lambda.TooManyRequestsException\"\\n          ],\\n          \"IntervalSeconds\": 2,\\n          \"MaxAttempts\": 2,\\n          \"BackoffRate\": 2\\n        },\\n        {\\n          \"ErrorEquals\": [\\n            \"Lambda.AWSLambdaException\"\\n          ],\\n          \"IntervalSeconds\": 30,\\n          \"MaxAttempts\": 4,\\n          \"BackoffRate\": 2\\n        }\\n      ],\\n      \"End\": true\\n    }\\n  },\\n  \"Comment\": \"Quetzal Transit model\"\\n}',\n",
       " 'loggingConfiguration': {'__type': 'com.amazonaws.swf.base.model#LoggingConfiguration',\n",
       "  'includeExecutionData': False,\n",
       "  'level': 'OFF'},\n",
       " 'name': 'quetzal-immense',\n",
       " 'revisionId': 'a6432c59-a549-446e-9b8d-e40df4a675b9',\n",
       " 'roleArn': 'arn:aws:iam::142023388927:role/sfn-quetzal-immense-role',\n",
       " 'stateMachineArn': 'arn:aws:states:ca-central-1:142023388927:stateMachine:quetzal-immense',\n",
       " 'status': 'ACTIVE',\n",
       " 'tracingConfiguration': {'__type': 'com.amazonaws.swf.base.model#TracingConfiguration',\n",
       "  'enabled': False},\n",
       " 'type': 'STANDARD'}"
      ]
     },
     "execution_count": 170,
     "metadata": {},
     "output_type": "execute_result"
    }
   ],
   "source": [
    "resp.json()"
   ]
  },
  {
   "cell_type": "code",
   "execution_count": null,
   "id": "654a7e8f",
   "metadata": {},
   "outputs": [],
   "source": []
  },
  {
   "cell_type": "markdown",
   "id": "e2baeb2d",
   "metadata": {},
   "source": [
    "# start model"
   ]
  },
  {
   "cell_type": "markdown",
   "id": "318f2dc9",
   "metadata": {},
   "source": [
    "All parameters passed to the function or in params"
   ]
  },
  {
   "cell_type": "code",
   "execution_count": 144,
   "id": "fd46e915",
   "metadata": {},
   "outputs": [],
   "source": [
    "params = {\"param1\":\"test\",\"param2\":3}\n",
    "launcher_arg = {'training_folder': '/tmp','params': params}\n",
    "inputs = { \n",
    "        'scenario_path_S3': 'test/',\n",
    "        'choice':'default',\n",
    "        'launcher_arg': launcher_arg,\n",
    "        'metadata' : {\"user_email\": \"test@test.com\"}\n",
    "}\n",
    "inputs = json.dumps(inputs)"
   ]
  },
  {
   "cell_type": "code",
   "execution_count": 145,
   "id": "200ad42b",
   "metadata": {},
   "outputs": [
    {
     "data": {
      "text/plain": [
       "'{\"stateMachineArn\": \"arn:aws:states:ca-central-1:142023388927:stateMachine:quetzal-immense\", \"input\": \"{\\\\\"scenario_path_S3\\\\\": \\\\\"test/\\\\\", \\\\\"choice\\\\\": \\\\\"default\\\\\", \\\\\"launcher_arg\\\\\": {\\\\\"training_folder\\\\\": \\\\\"/tmp\\\\\", \\\\\"params\\\\\": {\\\\\"param1\\\\\": \\\\\"test\\\\\", \\\\\"param2\\\\\": 3}}, \\\\\"metadata\\\\\": {\\\\\"user_email\\\\\": \\\\\"test@test.com\\\\\"}}\"}'"
      ]
     },
     "execution_count": 145,
     "metadata": {},
     "output_type": "execute_result"
    }
   ],
   "source": [
    "data = { \"stateMachineArn\": stateMachineArn, 'input':inputs }\n",
    "data = json.dumps(data)\n",
    "data\n"
   ]
  },
  {
   "cell_type": "code",
   "execution_count": 146,
   "id": "8a4ba292",
   "metadata": {},
   "outputs": [
    {
     "data": {
      "text/plain": [
       "True"
      ]
     },
     "execution_count": 146,
     "metadata": {},
     "output_type": "execute_result"
    }
   ],
   "source": [
    "resp =  requests.post(url,data=data,headers=headers)\n",
    "resp.ok"
   ]
  },
  {
   "cell_type": "code",
   "execution_count": 147,
   "id": "e18a045e",
   "metadata": {},
   "outputs": [
    {
     "data": {
      "text/plain": [
       "{'executionArn': 'arn:aws:states:ca-central-1:142023388927:execution:quetzal-immense:6ebc2884-9ea1-4c3c-ae60-662d2668b6f4',\n",
       " 'startDate': 1707344201.299}"
      ]
     },
     "execution_count": 147,
     "metadata": {},
     "output_type": "execute_result"
    }
   ],
   "source": [
    "resp.json()"
   ]
  },
  {
   "cell_type": "code",
   "execution_count": 148,
   "id": "93341b13",
   "metadata": {},
   "outputs": [
    {
     "data": {
      "text/plain": [
       "'arn:aws:states:ca-central-1:142023388927:execution:quetzal-immense:6ebc2884-9ea1-4c3c-ae60-662d2668b6f4'"
      ]
     },
     "execution_count": 148,
     "metadata": {},
     "output_type": "execute_result"
    }
   ],
   "source": [
    "# get executionARN for polling\n",
    "resp.json()['executionArn']"
   ]
  },
  {
   "cell_type": "markdown",
   "id": "6959906f",
   "metadata": {},
   "source": [
    "# get status (polling)"
   ]
  },
  {
   "cell_type": "code",
   "execution_count": 149,
   "id": "9a6fcbe5",
   "metadata": {},
   "outputs": [
    {
     "data": {
      "text/plain": [
       "True"
      ]
     },
     "execution_count": 149,
     "metadata": {},
     "output_type": "execute_result"
    }
   ],
   "source": [
    "executionArn = resp.json()['executionArn']\n",
    "data = { \"executionArn\": executionArn }\n",
    "data=json.dumps(data, ensure_ascii=False).encode('utf-8')\n",
    "resp =  requests.post(url+'/describe',data=data,headers=headers)\n",
    "resp.ok"
   ]
  },
  {
   "cell_type": "code",
   "execution_count": 150,
   "id": "342bdc5f",
   "metadata": {},
   "outputs": [
    {
     "data": {
      "text/plain": [
       "{'executionArn': 'arn:aws:states:ca-central-1:142023388927:execution:quetzal-immense:6ebc2884-9ea1-4c3c-ae60-662d2668b6f4',\n",
       " 'input': '{\"scenario_path_S3\": \"test/\", \"choice\": \"default\", \"launcher_arg\": {\"training_folder\": \"/tmp\", \"params\": {\"param1\": \"test\", \"param2\": 3}}, \"metadata\": {\"user_email\": \"test@test.com\"}}',\n",
       " 'inputDetails': {'__type': 'com.amazonaws.swf.base.model#CloudWatchEventsExecutionDataDetails',\n",
       "  'included': True},\n",
       " 'name': '6ebc2884-9ea1-4c3c-ae60-662d2668b6f4',\n",
       " 'redriveCount': 0,\n",
       " 'redriveStatus': 'NOT_REDRIVABLE',\n",
       " 'redriveStatusReason': 'Execution is RUNNING and cannot be redriven',\n",
       " 'startDate': 1707344201.299,\n",
       " 'stateMachineArn': 'arn:aws:states:ca-central-1:142023388927:stateMachine:quetzal-immense',\n",
       " 'status': 'RUNNING',\n",
       " 'traceHeader': 'Root=1-65c40149-197befda2d91b3215bd9e39a;Sampled=1'}"
      ]
     },
     "execution_count": 150,
     "metadata": {},
     "output_type": "execute_result"
    }
   ],
   "source": [
    "resp.json()"
   ]
  },
  {
   "cell_type": "code",
   "execution_count": 151,
   "id": "88c367df",
   "metadata": {},
   "outputs": [
    {
     "data": {
      "text/plain": [
       "'RUNNING'"
      ]
     },
     "execution_count": 151,
     "metadata": {},
     "output_type": "execute_result"
    }
   ],
   "source": [
    "resp.json()['status']"
   ]
  },
  {
   "cell_type": "code",
   "execution_count": 152,
   "id": "5008b293",
   "metadata": {},
   "outputs": [
    {
     "name": "stdout",
     "output_type": "stream",
     "text": [
      "RUNNING\n",
      "RUNNING\n",
      "SUCCEEDED\n"
     ]
    }
   ],
   "source": [
    "import time\n",
    "\n",
    "status =  resp.json()['status']\n",
    "while status == 'RUNNING':\n",
    "    resp =  requests.post(url+'/describe',data=data,headers=headers)\n",
    "    status = resp.json()['status']\n",
    "    print(status)\n",
    "    time.sleep(2)"
   ]
  },
  {
   "cell_type": "code",
   "execution_count": null,
   "id": "8d4b879f",
   "metadata": {},
   "outputs": [],
   "source": []
  },
  {
   "cell_type": "markdown",
   "id": "2107d894",
   "metadata": {},
   "source": [
    "SUCCEEDED or ERROR"
   ]
  },
  {
   "cell_type": "markdown",
   "id": "70cc387a",
   "metadata": {},
   "source": [
    "# stop"
   ]
  },
  {
   "cell_type": "code",
   "execution_count": 30,
   "id": "03dd452f",
   "metadata": {},
   "outputs": [
    {
     "data": {
      "text/plain": [
       "'arn:aws:states:ca-central-1:142023388927:execution:quetzal-immense:dfb5ebf3-53f8-46e4-903d-0a906a467ba9'"
      ]
     },
     "execution_count": 30,
     "metadata": {},
     "output_type": "execute_result"
    }
   ],
   "source": [
    "executionArn"
   ]
  },
  {
   "cell_type": "code",
   "execution_count": 31,
   "id": "cf5c0950",
   "metadata": {},
   "outputs": [
    {
     "data": {
      "text/plain": [
       "True"
      ]
     },
     "execution_count": 31,
     "metadata": {},
     "output_type": "execute_result"
    }
   ],
   "source": [
    "data = { \"executionArn\": executionArn }\n",
    "data = json.dumps(data)\n",
    "resp =  requests.post(url+'/abort',data=data,headers=headers)\n",
    "resp.ok"
   ]
  },
  {
   "cell_type": "code",
   "execution_count": 32,
   "id": "1bc10a2c",
   "metadata": {},
   "outputs": [
    {
     "data": {
      "text/plain": [
       "{'stopDate': 1707245846.29}"
      ]
     },
     "execution_count": 32,
     "metadata": {},
     "output_type": "execute_result"
    }
   ],
   "source": [
    "resp.json()"
   ]
  },
  {
   "cell_type": "code",
   "execution_count": 33,
   "id": "304b8dd4",
   "metadata": {},
   "outputs": [
    {
     "data": {
      "text/plain": [
       "True"
      ]
     },
     "execution_count": 33,
     "metadata": {},
     "output_type": "execute_result"
    }
   ],
   "source": [
    "data = { \"executionArn\": executionArn }\n",
    "data=json.dumps(data, ensure_ascii=False).encode('utf-8')\n",
    "resp =  requests.post(url+'/describe',data=data,headers=headers)\n",
    "resp.ok"
   ]
  },
  {
   "cell_type": "code",
   "execution_count": 34,
   "id": "eca34075",
   "metadata": {},
   "outputs": [
    {
     "data": {
      "text/plain": [
       "{'executionArn': 'arn:aws:states:ca-central-1:142023388927:execution:quetzal-immense:dfb5ebf3-53f8-46e4-903d-0a906a467ba9',\n",
       " 'input': '{\"scenario_path_S3\": \"test/\", \"launcher_arg\": {\"training_folder\": \"/tmp\", \"params\": {\"param1\": \"test\", \"param2\": 3}}, \"metadata\": {\"user_email\": \"test@test.com\"}}',\n",
       " 'inputDetails': {'__type': 'com.amazonaws.swf.base.model#CloudWatchEventsExecutionDataDetails',\n",
       "  'included': True},\n",
       " 'name': 'dfb5ebf3-53f8-46e4-903d-0a906a467ba9',\n",
       " 'output': '{\"notebook_path\":\"notebooks/2_model/test.ipynb\",\"metadata\":{\"user_email\":\"test@test.com\"},\"scenario_path_S3\":\"test/\",\"launcher_arg\":{\"training_folder\":\"/tmp\",\"params\":{\"param1\":\"test\",\"param2\":3}}}',\n",
       " 'outputDetails': {'__type': 'com.amazonaws.swf.base.model#CloudWatchEventsExecutionDataDetails',\n",
       "  'included': True},\n",
       " 'redriveCount': 0,\n",
       " 'redriveStatus': 'NOT_REDRIVABLE',\n",
       " 'redriveStatusReason': 'Execution is SUCCEEDED and cannot be redriven',\n",
       " 'startDate': 1707245836.932,\n",
       " 'stateMachineArn': 'arn:aws:states:ca-central-1:142023388927:stateMachine:quetzal-immense',\n",
       " 'status': 'SUCCEEDED',\n",
       " 'stopDate': 1707245846.29,\n",
       " 'traceHeader': 'Root=1-65c2810c-4ef49dc21168a10b1c8acfd2;Sampled=1'}"
      ]
     },
     "execution_count": 34,
     "metadata": {},
     "output_type": "execute_result"
    }
   ],
   "source": [
    "resp.json()"
   ]
  },
  {
   "cell_type": "code",
   "execution_count": 35,
   "id": "fb64c242",
   "metadata": {},
   "outputs": [
    {
     "data": {
      "text/plain": [
       "'SUCCEEDED'"
      ]
     },
     "execution_count": 35,
     "metadata": {},
     "output_type": "execute_result"
    }
   ],
   "source": [
    "resp.json()['status'] # 'ABORTED' "
   ]
  },
  {
   "cell_type": "code",
   "execution_count": null,
   "id": "563d0618",
   "metadata": {},
   "outputs": [],
   "source": []
  },
  {
   "cell_type": "markdown",
   "id": "f735bd4e",
   "metadata": {},
   "source": [
    "# S3"
   ]
  },
  {
   "cell_type": "markdown",
   "id": "0d411d9a",
   "metadata": {},
   "source": [
    "# S3 structure"
   ]
  },
  {
   "cell_type": "markdown",
   "id": "fd7caf51",
   "metadata": {},
   "source": [
    "scenario/inputs/ <br>\n",
    "scenario/outputs/<br><br>"
   ]
  },
  {
   "cell_type": "code",
   "execution_count": 156,
   "id": "d3cecf2f",
   "metadata": {},
   "outputs": [],
   "source": []
  },
  {
   "cell_type": "code",
   "execution_count": 157,
   "id": "39e6f634",
   "metadata": {},
   "outputs": [],
   "source": [
    "session = boto3.Session(\n",
    "    region_name=REGION,\n",
    "    aws_access_key_id=ACCESS_KEY,\n",
    "    aws_secret_access_key=SECRET_KEY)\n",
    "\n",
    "s3 = session.client('s3')"
   ]
  },
  {
   "cell_type": "code",
   "execution_count": 158,
   "id": "3fcfc93d",
   "metadata": {},
   "outputs": [],
   "source": [
    "response = s3.list_objects_v2(Bucket=BUCKET)"
   ]
  },
  {
   "cell_type": "code",
   "execution_count": 159,
   "id": "c36be282",
   "metadata": {},
   "outputs": [
    {
     "data": {
      "text/plain": [
       "['demand/inputs/params.json',\n",
       " 'orchestrator/inputs/params.json',\n",
       " 'period 1/inputs/params.json',\n",
       " 'period 2/inputs/params.json',\n",
       " 'period 3/inputs/params.json',\n",
       " 'period 4/inputs/params.json',\n",
       " 'test/inputs/params.json',\n",
       " 'test/inputs/population.geojson',\n",
       " 'test/inputs/pt/links.geojson',\n",
       " 'test/inputs/pt/nodes.geojson',\n",
       " 'test/outputs/test.txt']"
      ]
     },
     "execution_count": 159,
     "metadata": {},
     "output_type": "execute_result"
    }
   ],
   "source": [
    "ls=[]\n",
    "for obj in response['Contents']:\n",
    "    ls.append(obj[\"Key\"])\n",
    "ls"
   ]
  },
  {
   "cell_type": "code",
   "execution_count": null,
   "id": "54ba3d58",
   "metadata": {},
   "outputs": [],
   "source": []
  },
  {
   "cell_type": "code",
   "execution_count": null,
   "id": "3290a678",
   "metadata": {},
   "outputs": [],
   "source": []
  }
 ],
 "metadata": {
  "kernelspec": {
   "display_name": "quetzal_env",
   "language": "python",
   "name": "quetzal_env"
  },
  "language_info": {
   "codemirror_mode": {
    "name": "ipython",
    "version": 3
   },
   "file_extension": ".py",
   "mimetype": "text/x-python",
   "name": "python",
   "nbconvert_exporter": "python",
   "pygments_lexer": "ipython3",
   "version": "3.8.6"
  }
 },
 "nbformat": 4,
 "nbformat_minor": 5
}
