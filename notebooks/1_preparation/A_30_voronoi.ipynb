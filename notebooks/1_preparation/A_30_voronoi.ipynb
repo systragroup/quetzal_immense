{
 "cells": [
  {
   "cell_type": "code",
   "execution_count": 46,
   "id": "641f8e6d",
   "metadata": {},
   "outputs": [],
   "source": [
    "import sys\n",
    "import os\n",
    "import time\n",
    "import geopandas as gpd\n",
    "import pandas as pd\n",
    "sys.path.insert(0, r'../../../quetzal') # Add path to quetzal\n",
    "import shapely\n",
    "import numpy as np\n",
    "import random\n",
    "import matplotlib.pyplot as plt\n",
    "from shapely.geometry import Point\n",
    "from typing import Tuple\n",
    "#from sklearn.cluster import KMeans\n",
    "from syspy.spatial.spatial import nearest, agglomerative_clustering, voronoi_diagram_dataframes, add_geometry_coordinates\n"
   ]
  },
  {
   "cell_type": "code",
   "execution_count": 47,
   "id": "5b882ff4",
   "metadata": {},
   "outputs": [],
   "source": [
    "zones = gpd.read_file('../../inputs/base/zones/zones.geojson')\n",
    "zones = zones.set_index('index')"
   ]
  },
  {
   "cell_type": "code",
   "execution_count": null,
   "id": "d54f595a",
   "metadata": {},
   "outputs": [],
   "source": []
  },
  {
   "cell_type": "code",
   "execution_count": 48,
   "id": "e56af1f9",
   "metadata": {},
   "outputs": [],
   "source": [
    "def round_geom(g, precision):\n",
    "    return shapely.geometry.Point([round(c, precision) for c in g.coords[0]])\n",
    "\n",
    "#zones['geometry'] = zones['geometry'].apply(lambda g: round_geom(g, 6))\n",
    "node_lists = zones.reset_index().groupby('geometry')['index'].agg(list).values"
   ]
  },
  {
   "cell_type": "code",
   "execution_count": 49,
   "id": "9d310656",
   "metadata": {},
   "outputs": [],
   "source": [
    "nodes = [l[0] for l in node_lists]"
   ]
  },
  {
   "cell_type": "code",
   "execution_count": 50,
   "id": "15e8c19e",
   "metadata": {},
   "outputs": [],
   "source": [
    "zones2 = zones.loc[nodes]"
   ]
  },
  {
   "cell_type": "code",
   "execution_count": null,
   "id": "b66a52e4",
   "metadata": {},
   "outputs": [],
   "source": []
  },
  {
   "cell_type": "code",
   "execution_count": null,
   "id": "eda9b561",
   "metadata": {},
   "outputs": [],
   "source": []
  },
  {
   "cell_type": "code",
   "execution_count": 53,
   "id": "cae56635",
   "metadata": {},
   "outputs": [
    {
     "name": "stderr",
     "output_type": "stream",
     "text": [
      "/home/boivin/.local/share/virtualenvs/quetzal-77-onnKO/lib/python3.8/site-packages/pandas/core/dtypes/cast.py:127: ShapelyDeprecationWarning: The array interface is deprecated and will no longer work in Shapely 2.0. Convert the '.coords' to a numpy array instead.\n",
      "  arr = construct_1d_object_array_from_listlike(values)\n"
     ]
    }
   ],
   "source": [
    "convex_hull = zones.unary_union.convex_hull.buffer(1e-2)\n",
    "voronoi = voronoi_diagram_dataframes(zones2['geometry'])\n",
    "voronoi = gpd.GeoDataFrame(voronoi[0],crs=4326)\n",
    "#voronoi = pd.merge(voronoi,zones[['production','attraction']],left_index=True,right_index=True)\n",
    "voronoi = voronoi.clip(convex_hull)\n",
    "#voronoi.to_file(output_folder + 'zones.geojson',driver='GeoJSON')\n"
   ]
  },
  {
   "cell_type": "code",
   "execution_count": 54,
   "id": "487ef14a",
   "metadata": {},
   "outputs": [
    {
     "data": {
      "text/html": [
       "<div>\n",
       "<style scoped>\n",
       "    .dataframe tbody tr th:only-of-type {\n",
       "        vertical-align: middle;\n",
       "    }\n",
       "\n",
       "    .dataframe tbody tr th {\n",
       "        vertical-align: top;\n",
       "    }\n",
       "\n",
       "    .dataframe thead th {\n",
       "        text-align: right;\n",
       "    }\n",
       "</style>\n",
       "<table border=\"1\" class=\"dataframe\">\n",
       "  <thead>\n",
       "    <tr style=\"text-align: right;\">\n",
       "      <th></th>\n",
       "      <th>geometry</th>\n",
       "    </tr>\n",
       "  </thead>\n",
       "  <tbody>\n",
       "    <tr>\n",
       "      <th>58</th>\n",
       "      <td>POLYGON ((-0.81991 51.58017, -0.85408 51.57889...</td>\n",
       "    </tr>\n",
       "    <tr>\n",
       "      <th>237</th>\n",
       "      <td>POLYGON ((-1.08012 51.64276, -1.08277 51.63091...</td>\n",
       "    </tr>\n",
       "    <tr>\n",
       "      <th>582</th>\n",
       "      <td>POLYGON ((-0.57366 51.70041, -0.53484 51.68333...</td>\n",
       "    </tr>\n",
       "    <tr>\n",
       "      <th>239</th>\n",
       "      <td>POLYGON ((-1.02079 51.67493, -0.97880 51.63987...</td>\n",
       "    </tr>\n",
       "    <tr>\n",
       "      <th>173</th>\n",
       "      <td>POLYGON ((-1.02520 51.68302, -1.02079 51.67493...</td>\n",
       "    </tr>\n",
       "    <tr>\n",
       "      <th>...</th>\n",
       "      <td>...</td>\n",
       "    </tr>\n",
       "    <tr>\n",
       "      <th>271</th>\n",
       "      <td>POLYGON ((-2.49074 53.36502, -2.35890 52.86722...</td>\n",
       "    </tr>\n",
       "    <tr>\n",
       "      <th>269</th>\n",
       "      <td>POLYGON ((-1.70322 52.85199, -1.77469 52.74898...</td>\n",
       "    </tr>\n",
       "    <tr>\n",
       "      <th>264</th>\n",
       "      <td>POLYGON ((-1.27671 52.91045, -1.35480 52.81158...</td>\n",
       "    </tr>\n",
       "    <tr>\n",
       "      <th>590</th>\n",
       "      <td>POLYGON ((-1.94338 53.80335, -2.16148 53.54472...</td>\n",
       "    </tr>\n",
       "    <tr>\n",
       "      <th>576</th>\n",
       "      <td>POLYGON ((-3.97379 55.04001, -3.91934 56.65345...</td>\n",
       "    </tr>\n",
       "  </tbody>\n",
       "</table>\n",
       "<p>707 rows × 1 columns</p>\n",
       "</div>"
      ],
      "text/plain": [
       "                                              geometry\n",
       "58   POLYGON ((-0.81991 51.58017, -0.85408 51.57889...\n",
       "237  POLYGON ((-1.08012 51.64276, -1.08277 51.63091...\n",
       "582  POLYGON ((-0.57366 51.70041, -0.53484 51.68333...\n",
       "239  POLYGON ((-1.02079 51.67493, -0.97880 51.63987...\n",
       "173  POLYGON ((-1.02520 51.68302, -1.02079 51.67493...\n",
       "..                                                 ...\n",
       "271  POLYGON ((-2.49074 53.36502, -2.35890 52.86722...\n",
       "269  POLYGON ((-1.70322 52.85199, -1.77469 52.74898...\n",
       "264  POLYGON ((-1.27671 52.91045, -1.35480 52.81158...\n",
       "590  POLYGON ((-1.94338 53.80335, -2.16148 53.54472...\n",
       "576  POLYGON ((-3.97379 55.04001, -3.91934 56.65345...\n",
       "\n",
       "[707 rows x 1 columns]"
      ]
     },
     "execution_count": 54,
     "metadata": {},
     "output_type": "execute_result"
    }
   ],
   "source": [
    "voronoi"
   ]
  },
  {
   "cell_type": "code",
   "execution_count": 58,
   "id": "6227aa93",
   "metadata": {},
   "outputs": [],
   "source": [
    "index_dict = nearest(voronoi,zones2).set_index('ix_one')['ix_many'].to_dict()\n",
    "voronoi.index = voronoi.index.map(index_dict.get)"
   ]
  },
  {
   "cell_type": "code",
   "execution_count": 61,
   "id": "adce8e54",
   "metadata": {},
   "outputs": [],
   "source": []
  },
  {
   "cell_type": "code",
   "execution_count": null,
   "id": "cda74c07",
   "metadata": {},
   "outputs": [],
   "source": []
  },
  {
   "cell_type": "code",
   "execution_count": 63,
   "id": "cc26ad0d",
   "metadata": {},
   "outputs": [],
   "source": [
    "zones['geometry'] = zones['geometry'].apply(lambda g: g.buffer(1e-3))"
   ]
  },
  {
   "cell_type": "code",
   "execution_count": 64,
   "id": "6cd13c07",
   "metadata": {},
   "outputs": [],
   "source": [
    "zones = zones.merge(voronoi,left_index=True,right_index=True,how='left')"
   ]
  },
  {
   "cell_type": "code",
   "execution_count": 65,
   "id": "68cb188c",
   "metadata": {},
   "outputs": [],
   "source": [
    "zones['geometry'] = zones['geometry_y'].fillna(zones['geometry_x'])"
   ]
  },
  {
   "cell_type": "code",
   "execution_count": 66,
   "id": "4d4459dc",
   "metadata": {},
   "outputs": [],
   "source": [
    "zones = zones.drop(columns=['geometry_x','geometry_y'])"
   ]
  },
  {
   "cell_type": "code",
   "execution_count": 67,
   "id": "a12f038b",
   "metadata": {},
   "outputs": [],
   "source": [
    "gpd.GeoDataFrame(zones).to_file('../../inputs/base/zones/voronoi.geojson',driver='GeoJSON')"
   ]
  },
  {
   "cell_type": "code",
   "execution_count": null,
   "id": "878a6286",
   "metadata": {},
   "outputs": [],
   "source": []
  },
  {
   "cell_type": "code",
   "execution_count": null,
   "id": "50bb728b",
   "metadata": {},
   "outputs": [],
   "source": []
  }
 ],
 "metadata": {
  "kernelspec": {
   "display_name": "quetzal_env",
   "language": "python",
   "name": "quetzal_env"
  },
  "language_info": {
   "codemirror_mode": {
    "name": "ipython",
    "version": 3
   },
   "file_extension": ".py",
   "mimetype": "text/x-python",
   "name": "python",
   "nbconvert_exporter": "python",
   "pygments_lexer": "ipython3",
   "version": "3.8.6"
  }
 },
 "nbformat": 4,
 "nbformat_minor": 5
}
