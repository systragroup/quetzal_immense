{
 "cells": [
  {
   "cell_type": "code",
   "execution_count": 59,
   "id": "ab2fc62e",
   "metadata": {},
   "outputs": [
    {
     "name": "stdout",
     "output_type": "stream",
     "text": [
      "{'training_folder': '../../scenarios/test', 'params': {}}\n"
     ]
    }
   ],
   "source": [
    "import sys\n",
    "import json\n",
    "\n",
    "params = {}\n",
    "default = {'training_folder': '../../scenarios/test', 'params':params} # Default execution parameters\n",
    "manual, argv = (True, default) if 'ipykernel' in sys.argv[0] else (False, dict(default, **json.loads(sys.argv[1])))\n",
    "print(argv)\n",
    "num_cores=4"
   ]
  },
  {
   "cell_type": "code",
   "execution_count": 60,
   "id": "b285a8ad",
   "metadata": {},
   "outputs": [],
   "source": [
    "import os\n",
    "import time\n",
    "import geopandas as gpd\n",
    "import pandas as pd\n",
    "sys.path.insert(0, r'../../../quetzal') # Add path to quetzal\n",
    "from shapely.geometry import LineString\n",
    "from numba import jit, njit\n",
    "import numba as nb\n",
    "from quetzal.model import stepmodel\n",
    "from quetzal.io.gtfs_reader.importer import get_epsg"
   ]
  },
  {
   "cell_type": "code",
   "execution_count": 61,
   "id": "d8073156",
   "metadata": {},
   "outputs": [],
   "source": [
    "base_folder = argv['training_folder']\n",
    "pt_folder = base_folder + '/inputs/pt/'\n",
    "road_folder = base_folder + '/inputs/road/'\n",
    "input_folder = base_folder +'/inputs/'\n",
    "od_folder = base_folder + '/inputs/od/'\n",
    "output_folder = base_folder +'/outputs/'\n",
    "if not os.path.exists(output_folder):\n",
    "    os.makedirs(output_folder)"
   ]
  },
  {
   "cell_type": "markdown",
   "id": "0ee6e13e",
   "metadata": {},
   "source": [
    "# intputs"
   ]
  },
  {
   "cell_type": "code",
   "execution_count": 62,
   "id": "c14ab860",
   "metadata": {},
   "outputs": [],
   "source": [
    "links = gpd.read_file(pt_folder + 'links.geojson') \n",
    "nodes = gpd.read_file(pt_folder + 'nodes.geojson')\n",
    "links = links.set_index('index')\n",
    "nodes = nodes.set_index('index')"
   ]
  },
  {
   "cell_type": "code",
   "execution_count": 67,
   "id": "090eba52",
   "metadata": {},
   "outputs": [],
   "source": [
    "rnodes = gpd.read_file(road_folder + 'road_nodes.geojson')\n",
    "rnodes = rnodes.set_index('index')\n",
    "rlinks = gpd.read_file(road_folder + 'road_links.geojson')\n",
    "rlinks = rlinks.set_index('index')"
   ]
  },
  {
   "cell_type": "code",
   "execution_count": 68,
   "id": "3291d773",
   "metadata": {},
   "outputs": [
    {
     "name": "stdout",
     "output_type": "stream",
     "text": [
      "remove road_links_list\n"
     ]
    }
   ],
   "source": [
    "# if already mapmatched. remove road_links_list (will be redone here)\n",
    "if 'road_link_list' in  links.columns:\n",
    "    print('remove road_links_list')\n",
    "    links = links.drop(columns = ['road_link_list'])"
   ]
  },
  {
   "cell_type": "code",
   "execution_count": 69,
   "id": "ef056a7b",
   "metadata": {},
   "outputs": [],
   "source": [
    "sm = stepmodel.StepModel(epsg=4326)\n",
    "sm.links = links\n",
    "sm.nodes = nodes\n",
    "sm.road_links = rlinks\n",
    "sm.road_nodes = rnodes"
   ]
  },
  {
   "cell_type": "markdown",
   "id": "1f92ff9b",
   "metadata": {},
   "source": [
    "# preparation"
   ]
  },
  {
   "cell_type": "code",
   "execution_count": 70,
   "id": "18db3075",
   "metadata": {},
   "outputs": [],
   "source": [
    "# keep only metro.\n",
    "bus = sm.copy()\n",
    "bus.links = bus.links[bus.links['route_type']=='bus']"
   ]
  },
  {
   "cell_type": "code",
   "execution_count": 71,
   "id": "54b60d7a",
   "metadata": {},
   "outputs": [],
   "source": [
    "centroid = [*LineString(bus.nodes.centroid.values).centroid.coords][0]\n",
    "crs = get_epsg(centroid[1],centroid[0])"
   ]
  },
  {
   "cell_type": "code",
   "execution_count": 72,
   "id": "f5b3a877",
   "metadata": {},
   "outputs": [
    {
     "name": "stderr",
     "output_type": "stream",
     "text": [
      "Reprojecting model from epsg 4326 to epsg 32618: 100%|█| 10/10 [00:02<00:00,  3.\n"
     ]
    }
   ],
   "source": [
    "bus = bus.change_epsg(crs,coordinates_unit='meter')"
   ]
  },
  {
   "cell_type": "markdown",
   "id": "af6368b9",
   "metadata": {},
   "source": [
    "# mapmatching"
   ]
  },
  {
   "cell_type": "code",
   "execution_count": 73,
   "id": "d0f0c50a",
   "metadata": {
    "scrolled": true
   },
   "outputs": [
    {
     "name": "stdout",
     "output_type": "stream",
     "text": [
      "0 / 100\n",
      "0 / 100\n",
      "0 / 100\n",
      "0 / 100\n",
      "0 / 2\n",
      "2 / 2\n",
      "20 / 100\n",
      "20 / 100\n",
      "20 / 100\n",
      "20 / 100\n",
      "40 / 100\n",
      "40 / 100\n",
      "40 / 100\n",
      "40 / 100\n",
      "60 / 100\n",
      "60 / 100\n",
      "60 / 100\n",
      "80 / 100\n",
      "60 / 100\n",
      "80 / 100\n",
      "80 / 100\n",
      "100 / 100\n",
      "100 / 100\n",
      "100 / 100\n",
      "80 / 100\n",
      "100 / 100\n"
     ]
    }
   ],
   "source": [
    "bus.preparation_map_matching(sequence='link_sequence',\n",
    "                             by='trip_id',\n",
    "                             routing=True,\n",
    "                             n_neighbors_centroid=25,\n",
    "                             n_neighbors=10,\n",
    "                             distance_max=3000,\n",
    "                             overwrite_geom=False,\n",
    "                             num_cores=num_cores)"
   ]
  },
  {
   "cell_type": "code",
   "execution_count": 74,
   "id": "c55a9699",
   "metadata": {},
   "outputs": [],
   "source": [
    "# only keep road_link_list.\n",
    "\n",
    "sm.links = sm.links.merge(bus.links[['road_link_list']],left_index=True,right_index=True,how='left')"
   ]
  },
  {
   "cell_type": "code",
   "execution_count": 75,
   "id": "380ffeb7",
   "metadata": {},
   "outputs": [],
   "source": [
    "sm.links['road_link_list'] = sm.links['road_link_list'].fillna('[]')"
   ]
  },
  {
   "cell_type": "code",
   "execution_count": 76,
   "id": "a3a55090",
   "metadata": {},
   "outputs": [],
   "source": [
    "sm.links['road_link_list'] = sm.links['road_link_list'].astype(str)"
   ]
  },
  {
   "cell_type": "markdown",
   "id": "0a12782a",
   "metadata": {},
   "source": [
    "# export"
   ]
  },
  {
   "cell_type": "code",
   "execution_count": 58,
   "id": "3b8c5497",
   "metadata": {},
   "outputs": [],
   "source": [
    "sm.links.to_file(pt_folder + 'links.geojson',driver='GeoJSON') \n"
   ]
  },
  {
   "cell_type": "code",
   "execution_count": null,
   "id": "d032df35",
   "metadata": {},
   "outputs": [],
   "source": []
  },
  {
   "cell_type": "code",
   "execution_count": null,
   "id": "b3a2c20b",
   "metadata": {},
   "outputs": [],
   "source": []
  }
 ],
 "metadata": {
  "kernelspec": {
   "display_name": "quetzal_env",
   "language": "python",
   "name": "quetzal_env"
  },
  "language_info": {
   "codemirror_mode": {
    "name": "ipython",
    "version": 3
   },
   "file_extension": ".py",
   "mimetype": "text/x-python",
   "name": "python",
   "nbconvert_exporter": "python",
   "pygments_lexer": "ipython3",
   "version": "3.8.6"
  }
 },
 "nbformat": 4,
 "nbformat_minor": 5
}
