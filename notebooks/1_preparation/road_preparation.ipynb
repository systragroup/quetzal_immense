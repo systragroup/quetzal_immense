{
 "cells": [
  {
   "cell_type": "code",
   "execution_count": 36,
   "id": "52b37ff0",
   "metadata": {},
   "outputs": [
    {
     "name": "stdout",
     "output_type": "stream",
     "text": [
      "{'training_folder': '../../scenarios/test', 'params': {}}\n"
     ]
    }
   ],
   "source": [
    "import sys\n",
    "import json\n",
    "\n",
    "params = {}\n",
    "default = {'training_folder': '../../scenarios/test', 'params':params} # Default execution parameters\n",
    "manual, argv = (True, default) if 'ipykernel' in sys.argv[0] else (False, dict(default, **json.loads(sys.argv[1])))\n",
    "print(argv)\n"
   ]
  },
  {
   "cell_type": "code",
   "execution_count": 37,
   "id": "a7c09a61",
   "metadata": {},
   "outputs": [],
   "source": [
    "import os\n",
    "import time\n",
    "import geopandas as gpd\n",
    "import pandas as pd\n",
    "sys.path.insert(0, r'../../../quetzal') # Add path to quetzal"
   ]
  },
  {
   "cell_type": "code",
   "execution_count": 38,
   "id": "848fe191",
   "metadata": {},
   "outputs": [],
   "source": [
    "base_folder = argv['training_folder']\n",
    "pt_folder = base_folder + '/inputs/pt/'\n",
    "road_folder = base_folder + '/inputs/road/'\n",
    "input_folder = base_folder +'/inputs/'\n",
    "od_folder = base_folder + '/inputs/od/'\n",
    "output_folder = base_folder +'/outputs/'\n",
    "if not os.path.exists(output_folder):\n",
    "    os.makedirs(output_folder)"
   ]
  },
  {
   "cell_type": "code",
   "execution_count": 39,
   "id": "83b35708",
   "metadata": {},
   "outputs": [],
   "source": [
    "from quetzal.engine.road_model import _reverse_geom\n",
    "def split_quenedi_rlinks(rlinks, oneway='0'):\n",
    "    if 'oneway' not in rlinks.columns:\n",
    "        print('no column oneway. do not split')\n",
    "        return\n",
    "    links_r = rlinks[rlinks['oneway']==oneway].copy()\n",
    "    if len(links_r) == 0:\n",
    "        print('all oneway, nothing to split')\n",
    "        return\n",
    "    # apply _r features to the normal non r features\n",
    "    r_cols = [col for col in links_r.columns if col.endswith('_r')]\n",
    "    cols = [col[:-2] for col in r_cols]\n",
    "    for col, r_col in zip(cols, r_cols):\n",
    "        links_r[col] = links_r[r_col]\n",
    "    # reindex with _r \n",
    "    links_r.index = links_r.index.astype(str) + '_r'\n",
    "    # reverse links (a=>b, b=>a)\n",
    "    links_r = links_r.rename(columns={'a': 'b', 'b': 'a'})\n",
    "    links_r['geometry'] = links_r['geometry'].apply(lambda g: _reverse_geom(g))\n",
    "    rlinks = pd.concat([rlinks, links_r])\n",
    "    rlinks = rlinks.drop(columns=r_cols)\n",
    "    return rlinks"
   ]
  },
  {
   "cell_type": "code",
   "execution_count": 40,
   "id": "a4a9e9d0",
   "metadata": {},
   "outputs": [],
   "source": [
    "rlinks = gpd.read_file(road_folder + 'road_links.geojson')\n",
    "rlinks = rlinks.set_index('index')"
   ]
  },
  {
   "cell_type": "code",
   "execution_count": 41,
   "id": "a4b79af9",
   "metadata": {},
   "outputs": [],
   "source": [
    "rlinks = split_quenedi_rlinks(rlinks)"
   ]
  },
  {
   "cell_type": "code",
   "execution_count": null,
   "id": "8c1c937e",
   "metadata": {},
   "outputs": [],
   "source": [
    "rlinks['oneway'] = '1'"
   ]
  },
  {
   "cell_type": "code",
   "execution_count": 48,
   "id": "fb772fdf",
   "metadata": {},
   "outputs": [],
   "source": [
    "rlinks.to_file(road_folder + 'road_links.geojson',driver='GeoJSON') \n"
   ]
  },
  {
   "cell_type": "code",
   "execution_count": null,
   "id": "6dff7872",
   "metadata": {},
   "outputs": [],
   "source": []
  },
  {
   "cell_type": "code",
   "execution_count": null,
   "id": "e6e49038",
   "metadata": {},
   "outputs": [],
   "source": []
  },
  {
   "cell_type": "code",
   "execution_count": 46,
   "id": "d400b6ce",
   "metadata": {},
   "outputs": [],
   "source": []
  },
  {
   "cell_type": "code",
   "execution_count": null,
   "id": "4e7fb9fe",
   "metadata": {},
   "outputs": [],
   "source": []
  },
  {
   "cell_type": "code",
   "execution_count": null,
   "id": "039a8ab0",
   "metadata": {},
   "outputs": [],
   "source": []
  }
 ],
 "metadata": {
  "kernelspec": {
   "display_name": "quetzal_env",
   "language": "python",
   "name": "quetzal_env"
  },
  "language_info": {
   "codemirror_mode": {
    "name": "ipython",
    "version": 3
   },
   "file_extension": ".py",
   "mimetype": "text/x-python",
   "name": "python",
   "nbconvert_exporter": "python",
   "pygments_lexer": "ipython3",
   "version": "3.8.6"
  }
 },
 "nbformat": 4,
 "nbformat_minor": 5
}
